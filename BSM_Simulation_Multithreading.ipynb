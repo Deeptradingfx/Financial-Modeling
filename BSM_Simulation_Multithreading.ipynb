{
 "cells": [
  {
   "cell_type": "code",
   "execution_count": 17,
   "metadata": {
    "collapsed": false
   },
   "outputs": [],
   "source": [
    "from math import exp\n",
    "from scipy import stats\n",
    "from numpy import *\n",
    "import matplotlib.pyplot as plt"
   ]
  },
  {
   "cell_type": "markdown",
   "metadata": {},
   "source": [
    "# Problem One"
   ]
  },
  {
   "cell_type": "markdown",
   "metadata": {},
   "source": [
    "## Hart: Cumulative Density Function"
   ]
  },
  {
   "cell_type": "code",
   "execution_count": 47,
   "metadata": {
    "collapsed": false
   },
   "outputs": [],
   "source": [
    "def caculateStandardNormalCDF(x):\n",
    "    \n",
    "    t = abs(x)\n",
    "    t1 = 7.07106781186547\n",
    "    t2 = 37\n",
    "    t3 = 2.506628274631\n",
    "    \n",
    "    a1 = 0.0352624965998911\n",
    "    a2 = 0.700383064443688\n",
    "    a3 = 6.37396220353165\n",
    "    a4 = 33.912866078383\n",
    "    a5 = 112.079291497871\n",
    "    a6 = 221.213596169931\n",
    "    a7 = 220.206867912376\n",
    "    b1 = 0.0883883476483184\n",
    "    b2 = 1.75566716318264\n",
    "    b3 = 16.064177579207\n",
    "    b4 = 86.7807322029461\n",
    "    b5 = 296.564248779674\n",
    "    b6 = 637.333633378831\n",
    "    b7 = 793.826512519948\n",
    "    b8 = 440.413735824752\n",
    "    \n",
    "    A = ((((((a1*t+a2)*t+a3)*t+a4)*t+a5)*t+a6)*t+a7)\n",
    "    B = (((((((b1*t+b2)*t+b3)*t + b4)*t + b5)*t + b6)*t + b7)*t + b8)\n",
    "    C = (t+1)/(t + 2/(t + 3/(t + 4/(t + 0.65))))\n",
    "    \n",
    "    if t<t1:\n",
    "        N = exp(-1*(t**2/2))*(A/B)\n",
    "    elif t1<=t<=t2:\n",
    "        N = exp(-1*t**2/2)*1/(t3*C)\n",
    "    else:\n",
    "        N = 0\n",
    "    \n",
    "    if x<0:\n",
    "        return N\n",
    "    else:\n",
    "        return 1-N"
   ]
  },
  {
   "cell_type": "markdown",
   "metadata": {},
   "source": [
    "## Test"
   ]
  },
  {
   "cell_type": "code",
   "execution_count": 51,
   "metadata": {
    "collapsed": false
   },
   "outputs": [],
   "source": [
    "def main():\n",
    "    x1 = -0.02\n",
    "    x2 = -0.8\n",
    "    x3 = 0.182\n",
    "    x =  [x1,x2,x3]\n",
    "    for i in range(len(x)):\n",
    "        if caculateStandardNormalCDF(x[i])==stats.norm.cdf(x[i]):\n",
    "            print(\"Well done!\")"
   ]
  },
  {
   "cell_type": "code",
   "execution_count": 52,
   "metadata": {
    "collapsed": false
   },
   "outputs": [
    {
     "name": "stdout",
     "output_type": "stream",
     "text": [
      "Well done!\n",
      "Well done!\n",
      "Well done!\n"
     ]
    }
   ],
   "source": [
    "main()"
   ]
  },
  {
   "cell_type": "markdown",
   "metadata": {},
   "source": [
    "## Multithreading"
   ]
  },
  {
   "cell_type": "code",
   "execution_count": 54,
   "metadata": {
    "collapsed": false
   },
   "outputs": [],
   "source": [
    "import threading\n",
    "import time\n",
    "\n",
    "def addHarmonicSeries(n):\n",
    "    sum=0.0\n",
    "    for i in range(1,n):\n",
    "        sum=sum + 1.0/i\n",
    "        print('{:5d} {:12.6f}'.format(i, sum))\n",
    "    start_time = time.clock()\n",
    "    no_thread = 100\n",
    "    for i in range(no_thread):\n",
    "        t = threading.Thread(target=addHarmonicSeries, args=(i,))\n",
    "        t.start()\n",
    "        print(\"\\n-->\"+t.getName() + \"\\n\")\n",
    "        time.sleep(1)\n",
    "\n",
    "\n",
    "    print (\"\\n The main stread stops after {}\".format(time.clock()-start_time)+\" seconds\")"
   ]
  },
  {
   "cell_type": "markdown",
   "metadata": {},
   "source": [
    "# Problem Two"
   ]
  },
  {
   "cell_type": "markdown",
   "metadata": {},
   "source": [
    "## Monte Carlo Simulation with BSM model"
   ]
  },
  {
   "cell_type": "code",
   "execution_count": 2,
   "metadata": {
    "collapsed": true
   },
   "outputs": [],
   "source": [
    "def mc_pricing(S, K, T, r, sigma, option_type, no_trial):\n",
    "    random.seed(10000)\n",
    "    z = random.standard_normal(no_trial)\n",
    "    ## stock price at Time T\n",
    "    ST = S * exp( (r - 0.5 * sigma**2) * T+ sigma * sqrt(T) * z)\n",
    "    if option_type == 'call':\n",
    "        payoff = maximum(ST - K,0)\n",
    "        eu_call_price = exp(-r*T)*sum(payoff)/no_trial\n",
    "        return eu_call_price\n",
    "    else:\n",
    "        payoff = maximum(K - ST,0)\n",
    "        eu_put_price = exp(-r*T)*sum(payoff)/no_trial\n",
    "        return eu_put_price"
   ]
  },
  {
   "cell_type": "markdown",
   "metadata": {},
   "source": [
    "**An European call with continuous dividend yield:**"
   ]
  },
  {
   "cell_type": "code",
   "execution_count": 3,
   "metadata": {
    "collapsed": false
   },
   "outputs": [
    {
     "data": {
      "text/plain": [
       "0.15563938348904677"
      ]
     },
     "execution_count": 3,
     "metadata": {},
     "output_type": "execute_result"
    }
   ],
   "source": [
    "no_trial = 10**7\n",
    "S = 50\n",
    "K = 80,\n",
    "r = 0.1\n",
    "T = 5/12\n",
    "sigma = 0.35\n",
    "option_type = 'call'\n",
    "mc_pricing(S, K, T, r, sigma, option_type, no_trial)"
   ]
  },
  {
   "cell_type": "markdown",
   "metadata": {},
   "source": [
    "**An European put option on stock indexes with a cost-of-carry:**"
   ]
  },
  {
   "cell_type": "code",
   "execution_count": 4,
   "metadata": {
    "collapsed": false
   },
   "outputs": [
    {
     "data": {
      "text/plain": [
       "1.1300063772351197"
      ]
     },
     "execution_count": 4,
     "metadata": {},
     "output_type": "execute_result"
    }
   ],
   "source": [
    "S = 80\n",
    "K = 75\n",
    "r = 0.1\n",
    "T = 5/12\n",
    "sigma = 0.20\n",
    "option_type = 'put'\n",
    "mc_pricing(S, K, T, r, sigma, option_type, no_trial)"
   ]
  },
  {
   "cell_type": "code",
   "execution_count": 21,
   "metadata": {
    "collapsed": false
   },
   "outputs": [],
   "source": [
    "def mc_pricing_all(S, K, T, r, sigma, option_type, no_trial):\n",
    "    random.seed(10000)\n",
    "    z = random.standard_normal(no_trial)\n",
    "    ## stock price at Time T\n",
    "    ST = S * exp( (r - 0.5 * sigma**2) * T+ sigma * sqrt(T) * z)\n",
    "    eu_call_price_list = []\n",
    "    eu_put_price_list = []\n",
    "    if option_type == 'call':\n",
    "        payoff = maximum(ST - K,0)\n",
    "        eu_call_price = exp(-r*T)*payoff\n",
    "        eu_call_price_list.append(eu_call_price)\n",
    "        return eu_call_price_list\n",
    "    else:\n",
    "        payoff = maximum(K - ST,0)\n",
    "        eu_put_price = exp(-r*T)*payoff\n",
    "        eu_put_price_list.append(eu_put_price)\n",
    "        return eu_put_price_list"
   ]
  },
  {
   "cell_type": "code",
   "execution_count": null,
   "metadata": {
    "collapsed": false
   },
   "outputs": [],
   "source": [
    "no_trial = 10**7\n",
    "S = 50\n",
    "K = 80,\n",
    "r = 0.1\n",
    "T = 5/12\n",
    "sigma = 0.35\n",
    "option_type = 'call'\n",
    "eu_call_price_list = mc_pricing_all(S, K, T, r, sigma, option_type, no_trial)\n",
    "plot(eu_call_price_list)"
   ]
  },
  {
   "cell_type": "code",
   "execution_count": 5,
   "metadata": {
    "collapsed": false
   },
   "outputs": [],
   "source": [
    "no_trial = 10**7\n",
    "no_trial_2 = 10**6\n",
    "no_trial_3 = 10**8\n",
    "no_trial_4 =  10**5\n",
    "no_trial_5 = 10**4\n",
    "S = 50\n",
    "K = 80,\n",
    "r = 0.1\n",
    "T = 5/12\n",
    "sigma = 0.35\n",
    "option_type = 'call'\n",
    "call_1 = mc_pricing(S, K, T, r, sigma, option_type, no_trial)\n",
    "call_2 = mc_pricing(S, K, T, r, sigma, option_type, no_trial_2)\n",
    "call_3 = mc_pricing(S, K, T, r, sigma, option_type, no_trial_3)\n",
    "call_4 = mc_pricing(S, K, T, r, sigma, option_type, no_trial_4)\n",
    "call_5 = mc_pricing(S, K, T, r, sigma, option_type, no_trial_5)"
   ]
  },
  {
   "cell_type": "code",
   "execution_count": 10,
   "metadata": {
    "collapsed": false
   },
   "outputs": [
    {
     "data": {
      "text/plain": [
       "[<matplotlib.lines.Line2D at 0xcc003f9f28>]"
      ]
     },
     "execution_count": 10,
     "metadata": {},
     "output_type": "execute_result"
    },
    {
     "data": {
      "image/png": "[encoded data removed]",
      "text/plain": [
       "<matplotlib.figure.Figure at 0xcc37ee3d68>"
      ]
     },
     "metadata": {},
     "output_type": "display_data"
    }
   ],
   "source": [
    "%matplotlib inline\n",
    "from pylab import *\n",
    "call_list = [call_1,call_2,call_3,call_4,call_5]\n",
    "x_axis = [1,2,3,4,5]\n",
    "plot(x_axis,call_list)"
   ]
  },
  {
   "cell_type": "markdown",
   "metadata": {},
   "source": [
    "## Simulation with Threading??"
   ]
  },
  {
   "cell_type": "code",
   "execution_count": null,
   "metadata": {
    "collapsed": true
   },
   "outputs": [],
   "source": []
  },
  {
   "cell_type": "markdown",
   "metadata": {},
   "source": [
    "# Problem Three"
   ]
  },
  {
   "cell_type": "markdown",
   "metadata": {},
   "source": [
    "## Black-Scholes Development"
   ]
  },
  {
   "cell_type": "code",
   "execution_count": 26,
   "metadata": {
    "collapsed": true
   },
   "outputs": [],
   "source": [
    "def bs_pricing(S,K,T,r,sigma,option_type):\n",
    "\n",
    "    if option_type == 'call':\n",
    "        d1 = (log(S/K) + (r + 0.5 * sigma ** 2) * T)/ ( sigma * sqrt(T))\n",
    "        d2 = d1 - sigma * sqrt(T)\n",
    "        N_d1 = stats.norm.cdf(d1, 0.0, 1.0)\n",
    "        N_d2 = stats.norm.cdf(d2, 0.0, 1.0)\n",
    "        call_price = (S * N_d1 - K* exp(-r * T)* N_d2)\n",
    "        print(\"This European call price is: ${:20.16f}\".format(call_price))\n",
    "    else:\n",
    "        d1 = (log(S/K) + (r + 0.5 * sigma ** 2) * T)/ ( sigma * sqrt(T))\n",
    "        d2 = d1 - sigma * sqrt(T)\n",
    "        N_d2 = stats.norm.cdf(-d2, 0.0, 1.0)\n",
    "        N_d1 = stats.norm.cdf(-d1, 0.0, 1.0)\n",
    "        put_price = K* exp(-r * T)* N_d2 - S * N_d1\n",
    "        print(\"This European put price is: ${:20.16f}\".format(put_price))"
   ]
  },
  {
   "cell_type": "markdown",
   "metadata": {},
   "source": [
    "## Test"
   ]
  },
  {
   "cell_type": "code",
   "execution_count": 27,
   "metadata": {
    "collapsed": false
   },
   "outputs": [
    {
     "name": "stdout",
     "output_type": "stream",
     "text": [
      "This European put price is: $  1.1196098062956548\n"
     ]
    }
   ],
   "source": [
    "S = 102.5 \n",
    "K = 88.5\n",
    "r = 0.03\n",
    "T = 0.25\n",
    "sigma= 0.3\n",
    "option_type= 'put'\n",
    "bs_pricing(S,K,T,r,sigma,option_type)"
   ]
  },
  {
   "cell_type": "code",
   "execution_count": 28,
   "metadata": {
    "collapsed": false
   },
   "outputs": [
    {
     "name": "stdout",
     "output_type": "stream",
     "text": [
      "This European call price is: $  1.7288248467919196\n"
     ]
    }
   ],
   "source": [
    "S = 89.0 \n",
    "K = 100.0\n",
    "T = 0.5\n",
    "r = 0.02\n",
    "sigma = 0.20\n",
    "option_type = 'call'\n",
    "bs_pricing(S,K,T,r,sigma,option_type)"
   ]
  },
  {
   "cell_type": "markdown",
   "metadata": {},
   "source": [
    "## Correct"
   ]
  },
  {
   "cell_type": "markdown",
   "metadata": {},
   "source": [
    "## BS model with divident and cost of carry "
   ]
  },
  {
   "cell_type": "code",
   "execution_count": 37,
   "metadata": {
    "collapsed": true
   },
   "outputs": [],
   "source": [
    "def bsm_pricing(S,K,T,r,sigma,q,option_type):\n",
    "\n",
    "    ##q: divident yield\n",
    "\n",
    "    if option_type == 'call':\n",
    "        d1 = (log(S/K) + (r + 0.5 * sigma ** 2) * T)/ ( sigma * sqrt(T))\n",
    "        d2 = d1 - sigma * sqrt(T)\n",
    "        N_d1 = stats.norm.cdf(d1, 0.0, 1.0)\n",
    "        N_d2 = stats.norm.cdf(d2, 0.0, 1.0)\n",
    "        call_price = S*exp(-q*T)*N_d1 - K*exp(-r * T) * N_d2\n",
    "        print(\"This European call price is: ${:20.16f}\".format(call_price))\n",
    "    else:\n",
    "        d1 = (log(S/K) + (r + 0.5 * sigma ** 2) * T)/ ( sigma * sqrt(T))\n",
    "        d2 = d1 - sigma * sqrt(T)\n",
    "        N_d2 = stats.norm.cdf(-d2, 0.0, 1.0)\n",
    "        N_d1 = stats.norm.cdf(-d1, 0.0, 1.0)\n",
    "        put_price = -S*exp(-q*T)*N_d1 + K*exp(-r * T) * N_d2\n",
    "        print(\"This European put price is: ${:20.16f}\".format(put_price))\n",
    "\n"
   ]
  },
  {
   "cell_type": "markdown",
   "metadata": {},
   "source": [
    "**An European call with continuous dividend yield:**"
   ]
  },
  {
   "cell_type": "code",
   "execution_count": 38,
   "metadata": {
    "collapsed": false
   },
   "outputs": [
    {
     "name": "stdout",
     "output_type": "stream",
     "text": [
      "This European call price is: $  0.1171189179414789\n"
     ]
    }
   ],
   "source": [
    "S = 50\n",
    "K = 80\n",
    "r = 0.1\n",
    "sigma = 0.35\n",
    "T = 5/12\n",
    "q = 0.05\n",
    "option_type = 'call'\n",
    "bsm_pricing(S, K, T, r, sigma, q,option_type)"
   ]
  },
  {
   "cell_type": "markdown",
   "metadata": {},
   "source": [
    "** An European put option on stock indexes with a cost-of-carry:**"
   ]
  },
  {
   "cell_type": "code",
   "execution_count": 39,
   "metadata": {
    "collapsed": false
   },
   "outputs": [
    {
     "name": "stdout",
     "output_type": "stream",
     "text": [
      "This European put price is: $  1.5607311841219147\n"
     ]
    }
   ],
   "source": [
    "S = 80\n",
    "K = 75\n",
    "r = 0.1\n",
    "T = 5/12\n",
    "sigma = 0.20\n",
    "q = 0.07\n",
    "option_type = 'put'\n",
    "bsm_pricing(S, K, T, r, sigma, q,option_type)"
   ]
  }
 ],
 "metadata": {
  "anaconda-cloud": {},
  "kernelspec": {
   "display_name": "Python [Root]",
   "language": "python",
   "name": "Python [Root]"
  },
  "language_info": {
   "codemirror_mode": {
    "name": "ipython",
    "version": 3
   },
   "file_extension": ".py",
   "mimetype": "text/x-python",
   "name": "python",
   "nbconvert_exporter": "python",
   "pygments_lexer": "ipython3",
   "version": "3.5.2"
  }
 },
 "nbformat": 4,
 "nbformat_minor": 0
}
