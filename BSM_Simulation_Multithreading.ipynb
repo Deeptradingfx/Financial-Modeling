{
 "cells": [
  {
   "cell_type": "code",
   "execution_count": 7,
   "metadata": {
    "collapsed": false
   },
   "outputs": [],
   "source": [
    "from math import exp\n",
    "from scipy import stats\n",
    "from numpy import *\n",
    "import matplotlib.pyplot as plt"
   ]
  },
  {
   "cell_type": "markdown",
   "metadata": {},
   "source": [
    "## Hart: Cumulative Density Function"
   ]
  },
  {
   "cell_type": "code",
   "execution_count": 47,
   "metadata": {
    "collapsed": false
   },
   "outputs": [],
   "source": [
    "def caculateStandardNormalCDF(x):\n",
    "    \n",
    "    t = abs(x)\n",
    "    t1 = 7.07106781186547\n",
    "    t2 = 37\n",
    "    t3 = 2.506628274631\n",
    "    \n",
    "    a1 = 0.0352624965998911\n",
    "    a2 = 0.700383064443688\n",
    "    a3 = 6.37396220353165\n",
    "    a4 = 33.912866078383\n",
    "    a5 = 112.079291497871\n",
    "    a6 = 221.213596169931\n",
    "    a7 = 220.206867912376\n",
    "    b1 = 0.0883883476483184\n",
    "    b2 = 1.75566716318264\n",
    "    b3 = 16.064177579207\n",
    "    b4 = 86.7807322029461\n",
    "    b5 = 296.564248779674\n",
    "    b6 = 637.333633378831\n",
    "    b7 = 793.826512519948\n",
    "    b8 = 440.413735824752\n",
    "    \n",
    "    A = ((((((a1*t+a2)*t+a3)*t+a4)*t+a5)*t+a6)*t+a7)\n",
    "    B = (((((((b1*t+b2)*t+b3)*t + b4)*t + b5)*t + b6)*t + b7)*t + b8)\n",
    "    C = (t+1)/(t + 2/(t + 3/(t + 4/(t + 0.65))))\n",
    "    \n",
    "    if t<t1:\n",
    "        N = exp(-1*(t**2/2))*(A/B)\n",
    "    elif t1<=t<=t2:\n",
    "        N = exp(-1*t**2/2)*1/(t3*C)\n",
    "    else:\n",
    "        N = 0\n",
    "    \n",
    "    if x<0:\n",
    "        return N\n",
    "    else:\n",
    "        return 1-N"
   ]
  },
  {
   "cell_type": "markdown",
   "metadata": {},
   "source": [
    "## Test"
   ]
  },
  {
   "cell_type": "code",
   "execution_count": 51,
   "metadata": {
    "collapsed": false
   },
   "outputs": [],
   "source": [
    "def main():\n",
    "    x1 = -0.02\n",
    "    x2 = -0.8\n",
    "    x3 = 0.182\n",
    "    x =  [x1,x2,x3]\n",
    "    for i in range(len(x)):\n",
    "        if caculateStandardNormalCDF(x[i])==stats.norm.cdf(x[i]):\n",
    "            print(\"Well done!\")"
   ]
  },
  {
   "cell_type": "code",
   "execution_count": 52,
   "metadata": {
    "collapsed": false
   },
   "outputs": [
    {
     "name": "stdout",
     "output_type": "stream",
     "text": [
      "Well done!\n",
      "Well done!\n",
      "Well done!\n"
     ]
    }
   ],
   "source": [
    "main()"
   ]
  },
  {
   "cell_type": "markdown",
   "metadata": {},
   "source": [
    "## Multithreading"
   ]
  },
  {
   "cell_type": "code",
   "execution_count": 54,
   "metadata": {
    "collapsed": false
   },
   "outputs": [],
   "source": [
    "import threading\n",
    "import time\n",
    "\n",
    "def addHarmonicSeries(n):\n",
    "    sum=0.0\n",
    "    for i in range(1,n):\n",
    "        sum=sum + 1.0/i\n",
    "        print('{:5d} {:12.6f}'.format(i, sum))\n",
    "    start_time = time.clock()\n",
    "    no_thread = 100\n",
    "    for i in range(no_thread):\n",
    "        t = threading.Thread(target=addHarmonicSeries, args=(i,))\n",
    "        t.start()\n",
    "        print(\"\\n-->\"+t.getName() + \"\\n\")\n",
    "        time.sleep(1)\n",
    "\n",
    "\n",
    "    print (\"\\n The main stread stops after {}\".format(time.clock()-start_time)+\" seconds\")"
   ]
  },
  {
   "cell_type": "markdown",
   "metadata": {},
   "source": [
    "## Monte Carlo Simulation with BSM model"
   ]
  },
  {
   "cell_type": "code",
   "execution_count": 34,
   "metadata": {
    "collapsed": false
   },
   "outputs": [],
   "source": [
    "def mc_pricing(S, K, T, r, sigma, option_type, no_trial):\n",
    "    random.seed(10000)\n",
    "    z = random.standard_normal(no_trial)\n",
    "    ## stock price at Time T\n",
    "    ST = S * exp( (r - 0.5 * sigma**2) * T+ sigma * sqrt(T) * z)\n",
    "    if option_type == 'call':\n",
    "        payoff = maximum(ST - K,0)\n",
    "        eu_call_price = exp(-r*T)*sum(payoff)/no_trial\n",
    "        return eu_call_price\n",
    "    else:\n",
    "        payoff = maximum(K - ST,0)\n",
    "        eu_put_price = exp(-r*T)*sum(payoff)/no_trial\n",
    "        return eu_put_price"
   ]
  },
  {
   "cell_type": "markdown",
   "metadata": {},
   "source": [
    "**An European call with continuous dividend yield:**"
   ]
  },
  {
   "cell_type": "code",
   "execution_count": 35,
   "metadata": {
    "collapsed": false
   },
   "outputs": [
    {
     "data": {
      "text/plain": [
       "0.15563938348904677"
      ]
     },
     "execution_count": 35,
     "metadata": {},
     "output_type": "execute_result"
    }
   ],
   "source": [
    "no_trial = 10**7\n",
    "S = 50\n",
    "K = 80,\n",
    "r = 0.1\n",
    "T = 5/12\n",
    "sigma = 0.35\n",
    "option_type = 'call'\n",
    "mc_pricing(S, K, T, r, sigma, option_type, no_trial)"
   ]
  },
  {
   "cell_type": "markdown",
   "metadata": {},
   "source": [
    "**An European put option on stock indexes with a cost-of-carry:**"
   ]
  },
  {
   "cell_type": "code",
   "execution_count": 36,
   "metadata": {
    "collapsed": false
   },
   "outputs": [
    {
     "data": {
      "text/plain": [
       "1.1300063772351197"
      ]
     },
     "execution_count": 36,
     "metadata": {},
     "output_type": "execute_result"
    }
   ],
   "source": [
    "S = 80\n",
    "K = 75\n",
    "r = 0.1\n",
    "T = 5/12\n",
    "sigma = 0.20\n",
    "option_type = 'put'\n",
    "mc_pricing(S, K, T, r, sigma, option_type, no_trial)"
   ]
  },
  {
   "cell_type": "code",
   "execution_count": 37,
   "metadata": {
    "collapsed": false
   },
   "outputs": [],
   "source": [
    "no_trial = 10**7\n",
    "no_trial_2 = 10**6\n",
    "no_trial_3 = 10**8\n",
    "no_trial_4 =  10**5\n",
    "no_trial_5 = 10**4\n",
    "S = 50\n",
    "K = 80,\n",
    "r = 0.1\n",
    "T = 5/12\n",
    "sigma = 0.35\n",
    "option_type = 'call'\n",
    "call_1 = mc_pricing(S, K, T, r, sigma, option_type, no_trial)\n",
    "call_2 = mc_pricing(S, K, T, r, sigma, option_type, no_trial_2)\n",
    "call_3 = mc_pricing(S, K, T, r, sigma, option_type, no_trial_3)\n",
    "call_4 = mc_pricing(S, K, T, r, sigma, option_type, no_trial_4)\n",
    "call_5 = mc_pricing(S, K, T, r, sigma, option_type, no_trial_5)"
   ]
  },
  {
   "cell_type": "code",
   "execution_count": 42,
   "metadata": {
    "collapsed": false
   },
   "outputs": [
    {
     "data": {
      "text/plain": [
       "(array([ 1.,  0.,  0.,  0.,  0.,  0.,  0.,  0.,  0.,  0.,  0.,  0.,  0.,\n",
       "         0.,  0.,  0.,  1.,  0.,  0.,  3.]),\n",
       " array([ 0.1439722 ,  0.14456041,  0.14514862,  0.14573683,  0.14632503,\n",
       "         0.14691324,  0.14750145,  0.14808966,  0.14867787,  0.14926608,\n",
       "         0.14985429,  0.1504425 ,  0.1510307 ,  0.15161891,  0.15220712,\n",
       "         0.15279533,  0.15338354,  0.15397175,  0.15455996,  0.15514817,\n",
       "         0.15573637]),\n",
       " <a list of 20 Patch objects>)"
      ]
     },
     "execution_count": 42,
     "metadata": {},
     "output_type": "execute_result"
    },
    {
     "data": {
      "image/png": "[encoded data removed]",
      "text/plain": [
       "<matplotlib.figure.Figure at 0x48304f61d0>"
      ]
     },
     "metadata": {},
     "output_type": "display_data"
    }
   ],
   "source": [
    "%matplotlib inline\n",
    "call_list = [call_1,call_2,call_3,call_4,call_5]\n",
    "plt.hist(call_list,bins = 20)"
   ]
  },
  {
   "cell_type": "markdown",
   "metadata": {},
   "source": [
    "## Simulation with Threading??"
   ]
  },
  {
   "cell_type": "code",
   "execution_count": null,
   "metadata": {
    "collapsed": true
   },
   "outputs": [],
   "source": []
  },
  {
   "cell_type": "markdown",
   "metadata": {},
   "source": [
    "## BS model "
   ]
  },
  {
   "cell_type": "code",
   "execution_count": null,
   "metadata": {
    "collapsed": true
   },
   "outputs": [],
   "source": []
  }
 ],
 "metadata": {
  "anaconda-cloud": {},
  "kernelspec": {
   "display_name": "Python [Root]",
   "language": "python",
   "name": "Python [Root]"
  },
  "language_info": {
   "codemirror_mode": {
    "name": "ipython",
    "version": 3
   },
   "file_extension": ".py",
   "mimetype": "text/x-python",
   "name": "python",
   "nbconvert_exporter": "python",
   "pygments_lexer": "ipython3",
   "version": "3.5.2"
  }
 },
 "nbformat": 4,
 "nbformat_minor": 0
}
