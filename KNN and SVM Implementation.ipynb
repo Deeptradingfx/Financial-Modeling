{
 "cells": [
  {
   "cell_type": "code",
   "execution_count": 1,
   "metadata": {
    "collapsed": true
   },
   "outputs": [],
   "source": [
    "from sklearn import neighbors\n",
    "import numpy as np\n",
    "import matplotlib.pyplot as plt\n",
    "from matplotlib.colors import ListedColormap\n",
    "from sklearn import neighbors\n",
    "from sklearn.datasets import load_iris\n",
    "import time\n",
    "import seaborn as sb\n",
    "from sklearn.neighbors import KNeighborsRegressor"
   ]
  },
  {
   "cell_type": "code",
   "execution_count": 2,
   "metadata": {
    "collapsed": true
   },
   "outputs": [],
   "source": [
    "training_data = [[10],[11],[12],[30],[40],[88]]\n",
    "training_label = [0,0,0,1,1,1]"
   ]
  },
  {
   "cell_type": "code",
   "execution_count": 3,
   "metadata": {
    "collapsed": false
   },
   "outputs": [
    {
     "data": {
      "text/plain": [
       "KNeighborsClassifier(algorithm='auto', leaf_size=30, metric='minkowski',\n",
       "           metric_params=None, n_jobs=1, n_neighbors=3, p=2,\n",
       "           weights='uniform')"
      ]
     },
     "execution_count": 3,
     "metadata": {},
     "output_type": "execute_result"
    }
   ],
   "source": [
    "knn = neighbors.KNeighborsClassifier(n_neighbors = 3)\n",
    "knn.fit(training_data, training_label)"
   ]
  },
  {
   "cell_type": "code",
   "execution_count": 4,
   "metadata": {
    "collapsed": true
   },
   "outputs": [],
   "source": [
    "test_data = [[15.8],[98.38]]"
   ]
  },
  {
   "cell_type": "code",
   "execution_count": 6,
   "metadata": {
    "collapsed": true
   },
   "outputs": [],
   "source": [
    "test_data_label =knn.predict(test_data)"
   ]
  },
  {
   "cell_type": "code",
   "execution_count": 7,
   "metadata": {
    "collapsed": false
   },
   "outputs": [
    {
     "name": "stdout",
     "output_type": "stream",
     "text": [
      "[0 1]\n"
     ]
    }
   ],
   "source": [
    "print(test_data_label)"
   ]
  },
  {
   "cell_type": "code",
   "execution_count": 15,
   "metadata": {
    "collapsed": true
   },
   "outputs": [],
   "source": [
    "iris = load_iris()"
   ]
  },
  {
   "cell_type": "code",
   "execution_count": 17,
   "metadata": {
    "collapsed": false
   },
   "outputs": [
    {
     "data": {
      "text/plain": [
       "sklearn.datasets.base.Bunch"
      ]
     },
     "execution_count": 17,
     "metadata": {},
     "output_type": "execute_result"
    }
   ],
   "source": [
    "type(iris)"
   ]
  },
  {
   "cell_type": "code",
   "execution_count": 18,
   "metadata": {
    "collapsed": false
   },
   "outputs": [
    {
     "data": {
      "text/plain": [
       "array([[ 5.1,  3.5,  1.4,  0.2],\n",
       "       [ 4.9,  3. ,  1.4,  0.2],\n",
       "       [ 4.7,  3.2,  1.3,  0.2],\n",
       "       [ 4.6,  3.1,  1.5,  0.2],\n",
       "       [ 5. ,  3.6,  1.4,  0.2],\n",
       "       [ 5.4,  3.9,  1.7,  0.4],\n",
       "       [ 4.6,  3.4,  1.4,  0.3],\n",
       "       [ 5. ,  3.4,  1.5,  0.2],\n",
       "       [ 4.4,  2.9,  1.4,  0.2],\n",
       "       [ 4.9,  3.1,  1.5,  0.1],\n",
       "       [ 5.4,  3.7,  1.5,  0.2],\n",
       "       [ 4.8,  3.4,  1.6,  0.2],\n",
       "       [ 4.8,  3. ,  1.4,  0.1],\n",
       "       [ 4.3,  3. ,  1.1,  0.1],\n",
       "       [ 5.8,  4. ,  1.2,  0.2],\n",
       "       [ 5.7,  4.4,  1.5,  0.4],\n",
       "       [ 5.4,  3.9,  1.3,  0.4],\n",
       "       [ 5.1,  3.5,  1.4,  0.3],\n",
       "       [ 5.7,  3.8,  1.7,  0.3],\n",
       "       [ 5.1,  3.8,  1.5,  0.3],\n",
       "       [ 5.4,  3.4,  1.7,  0.2],\n",
       "       [ 5.1,  3.7,  1.5,  0.4],\n",
       "       [ 4.6,  3.6,  1. ,  0.2],\n",
       "       [ 5.1,  3.3,  1.7,  0.5],\n",
       "       [ 4.8,  3.4,  1.9,  0.2],\n",
       "       [ 5. ,  3. ,  1.6,  0.2],\n",
       "       [ 5. ,  3.4,  1.6,  0.4],\n",
       "       [ 5.2,  3.5,  1.5,  0.2],\n",
       "       [ 5.2,  3.4,  1.4,  0.2],\n",
       "       [ 4.7,  3.2,  1.6,  0.2],\n",
       "       [ 4.8,  3.1,  1.6,  0.2],\n",
       "       [ 5.4,  3.4,  1.5,  0.4],\n",
       "       [ 5.2,  4.1,  1.5,  0.1],\n",
       "       [ 5.5,  4.2,  1.4,  0.2],\n",
       "       [ 4.9,  3.1,  1.5,  0.1],\n",
       "       [ 5. ,  3.2,  1.2,  0.2],\n",
       "       [ 5.5,  3.5,  1.3,  0.2],\n",
       "       [ 4.9,  3.1,  1.5,  0.1],\n",
       "       [ 4.4,  3. ,  1.3,  0.2],\n",
       "       [ 5.1,  3.4,  1.5,  0.2],\n",
       "       [ 5. ,  3.5,  1.3,  0.3],\n",
       "       [ 4.5,  2.3,  1.3,  0.3],\n",
       "       [ 4.4,  3.2,  1.3,  0.2],\n",
       "       [ 5. ,  3.5,  1.6,  0.6],\n",
       "       [ 5.1,  3.8,  1.9,  0.4],\n",
       "       [ 4.8,  3. ,  1.4,  0.3],\n",
       "       [ 5.1,  3.8,  1.6,  0.2],\n",
       "       [ 4.6,  3.2,  1.4,  0.2],\n",
       "       [ 5.3,  3.7,  1.5,  0.2],\n",
       "       [ 5. ,  3.3,  1.4,  0.2],\n",
       "       [ 7. ,  3.2,  4.7,  1.4],\n",
       "       [ 6.4,  3.2,  4.5,  1.5],\n",
       "       [ 6.9,  3.1,  4.9,  1.5],\n",
       "       [ 5.5,  2.3,  4. ,  1.3],\n",
       "       [ 6.5,  2.8,  4.6,  1.5],\n",
       "       [ 5.7,  2.8,  4.5,  1.3],\n",
       "       [ 6.3,  3.3,  4.7,  1.6],\n",
       "       [ 4.9,  2.4,  3.3,  1. ],\n",
       "       [ 6.6,  2.9,  4.6,  1.3],\n",
       "       [ 5.2,  2.7,  3.9,  1.4],\n",
       "       [ 5. ,  2. ,  3.5,  1. ],\n",
       "       [ 5.9,  3. ,  4.2,  1.5],\n",
       "       [ 6. ,  2.2,  4. ,  1. ],\n",
       "       [ 6.1,  2.9,  4.7,  1.4],\n",
       "       [ 5.6,  2.9,  3.6,  1.3],\n",
       "       [ 6.7,  3.1,  4.4,  1.4],\n",
       "       [ 5.6,  3. ,  4.5,  1.5],\n",
       "       [ 5.8,  2.7,  4.1,  1. ],\n",
       "       [ 6.2,  2.2,  4.5,  1.5],\n",
       "       [ 5.6,  2.5,  3.9,  1.1],\n",
       "       [ 5.9,  3.2,  4.8,  1.8],\n",
       "       [ 6.1,  2.8,  4. ,  1.3],\n",
       "       [ 6.3,  2.5,  4.9,  1.5],\n",
       "       [ 6.1,  2.8,  4.7,  1.2],\n",
       "       [ 6.4,  2.9,  4.3,  1.3],\n",
       "       [ 6.6,  3. ,  4.4,  1.4],\n",
       "       [ 6.8,  2.8,  4.8,  1.4],\n",
       "       [ 6.7,  3. ,  5. ,  1.7],\n",
       "       [ 6. ,  2.9,  4.5,  1.5],\n",
       "       [ 5.7,  2.6,  3.5,  1. ],\n",
       "       [ 5.5,  2.4,  3.8,  1.1],\n",
       "       [ 5.5,  2.4,  3.7,  1. ],\n",
       "       [ 5.8,  2.7,  3.9,  1.2],\n",
       "       [ 6. ,  2.7,  5.1,  1.6],\n",
       "       [ 5.4,  3. ,  4.5,  1.5],\n",
       "       [ 6. ,  3.4,  4.5,  1.6],\n",
       "       [ 6.7,  3.1,  4.7,  1.5],\n",
       "       [ 6.3,  2.3,  4.4,  1.3],\n",
       "       [ 5.6,  3. ,  4.1,  1.3],\n",
       "       [ 5.5,  2.5,  4. ,  1.3],\n",
       "       [ 5.5,  2.6,  4.4,  1.2],\n",
       "       [ 6.1,  3. ,  4.6,  1.4],\n",
       "       [ 5.8,  2.6,  4. ,  1.2],\n",
       "       [ 5. ,  2.3,  3.3,  1. ],\n",
       "       [ 5.6,  2.7,  4.2,  1.3],\n",
       "       [ 5.7,  3. ,  4.2,  1.2],\n",
       "       [ 5.7,  2.9,  4.2,  1.3],\n",
       "       [ 6.2,  2.9,  4.3,  1.3],\n",
       "       [ 5.1,  2.5,  3. ,  1.1],\n",
       "       [ 5.7,  2.8,  4.1,  1.3],\n",
       "       [ 6.3,  3.3,  6. ,  2.5],\n",
       "       [ 5.8,  2.7,  5.1,  1.9],\n",
       "       [ 7.1,  3. ,  5.9,  2.1],\n",
       "       [ 6.3,  2.9,  5.6,  1.8],\n",
       "       [ 6.5,  3. ,  5.8,  2.2],\n",
       "       [ 7.6,  3. ,  6.6,  2.1],\n",
       "       [ 4.9,  2.5,  4.5,  1.7],\n",
       "       [ 7.3,  2.9,  6.3,  1.8],\n",
       "       [ 6.7,  2.5,  5.8,  1.8],\n",
       "       [ 7.2,  3.6,  6.1,  2.5],\n",
       "       [ 6.5,  3.2,  5.1,  2. ],\n",
       "       [ 6.4,  2.7,  5.3,  1.9],\n",
       "       [ 6.8,  3. ,  5.5,  2.1],\n",
       "       [ 5.7,  2.5,  5. ,  2. ],\n",
       "       [ 5.8,  2.8,  5.1,  2.4],\n",
       "       [ 6.4,  3.2,  5.3,  2.3],\n",
       "       [ 6.5,  3. ,  5.5,  1.8],\n",
       "       [ 7.7,  3.8,  6.7,  2.2],\n",
       "       [ 7.7,  2.6,  6.9,  2.3],\n",
       "       [ 6. ,  2.2,  5. ,  1.5],\n",
       "       [ 6.9,  3.2,  5.7,  2.3],\n",
       "       [ 5.6,  2.8,  4.9,  2. ],\n",
       "       [ 7.7,  2.8,  6.7,  2. ],\n",
       "       [ 6.3,  2.7,  4.9,  1.8],\n",
       "       [ 6.7,  3.3,  5.7,  2.1],\n",
       "       [ 7.2,  3.2,  6. ,  1.8],\n",
       "       [ 6.2,  2.8,  4.8,  1.8],\n",
       "       [ 6.1,  3. ,  4.9,  1.8],\n",
       "       [ 6.4,  2.8,  5.6,  2.1],\n",
       "       [ 7.2,  3. ,  5.8,  1.6],\n",
       "       [ 7.4,  2.8,  6.1,  1.9],\n",
       "       [ 7.9,  3.8,  6.4,  2. ],\n",
       "       [ 6.4,  2.8,  5.6,  2.2],\n",
       "       [ 6.3,  2.8,  5.1,  1.5],\n",
       "       [ 6.1,  2.6,  5.6,  1.4],\n",
       "       [ 7.7,  3. ,  6.1,  2.3],\n",
       "       [ 6.3,  3.4,  5.6,  2.4],\n",
       "       [ 6.4,  3.1,  5.5,  1.8],\n",
       "       [ 6. ,  3. ,  4.8,  1.8],\n",
       "       [ 6.9,  3.1,  5.4,  2.1],\n",
       "       [ 6.7,  3.1,  5.6,  2.4],\n",
       "       [ 6.9,  3.1,  5.1,  2.3],\n",
       "       [ 5.8,  2.7,  5.1,  1.9],\n",
       "       [ 6.8,  3.2,  5.9,  2.3],\n",
       "       [ 6.7,  3.3,  5.7,  2.5],\n",
       "       [ 6.7,  3. ,  5.2,  2.3],\n",
       "       [ 6.3,  2.5,  5. ,  1.9],\n",
       "       [ 6.5,  3. ,  5.2,  2. ],\n",
       "       [ 6.2,  3.4,  5.4,  2.3],\n",
       "       [ 5.9,  3. ,  5.1,  1.8]])"
      ]
     },
     "execution_count": 18,
     "metadata": {},
     "output_type": "execute_result"
    }
   ],
   "source": [
    "iris.data"
   ]
  },
  {
   "cell_type": "code",
   "execution_count": 19,
   "metadata": {
    "collapsed": false
   },
   "outputs": [
    {
     "data": {
      "text/plain": [
       "array([0, 0, 0, 0, 0, 0, 0, 0, 0, 0, 0, 0, 0, 0, 0, 0, 0, 0, 0, 0, 0, 0, 0,\n",
       "       0, 0, 0, 0, 0, 0, 0, 0, 0, 0, 0, 0, 0, 0, 0, 0, 0, 0, 0, 0, 0, 0, 0,\n",
       "       0, 0, 0, 0, 1, 1, 1, 1, 1, 1, 1, 1, 1, 1, 1, 1, 1, 1, 1, 1, 1, 1, 1,\n",
       "       1, 1, 1, 1, 1, 1, 1, 1, 1, 1, 1, 1, 1, 1, 1, 1, 1, 1, 1, 1, 1, 1, 1,\n",
       "       1, 1, 1, 1, 1, 1, 1, 1, 2, 2, 2, 2, 2, 2, 2, 2, 2, 2, 2, 2, 2, 2, 2,\n",
       "       2, 2, 2, 2, 2, 2, 2, 2, 2, 2, 2, 2, 2, 2, 2, 2, 2, 2, 2, 2, 2, 2, 2,\n",
       "       2, 2, 2, 2, 2, 2, 2, 2, 2, 2, 2, 2])"
      ]
     },
     "execution_count": 19,
     "metadata": {},
     "output_type": "execute_result"
    }
   ],
   "source": [
    "iris.target"
   ]
  },
  {
   "cell_type": "code",
   "execution_count": 20,
   "metadata": {
    "collapsed": true
   },
   "outputs": [],
   "source": [
    "training_data = iris.data[:,0:2]\n",
    "training_data_label = iris.target\n",
    "\n",
    "cmap_light = ListedColormap(['#FFFAAA','#AAFFAA','#AAAAFF'])\n",
    "cmap_bold = ListedColormap(['#FF0000','#00FFAA','#0000FF'])"
   ]
  },
  {
   "cell_type": "code",
   "execution_count": 23,
   "metadata": {
    "collapsed": false
   },
   "outputs": [],
   "source": [
    "k_list = [3,5,7,10,15]\n",
    "x_min,x_max = training_data[:,0].min()-1, training_data[:,0].max() +1\n",
    "y_min, y_max = training_data[:,1].min()-1, training_data[:,1].max()+1\n",
    "h = 0.01\n",
    "xx,yy = np.meshgrid(np.arange(x_min,x_max,h),np.arange(y_min,y_max,h))\n",
    "\n",
    "test_data = np.c_[xx.ravel(),yy.ravel()]"
   ]
  },
  {
   "cell_type": "code",
   "execution_count": 24,
   "metadata": {
    "collapsed": false
   },
   "outputs": [
    {
     "data": {
      "text/plain": [
       "array([[ 3.3 ,  1.  ],\n",
       "       [ 3.31,  1.  ],\n",
       "       [ 3.32,  1.  ],\n",
       "       ..., \n",
       "       [ 8.87,  5.39],\n",
       "       [ 8.88,  5.39],\n",
       "       [ 8.89,  5.39]])"
      ]
     },
     "execution_count": 24,
     "metadata": {},
     "output_type": "execute_result"
    }
   ],
   "source": [
    "test_data"
   ]
  },
  {
   "cell_type": "code",
   "execution_count": 32,
   "metadata": {
    "collapsed": false
   },
   "outputs": [
    {
     "data": {
      "image/png": "[encoded data removed]",
      "text/plain": [
       "<matplotlib.figure.Figure at 0x91771da908>"
      ]
     },
     "metadata": {},
     "output_type": "display_data"
    },
    {
     "data": {
      "image/png": "[encoded data removed]",
      "text/plain": [
       "<matplotlib.figure.Figure at 0x91005a6e48>"
      ]
     },
     "metadata": {},
     "output_type": "display_data"
    },
    {
     "data": {
      "image/png": "[encoded data removed]",
      "text/plain": [
       "<matplotlib.figure.Figure at 0x910067cb70>"
      ]
     },
     "metadata": {},
     "output_type": "display_data"
    },
    {
     "data": {
      "image/png": "[encoded data removed]",
      "text/plain": [
       "<matplotlib.figure.Figure at 0x910067c2b0>"
      ]
     },
     "metadata": {},
     "output_type": "display_data"
    },
    {
     "data": {
      "image/png": "[encoded data removed]",
      "text/plain": [
       "<matplotlib.figure.Figure at 0x91006f45f8>"
      ]
     },
     "metadata": {},
     "output_type": "display_data"
    }
   ],
   "source": [
    "for nb in k_list:\n",
    "    knn = neighbors.KNeighborsClassifier(nb,weights = 'distance',algorithm = 'auto')\n",
    "    \n",
    "    knn.fit(training_data,training_data_label)\n",
    "    \n",
    "    test_data_labels = knn.predict(test_data)\n",
    "    \n",
    "    test_data_labels = test_data_labels.reshape(xx.shape)\n",
    "    plt.figure()\n",
    "    plt.pcolormesh(xx,yy,test_data_labels,cmap = cmap_light)\n",
    "\n",
    "    plt.scatter(training_data[:,0],training_data[:,1],c = training_data_label,cmap = cmap_bold)\n",
    "    plt.xlim(xx.min(),xx.max())\n",
    "    plt.ylim(yy.min(),yy.max())\n",
    "    plt.title('KNN classification k = '+'{:d}'.format(nb))\n",
    "    plt.plot()"
   ]
  },
  {
   "cell_type": "code",
   "execution_count": 26,
   "metadata": {
    "collapsed": false
   },
   "outputs": [
    {
     "data": {
      "text/plain": [
       "array([0, 0, 0, ..., 2, 2, 2])"
      ]
     },
     "execution_count": 26,
     "metadata": {},
     "output_type": "execute_result"
    }
   ],
   "source": [
    "test_data_labels"
   ]
  },
  {
   "cell_type": "code",
   "execution_count": 38,
   "metadata": {
    "collapsed": true
   },
   "outputs": [],
   "source": [
    "training_data = [[10],[11],[12],[30],[40],[88]]"
   ]
  },
  {
   "cell_type": "code",
   "execution_count": 39,
   "metadata": {
    "collapsed": true
   },
   "outputs": [],
   "source": [
    "training_response = [0.,0.,0.14,1.0,1.1,1.5]"
   ]
  },
  {
   "cell_type": "code",
   "execution_count": 40,
   "metadata": {
    "collapsed": false
   },
   "outputs": [
    {
     "data": {
      "text/plain": [
       "KNeighborsRegressor(algorithm='auto', leaf_size=30, metric='minkowski',\n",
       "          metric_params=None, n_jobs=1, n_neighbors=3, p=2,\n",
       "          weights='uniform')"
      ]
     },
     "execution_count": 40,
     "metadata": {},
     "output_type": "execute_result"
    }
   ],
   "source": [
    "knn= KNeighborsRegressor(n_neighbors = 3)\n",
    "knn.fit(training_data,training_response)"
   ]
  },
  {
   "cell_type": "code",
   "execution_count": 41,
   "metadata": {
    "collapsed": true
   },
   "outputs": [],
   "source": [
    "test_data = [[57.27],[20.88]]\n",
    "test_data_response = knn.predict(test_data)"
   ]
  },
  {
   "cell_type": "code",
   "execution_count": 42,
   "metadata": {
    "collapsed": false
   },
   "outputs": [
    {
     "data": {
      "text/plain": [
       "array([ 1.2 ,  0.38])"
      ]
     },
     "execution_count": 42,
     "metadata": {},
     "output_type": "execute_result"
    }
   ],
   "source": [
    "test_data_response "
   ]
  },
  {
   "cell_type": "markdown",
   "metadata": {},
   "source": [
    "## Support Vector Machine"
   ]
  },
  {
   "cell_type": "code",
   "execution_count": 1,
   "metadata": {
    "collapsed": true
   },
   "outputs": [],
   "source": [
    "from sklearn import svm\n",
    "import time"
   ]
  },
  {
   "cell_type": "code",
   "execution_count": 2,
   "metadata": {
    "collapsed": true
   },
   "outputs": [],
   "source": [
    "x = [[0,0],[-2,0],[1,1],[10,1]]"
   ]
  },
  {
   "cell_type": "code",
   "execution_count": 4,
   "metadata": {
    "collapsed": false
   },
   "outputs": [],
   "source": [
    "y = [0,0,1,1]\n",
    "clf = svm.SVC()"
   ]
  },
  {
   "cell_type": "code",
   "execution_count": 6,
   "metadata": {
    "collapsed": false
   },
   "outputs": [
    {
     "data": {
      "text/plain": [
       "SVC(C=1.0, cache_size=200, class_weight=None, coef0=0.0,\n",
       "  decision_function_shape=None, degree=3, gamma='auto', kernel='rbf',\n",
       "  max_iter=-1, probability=False, random_state=None, shrinking=True,\n",
       "  tol=0.001, verbose=False)"
      ]
     },
     "execution_count": 6,
     "metadata": {},
     "output_type": "execute_result"
    }
   ],
   "source": [
    "clf.fit(x,y)"
   ]
  },
  {
   "cell_type": "code",
   "execution_count": 8,
   "metadata": {
    "collapsed": true
   },
   "outputs": [],
   "source": [
    "predict_label = clf.predict([[2.5,8.]])"
   ]
  },
  {
   "cell_type": "code",
   "execution_count": 9,
   "metadata": {
    "collapsed": false
   },
   "outputs": [
    {
     "data": {
      "text/plain": [
       "array([1])"
      ]
     },
     "execution_count": 9,
     "metadata": {},
     "output_type": "execute_result"
    }
   ],
   "source": [
    "predict_label"
   ]
  },
  {
   "cell_type": "code",
   "execution_count": 10,
   "metadata": {
    "collapsed": false
   },
   "outputs": [
    {
     "data": {
      "text/plain": [
       "SVC(C=1.0, cache_size=200, class_weight=None, coef0=0.0,\n",
       "  decision_function_shape=None, degree=3, gamma='auto', kernel='rbf',\n",
       "  max_iter=-1, probability=False, random_state=None, shrinking=True,\n",
       "  tol=0.001, verbose=False)"
      ]
     },
     "execution_count": 10,
     "metadata": {},
     "output_type": "execute_result"
    }
   ],
   "source": [
    "clf ### gamma is anto then it is set as 1/n where n is number of training points"
   ]
  },
  {
   "cell_type": "markdown",
   "metadata": {},
   "source": [
    "### four models of svm"
   ]
  },
  {
   "cell_type": "code",
   "execution_count": 12,
   "metadata": {
    "collapsed": false
   },
   "outputs": [
    {
     "data": {
      "text/plain": [
       "array([1])"
      ]
     },
     "execution_count": 12,
     "metadata": {},
     "output_type": "execute_result"
    }
   ],
   "source": [
    "clf_linear = svm.SVC(kernel = 'linear')\n",
    "clf_linear.fit(x,y)\n",
    "predict_label_linear = clf_linear.predict([[2.5,8.]])\n",
    "predict_label_linear"
   ]
  },
  {
   "cell_type": "code",
   "execution_count": 14,
   "metadata": {
    "collapsed": false
   },
   "outputs": [
    {
     "data": {
      "text/plain": [
       "array([1])"
      ]
     },
     "execution_count": 14,
     "metadata": {},
     "output_type": "execute_result"
    }
   ],
   "source": [
    "clf_poly = svm.SVC(kernel = \"poly\")\n",
    "clf_poly.fit(x,y)\n",
    "predict_label_poly = clf_poly.predict([[2.5,8.]])\n",
    "predict_label_poly"
   ]
  },
  {
   "cell_type": "code",
   "execution_count": 15,
   "metadata": {
    "collapsed": false
   },
   "outputs": [
    {
     "data": {
      "text/plain": [
       "array([1])"
      ]
     },
     "execution_count": 15,
     "metadata": {},
     "output_type": "execute_result"
    }
   ],
   "source": [
    "clf_sigmoid = svm.SVC(kernel = \"sigmoid\")\n",
    "clf_sigmoid.fit(x,y)\n",
    "predict_label_sigmoid = clf_sigmoid.predict([[2.5,8.]])\n",
    "predict_label_sigmoid"
   ]
  },
  {
   "cell_type": "code",
   "execution_count": 18,
   "metadata": {
    "collapsed": false
   },
   "outputs": [],
   "source": [
    "import numpy as np\n",
    "from sklearn import datasets\n",
    "from sklearn.cross_validation import train_test_split\n",
    "from sklearn import svm"
   ]
  },
  {
   "cell_type": "code",
   "execution_count": 19,
   "metadata": {
    "collapsed": true
   },
   "outputs": [],
   "source": [
    "iris = datasets.load_iris()\n",
    "data = iris.data\n",
    "label = iris.target"
   ]
  },
  {
   "cell_type": "code",
   "execution_count": 20,
   "metadata": {
    "collapsed": false
   },
   "outputs": [
    {
     "data": {
      "text/plain": [
       "(150, 4)"
      ]
     },
     "execution_count": 20,
     "metadata": {},
     "output_type": "execute_result"
    }
   ],
   "source": [
    "data.shape"
   ]
  },
  {
   "cell_type": "code",
   "execution_count": 21,
   "metadata": {
    "collapsed": true
   },
   "outputs": [],
   "source": [
    "test_percentage = 0.3\n",
    "training_data,test_data, training_data_label, test_data_label = train_test_split(data, label, test_size = test_percentage, random_state = 42)"
   ]
  },
  {
   "cell_type": "code",
   "execution_count": 22,
   "metadata": {
    "collapsed": false
   },
   "outputs": [
    {
     "data": {
      "text/plain": [
       "105"
      ]
     },
     "execution_count": 22,
     "metadata": {},
     "output_type": "execute_result"
    }
   ],
   "source": [
    "len(training_data)"
   ]
  },
  {
   "cell_type": "code",
   "execution_count": 23,
   "metadata": {
    "collapsed": false
   },
   "outputs": [
    {
     "data": {
      "text/plain": [
       "array([[ 5.5,  2.4,  3.7,  1. ],\n",
       "       [ 6.3,  2.8,  5.1,  1.5],\n",
       "       [ 6.4,  3.1,  5.5,  1.8],\n",
       "       [ 6.6,  3. ,  4.4,  1.4],\n",
       "       [ 7.2,  3.6,  6.1,  2.5],\n",
       "       [ 5.7,  2.9,  4.2,  1.3],\n",
       "       [ 7.6,  3. ,  6.6,  2.1]])"
      ]
     },
     "execution_count": 23,
     "metadata": {},
     "output_type": "execute_result"
    }
   ],
   "source": [
    "N= 7\n",
    "training_data[0:N]"
   ]
  },
  {
   "cell_type": "code",
   "execution_count": 24,
   "metadata": {
    "collapsed": false
   },
   "outputs": [
    {
     "data": {
      "text/plain": [
       "array([1, 2, 2, 1, 2, 1, 2])"
      ]
     },
     "execution_count": 24,
     "metadata": {},
     "output_type": "execute_result"
    }
   ],
   "source": [
    "training_data_label[0:N]"
   ]
  },
  {
   "cell_type": "code",
   "execution_count": 26,
   "metadata": {
    "collapsed": false
   },
   "outputs": [
    {
     "data": {
      "text/plain": [
       "SVC(C=1, cache_size=200, class_weight=None, coef0=0.0,\n",
       "  decision_function_shape=None, degree=3, gamma=0.5, kernel='rbf',\n",
       "  max_iter=-1, probability=False, random_state=None, shrinking=True,\n",
       "  tol=0.0001, verbose=False)"
      ]
     },
     "execution_count": 26,
     "metadata": {},
     "output_type": "execute_result"
    }
   ],
   "source": [
    "svm_learning_machine = svm.SVC(kernel = 'rbf',tol = 0.0001, gamma = 0.5, C=1)\n",
    "svm_learning_machine.fit(training_data, training_data_label)"
   ]
  },
  {
   "cell_type": "code",
   "execution_count": 28,
   "metadata": {
    "collapsed": false
   },
   "outputs": [],
   "source": [
    "predicted_test_data_label = svm_learning_machine.predict(test_data)"
   ]
  },
  {
   "cell_type": "code",
   "execution_count": 29,
   "metadata": {
    "collapsed": false
   },
   "outputs": [
    {
     "data": {
      "text/plain": [
       "array([1, 0, 2, 1, 1, 0, 1, 2, 1, 1, 2, 0, 0, 0, 0, 1, 2, 1, 1, 2, 0, 2, 0,\n",
       "       2, 2, 2, 2, 2, 0, 0, 0, 0, 1, 0, 0, 2, 1, 0, 0, 0, 2, 1, 1, 0, 0])"
      ]
     },
     "execution_count": 29,
     "metadata": {},
     "output_type": "execute_result"
    }
   ],
   "source": [
    "predicted_test_data_label "
   ]
  },
  {
   "cell_type": "code",
   "execution_count": 30,
   "metadata": {
    "collapsed": false
   },
   "outputs": [
    {
     "data": {
      "text/plain": [
       "array([1, 0, 2, 1, 1, 0, 1, 2, 1, 1, 2, 0, 0, 0, 0, 1, 2, 1, 1, 2, 0, 2, 0,\n",
       "       2, 2, 2, 2, 2, 0, 0, 0, 0, 1, 0, 0, 2, 1, 0, 0, 0, 2, 1, 1, 0, 0])"
      ]
     },
     "execution_count": 30,
     "metadata": {},
     "output_type": "execute_result"
    }
   ],
   "source": [
    "test_data_label"
   ]
  },
  {
   "cell_type": "code",
   "execution_count": 31,
   "metadata": {
    "collapsed": false
   },
   "outputs": [
    {
     "data": {
      "text/plain": [
       "1.0"
      ]
     },
     "execution_count": 31,
     "metadata": {},
     "output_type": "execute_result"
    }
   ],
   "source": [
    "learning_accuracy = svm_learning_machine.score(test_data, test_data_label)\n",
    "learning_accuracy"
   ]
  },
  {
   "cell_type": "markdown",
   "metadata": {},
   "source": [
    "### sensitivity is TF/(TF+FN)\n",
    "### specificity  = TN/(TN+fp)"
   ]
  },
  {
   "cell_type": "code",
   "execution_count": 3,
   "metadata": {
    "collapsed": false
   },
   "outputs": [],
   "source": [
    "from sklearn import svm\n",
    "from sklearn.kernel_approximation import RBFSampler\n",
    "from sklearn.linear_model import SGDClassifier\n",
    "import time"
   ]
  },
  {
   "cell_type": "code",
   "execution_count": 5,
   "metadata": {
    "collapsed": false
   },
   "outputs": [
    {
     "name": "stdout",
     "output_type": "stream",
     "text": [
      "RBFSampler(gamma=0.5, n_components=50, random_state=1)\n"
     ]
    }
   ],
   "source": [
    "x = [[0,0],[10,10],[10,0],[0,10]]\n",
    "y = [0,0,1,1]\n",
    "test_data = [[2.5,8.]]\n",
    "n_d= 50\n",
    "rbf_feature = RBFSampler(n_components = n_d, gamma = 0.5, random_state =1)\n",
    "print(rbf_feature)"
   ]
  },
  {
   "cell_type": "code",
   "execution_count": 12,
   "metadata": {
    "collapsed": false
   },
   "outputs": [
    {
     "name": "stdout",
     "output_type": "stream",
     "text": [
      "RBFSampler(gamma=0.5, n_components=100, random_state=1)\n",
      "features 0in feature space\n",
      "[ 0.09317615 -0.06236118 -0.06751522 -0.13473764 -0.10436174 -0.11979075\n",
      " -0.1151801  -0.05810292 -0.10191676 -0.12805527  0.13950975 -0.06197658\n",
      "  0.04490839 -0.12668634 -0.07827094  0.04170145  0.10309069  0.11638538\n",
      " -0.07372585 -0.01790838 -0.00210292  0.08660647 -0.13928258  0.04552382\n",
      " -0.12700477 -0.01495117 -0.14041357  0.01850375 -0.12839064 -0.1381517\n",
      " -0.07778379  0.12863123 -0.10182033  0.1240882   0.14059795  0.05891447\n",
      "  0.0535927   0.0999759  -0.053369   -0.12815251  0.07504712 -0.13837025\n",
      " -0.07961699  0.02208811 -0.11819522 -0.0539306   0.12231373  0.11923215\n",
      " -0.00632304  0.10846049  0.04960405 -0.14142087 -0.01897091  0.03672174\n",
      "  0.00174729  0.08432265 -0.12210947 -0.10508561  0.01448842  0.11337608\n",
      " -0.14072002 -0.13996518  0.08119319 -0.10198644 -0.1360488  -0.08012341\n",
      "  0.08699688  0.00135756  0.02470901 -0.14037723  0.03110677  0.14003164\n",
      " -0.06369868  0.09868611  0.07927704 -0.13731636  0.09459079  0.13444633\n",
      "  0.06531539  0.08605575  0.11506502 -0.08218496 -0.04071902 -0.10883051\n",
      "  0.04337634  0.13809808  0.01793524 -0.0161999  -0.00861243 -0.00627955\n",
      " -0.09530753 -0.07970907  0.04080892 -0.13340219  0.02889544  0.141168\n",
      " -0.04391142  0.08807144  0.11509179 -0.13662718] \n",
      "**\n",
      "features 1in feature space\n",
      "[-0.01058357 -0.04192738 -0.13929317 -0.05379033  0.14063088  0.14057904\n",
      " -0.08812134 -0.12033765 -0.03861324  0.12160516  0.10582569  0.11471282\n",
      "  0.1385487  -0.13379593 -0.03885112  0.13665077 -0.13605503  0.12982724\n",
      " -0.14081882  0.08209616 -0.13730325 -0.13247128  0.14113592 -0.01539041\n",
      "  0.13472434 -0.10761148  0.12123252  0.05983044  0.01436434 -0.05709864\n",
      "  0.13553848 -0.13976087 -0.06543321 -0.10859958  0.06318288  0.06884818\n",
      "  0.09159356 -0.12671354 -0.11104852  0.06389382 -0.13190448  0.11022552\n",
      " -0.13721644  0.1072588  -0.14070329 -0.14055576 -0.07876381  0.01200075\n",
      "  0.05891176  0.06060406  0.06250991  0.13021111 -0.13029566  0.0949254\n",
      " -0.10428727 -0.0994268  -0.13821153  0.11897531 -0.0300688  -0.02215397\n",
      " -0.14125216  0.10568419 -0.09352427 -0.06399985  0.10915698 -0.00516372\n",
      " -0.14076061 -0.14112868  0.05444179 -0.02528262 -0.13636617 -0.08007092\n",
      " -0.11281193  0.09788852 -0.12242689  0.13693784 -0.14141375  0.05231165\n",
      " -0.02210466 -0.13216133 -0.02688627  0.06876369  0.04478371 -0.06109019\n",
      "  0.13130532  0.00762285 -0.11518616 -0.030169    0.1145559   0.13093887\n",
      " -0.10735078  0.01944339  0.0171405   0.04549189 -0.14133156 -0.13989378\n",
      " -0.03378338  0.10387439  0.03927085 -0.05599641] \n",
      "**\n",
      "features 2in feature space\n",
      "[-0.13441857 -0.08243407  0.0682683  -0.00604817  0.00838482 -0.00195592\n",
      "  0.06147062  0.11126079  0.09701287  0.13832566 -0.04439326 -0.11387989\n",
      " -0.0558168   0.05653969  0.08470151  0.13527169 -0.1114335  -0.14129655\n",
      " -0.01780847  0.04556709 -0.14142008 -0.06278885  0.13754304 -0.11340879\n",
      "  0.14131249 -0.08670915 -0.06295446 -0.02786057  0.08842206 -0.05189277\n",
      "  0.0072151  -0.13040205 -0.03020361 -0.01380466  0.1214986   0.07468144\n",
      "  0.13828075  0.0017364  -0.06818512  0.00043929  0.08713777  0.13330727\n",
      "  0.07872997  0.1233527  -0.0654872  -0.04239796  0.02636268 -0.00203956\n",
      " -0.13404146  0.1178581  -0.0675856   0.13114763  0.11950659 -0.08153726\n",
      "  0.12198348  0.03112034  0.00100612  0.11514934 -0.05355061 -0.14110109\n",
      " -0.0563245  -0.13910306  0.13875142  0.0849998  -0.06142633 -0.13823267\n",
      "  0.1332372   0.06782528 -0.04327848 -0.0409537  -0.14094385  0.0269813\n",
      " -0.12432474 -0.01542031 -0.08099655 -0.06022023 -0.10264628 -0.01557933\n",
      "  0.049894    0.12911258 -0.00453348 -0.06951814  0.14142082 -0.01141314\n",
      "  0.10595289  0.02301846 -0.04128916 -0.07017649 -0.13544937  0.13315106\n",
      " -0.1368805  -0.09015697  0.04428925 -0.1278007  -0.13623442  0.1069222\n",
      "  0.0026551   0.03310714  0.12152166 -0.0813094 ] \n",
      "**\n",
      "features 3in feature space\n",
      "[ 0.08106177 -0.01908644 -0.05450168 -0.11206182 -0.09048969 -0.05989904\n",
      " -0.1238806   0.0432977   0.04520355 -0.14053333  0.03380677  0.06070217\n",
      " -0.13573731  0.13189863  0.11506548 -0.03596567  0.05893493 -0.06988341\n",
      " -0.13379999  0.12435143  0.03241975 -0.10236507 -0.13307262  0.12903802\n",
      " -0.10583541 -0.0432292   0.10925067 -0.0511061  -0.07565454  0.07560218\n",
      "  0.13313713  0.11062473 -0.12402504  0.13601085  0.00478991  0.05269385\n",
      " -0.08988379  0.13345167  0.13794039 -0.08765176  0.09287966 -0.04785999\n",
      " -0.01944484 -0.12365229 -0.12985428 -0.13867302  0.13694254  0.11109814\n",
      " -0.09864329  0.04605625 -0.04421125 -0.10036406 -0.10425591 -0.05298416\n",
      "  0.13463276 -0.05018013  0.04480703 -0.12688452 -0.01009813 -0.05715762\n",
      " -0.04967653  0.10915004 -0.13486614  0.08335011 -0.06980849 -0.10068166\n",
      " -0.03141634  0.11874564 -0.03632548 -0.14141734  0.00506038 -0.13631276\n",
      " -0.08191148 -0.13997367  0.12136891  0.0616174   0.14084995 -0.14126609\n",
      "  0.11881766 -0.07959007  0.12664514  0.08288724 -0.14136828 -0.06931556\n",
      " -0.10073033  0.13393737 -0.07129919  0.10615598 -0.0382671   0.08966055\n",
      " -0.14019668  0.1292057   0.06652616  0.0313287   0.06941891 -0.11458086\n",
      " -0.00787693  0.05363138  0.05042242  0.04044355] \n",
      "**\n",
      "[0]\n",
      "RBFSampler(gamma=0.5, n_components=200, random_state=1)\n",
      "features 0in feature space\n",
      "[-0.09928706  0.04555565 -0.09029028  0.0999792   0.04077033 -0.08292898\n",
      "  0.09886414  0.08147488 -0.08249275  0.09793166  0.08320727  0.09168246\n",
      " -0.09543652 -0.07090361  0.098803    0.04928187  0.09854184  0.01095774\n",
      "  0.04497185 -0.06724741 -0.04887157 -0.09894694  0.09965957 -0.060296\n",
      " -0.09987595 -0.01247646 -0.09806359 -0.09643996  0.06486702  0.09976605\n",
      "  0.00519904 -0.04255111  0.09951899  0.01859355 -0.05289552 -0.09887496\n",
      "  0.00307291 -0.09743261  0.07078948 -0.03826914 -0.09995969 -0.04604222\n",
      "  0.0126268   0.06830076  0.09896528 -0.09928209  0.03680586  0.0996866\n",
      " -0.04680973 -0.03866955 -0.09495834  0.08600654 -0.06160741  0.09994581\n",
      " -0.09952176  0.06341155  0.04839522 -0.05920763 -0.04612619 -0.08808094\n",
      " -0.01509696 -0.09285455 -0.04722012 -0.06000666  0.06170113  0.03385163\n",
      " -0.00168331 -0.02462715  0.01489787 -0.08986826  0.03546407 -0.06056072\n",
      "  0.02261487  0.01083884 -0.03601776 -0.010508   -0.00347192  0.01787539\n",
      "  0.02235841  0.03152971  0.06251527 -0.07162987  0.09860366  0.07668143\n",
      " -0.04564295  0.03076813  0.0874699   0.01147147  0.02631114  0.08681129\n",
      " -0.02406816 -0.09432316 -0.03358868  0.05082519 -0.09185164  0.0886561\n",
      " -0.02726388 -0.09904885  0.070171    0.09886928  0.0536709   0.0293427\n",
      " -0.09079636 -0.08242516  0.06041746 -0.01295777  0.03754443 -0.0618375\n",
      "  0.00270518  0.02442301 -0.08054783 -0.00067332 -0.06460076 -0.0819494\n",
      " -0.02818998 -0.01153129  0.09415355 -0.08926023  0.02008292  0.09384281\n",
      "  0.05105096  0.03549437 -0.07905279 -0.03095013  0.08759928  0.08257752\n",
      " -0.0685253  -0.09814567 -0.09993167  0.06745857  0.02702062  0.08875906\n",
      " -0.09987616 -0.00725043 -0.06230906  0.07782046  0.02337621  0.07840165\n",
      "  0.09959712  0.044185   -0.08982897  0.09605644  0.02311004  0.03704255\n",
      " -0.09846698 -0.00623043  0.05881335 -0.09489235  0.02082156  0.00577483\n",
      " -0.01693586  0.04452971  0.06468957  0.09922908  0.06385707 -0.09322899\n",
      " -0.08207443  0.00549309 -0.02062991  0.0996831  -0.01755492  0.09997159\n",
      "  0.09149945  0.06271879 -0.01324931 -0.09945074 -0.02671669  0.01906486\n",
      " -0.07065554  0.01273435  0.00039227 -0.07574962 -0.08158524 -0.03250584\n",
      "  0.09998087  0.0155793   0.0795579   0.0067081   0.07256604  0.01856283\n",
      " -0.03215192  0.07418619 -0.0963444  -0.0228626   0.06453552 -0.0249569\n",
      " -0.07547829 -0.04491611 -0.09643252 -0.09389872  0.04714541 -0.08948201\n",
      " -0.05657095 -0.04541495  0.01782262 -0.09788977 -0.03957963 -0.06988147\n",
      "  0.07175159 -0.09464694] \n",
      "**\n",
      "features 1in feature space\n",
      "[-0.09775662 -0.09969049  0.05099471 -0.08103294  0.08929743  0.06884891\n",
      "  0.0703817  -0.01421511 -0.04385108 -0.00079336  0.08125259 -0.05897099\n",
      " -0.02353644  0.04856664  0.03756302  0.03762477 -0.03653697 -0.04367499\n",
      "  0.06772185  0.00982772 -0.09982184  0.08130467  0.0902076  -0.04644304\n",
      "  0.09952889 -0.09682765 -0.08250122 -0.05795134 -0.08214356 -0.09807689\n",
      "  0.09625636  0.09981346  0.09360215 -0.01417966  0.08803278 -0.09667333\n",
      "  0.08273663  0.0171067   0.08018886  0.03480445 -0.0831546   0.01015849\n",
      " -0.08822906 -0.08046723 -0.01069196 -0.08789899  0.08153374 -0.05881227\n",
      " -0.00297492 -0.08409835 -0.07199535  0.09965484 -0.07317756 -0.09786888\n",
      " -0.0094118   0.06825201 -0.09054336  0.09222866  0.03788306  0.09911603\n",
      "  0.00470005  0.07011465  0.00214006 -0.02000982  0.05707487  0.09971071\n",
      "  0.09999522  0.07017721 -0.03545743  0.09714734  0.05350984  0.09990371\n",
      " -0.04479515 -0.09044876 -0.08599531  0.06674841  0.09743984 -0.09999976\n",
      "  0.04496214 -0.06391304 -0.09616477 -0.06434512 -0.09881009  0.01248896\n",
      "  0.08547514 -0.04551107  0.09694494  0.07517013 -0.07089127  0.05556356\n",
      " -0.04399499  0.00510678 -0.09983339 -0.00944203  0.09875102 -0.0895859\n",
      "  0.04424678  0.02875426 -0.07339318  0.09925024 -0.00878343  0.03684032\n",
      "  0.00131883  0.09459401  0.09685008 -0.08709753 -0.07649926  0.09918007\n",
      " -0.04271265 -0.03565381  0.02878116 -0.00855495  0.03373408  0.04449927\n",
      " -0.04418992  0.09610088  0.08924831  0.01409689 -0.08514886 -0.04586293\n",
      " -0.087728   -0.03701817  0.06947151  0.07457494  0.07644007 -0.07853641\n",
      "  0.05212162  0.09784236  0.02685634 -0.05616451 -0.07464688  0.0813646\n",
      "  0.09736989  0.09795898  0.0901793   0.0675105  -0.07016136  0.03471114\n",
      " -0.01426807  0.07562238 -0.07275648  0.08694161 -0.09774831  0.08046851\n",
      "  0.03356779  0.09854764  0.09992678 -0.00505788 -0.04292399  0.09865587\n",
      "  0.05199051  0.00981009  0.02798124  0.02014628 -0.0943961  -0.09611918\n",
      " -0.09171636 -0.01036128  0.09817557  0.06783687 -0.09105656  0.08500351\n",
      "  0.00816939  0.09446315  0.0634014  -0.07977612  0.08216656 -0.03573617\n",
      "  0.0260701  -0.01145348  0.00365614 -0.03212686  0.02111505 -0.06166885\n",
      "  0.09989362 -0.03852915 -0.08700458 -0.09800618 -0.08392046  0.05823172\n",
      " -0.06665871 -0.09258687  0.07899409 -0.06748821  0.09432565  0.09958775\n",
      " -0.0453638  -0.08994928 -0.0869195  -0.09916566 -0.08250909  0.04718662\n",
      " -0.07269099  0.02885497 -0.06178083  0.06295081 -0.02618016  0.00688091\n",
      "  0.07634971 -0.0981215 ] \n",
      "**\n",
      "features 2in feature space\n",
      "[ 0.07930654  0.03025587 -0.01246824 -0.02430309  0.03436157  0.09084324\n",
      "  0.00184919 -0.03677496  0.07963738 -0.06587581 -0.0878099   0.02276735\n",
      "  0.09264793  0.00890612  0.01861477 -0.0868482  -0.0318803  -0.06860105\n",
      "  0.0776182  -0.09293247  0.08672051 -0.0301638  -0.09472244  0.0573716\n",
      "  0.0893358  -0.06281582 -0.01442749  0.09799573 -0.02407359  0.06127863\n",
      " -0.05492014 -0.03768711  0.07733656  0.07073185 -0.0127743  -0.09997239\n",
      "  0.09892449  0.05195057  0.01033604 -0.09991665  0.03137733 -0.00699603\n",
      " -0.087323    0.04481638  0.07948369 -0.09994514  0.07549105 -0.06142151\n",
      "  0.06552044 -0.04866054  0.08965928 -0.06087563  0.04595067 -0.09495772\n",
      "  0.05777627  0.02666453  0.05053422  0.06797267  0.06926353  0.09967906\n",
      "  0.08953627 -0.09418736 -0.0997198   0.07203097 -0.06691502  0.08916862\n",
      " -0.0954181  -0.02580118 -0.00141404  0.02781198 -0.09982859 -0.09497816\n",
      " -0.09803541  0.05265072  0.03739042 -0.09956725 -0.00448113 -0.09698833\n",
      " -0.08753385 -0.08500904  0.02406001  0.09352969 -0.04458517  0.00849582\n",
      "  0.09980924  0.0997692   0.09965951  0.04960793 -0.0814558  -0.02183699\n",
      " -0.07313231  0.05804937 -0.02654882  0.04159934  0.0773237   0.0957537\n",
      "  0.05422215 -0.09559446  0.0640092   0.08542904 -0.09475138  0.0580305\n",
      "  0.0895641  -0.05822383 -0.08240496  0.09999761 -0.06724419  0.0702498\n",
      " -0.0485087  -0.00793363 -0.08625601 -0.0003268   0.09955176  0.01305354\n",
      "  0.06049004 -0.06225786  0.07447793  0.06078296 -0.09127595 -0.02673473\n",
      "  0.02855763  0.09662643 -0.08833018 -0.09070106  0.07157888  0.06938667\n",
      "  0.09695766  0.09083804 -0.08593896 -0.09992369  0.08717596  0.0750031\n",
      " -0.09506219  0.06482184 -0.07338834  0.07472564 -0.0745628  -0.02200314\n",
      " -0.00747647 -0.0008013  -0.01593511  0.07413698  0.04818002 -0.07456195\n",
      " -0.06871727  0.09673779 -0.01489064 -0.09755454 -0.08554387  0.05647326\n",
      "  0.01293902 -0.03172778 -0.09953784 -0.09999958 -0.09234212 -0.08071731\n",
      "  0.03910156 -0.09067802 -0.00336908  0.02995729 -0.09604752 -0.08669962\n",
      " -0.04810861 -0.0753335  -0.0994298   0.0071316  -0.01673312  0.07273351\n",
      "  0.06445751  0.00136365 -0.01810548  0.09549165 -0.08933373 -0.03185235\n",
      "  0.08977116 -0.08598013  0.09952636  0.02000242  0.02902429 -0.02407462\n",
      " -0.01673257 -0.07377473 -0.05569275 -0.05617953  0.09724766 -0.03539581\n",
      " -0.09982066 -0.02651848  0.08237198 -0.04693431 -0.04547095  0.09959017\n",
      " -0.07161878 -0.09371504 -0.01277788  0.0716363  -0.01464141 -0.02835464\n",
      "  0.04925625  0.07706325] \n",
      "**\n",
      "features 3in feature space\n",
      "[ 0.0733249  -0.09962246 -0.04496242  0.07783104 -0.03270769  0.02617497\n",
      " -0.05815899 -0.09950759  0.03941499  0.06098114 -0.08940188  0.09006016\n",
      "  0.0154394  -0.09342236  0.09990775 -0.09252579  0.09757786  0.08903787\n",
      "  0.09192272  0.05256417  0.00490646 -0.0168953  -0.09993018 -0.09855107\n",
      " -0.09495143 -0.06919202 -0.08090104  0.06328396  0.09896268 -0.0384561\n",
      "  0.0615393  -0.06317155  0.09739175  0.08979098  0.06030162 -0.09266831\n",
      "  0.06989464 -0.08245171 -0.09689837 -0.0704538  -0.02390155  0.04320169\n",
      "  0.0107483   0.08359637 -0.05771235 -0.08343588  0.02755158 -0.03521446\n",
      " -0.09429369 -0.07757762  0.08096907 -0.09559853  0.03148181  0.08479687\n",
      "  0.09114965  0.03280625  0.08272801 -0.08724523 -0.0624313  -0.07606849\n",
      " -0.09369424  0.0673782   0.09228014  0.00407825  0.09070281  0.07778024\n",
      "  0.03059588 -0.02648871  0.02251181 -0.00671752  0.06458995  0.03673485\n",
      " -0.08804209  0.04502882  0.08523283 -0.05985032 -0.09534499  0.04110082\n",
      "  0.03656247 -0.08962756  0.08018195 -0.04214228  0.04342788 -0.08839017\n",
      "  0.01331273  0.06575708  0.07830401 -0.09962946 -0.09067133  0.09582832\n",
      " -0.08587036 -0.09737398  0.08506777  0.00095575 -0.03138369 -0.09514249\n",
      " -0.06855018 -0.01438081 -0.0787825   0.08394077 -0.09463495  0.06431343\n",
      "  0.0770825   0.09998541 -0.02937181 -0.0380729   0.02487111 -0.09712494\n",
      " -0.0038086  -0.00384049 -0.0766171   0.00955097  0.05802868 -0.09610522\n",
      "  0.0732224   0.09620728  0.09967196 -0.0557358  -0.06965526 -0.04537425\n",
      " -0.07338661  0.08862688  0.05620274  0.09957411  0.09085703 -0.0894814\n",
      "  0.00202674 -0.09019069  0.07483637  0.09832842  0.08228814  0.06491126\n",
      "  0.08796614  0.08389614 -0.04977327  0.07096385 -0.09598624  0.0995646\n",
      "  0.09997698  0.03818983  0.08678866  0.08772555  0.08661724 -0.02819118\n",
      " -0.06021627  0.00231428  0.07385083 -0.01494214  0.09521815  0.07606569\n",
      " -0.04849578 -0.06335281 -0.09480556 -0.03185536 -0.00376106 -0.02857009\n",
      " -0.05779721 -0.0962029   0.09998518  0.08673582 -0.0773726  -0.09999572\n",
      "  0.05411601 -0.08729847 -0.06006703 -0.04537669 -0.09859387 -0.05978466\n",
      " -0.03409239 -0.02268479  0.02207185  0.06720531  0.00621958  0.0968659\n",
      "  0.08856887 -0.0464373  -0.03022906  0.09976555 -0.04602758 -0.06272362\n",
      " -0.05399721  0.09281621  0.08302426 -0.08942233  0.07207046  0.09998246\n",
      " -0.09028779  0.09604917  0.09834325 -0.08242843 -0.09349949  0.00618887\n",
      " -0.08472797 -0.09180334 -0.0826727  -0.01142498 -0.050111    0.08373218\n",
      "  0.04318566  0.03494824] \n",
      "**\n",
      "[1]\n",
      "RBFSampler(gamma=0.5, n_components=5000, random_state=1)\n",
      "features 0in feature space\n",
      "[ 0.01323388  0.0195754   0.01826524 ..., -0.01909753  0.00077437\n",
      " -0.00217602] \n",
      "**\n",
      "features 1in feature space\n",
      "[ 0.01981801  0.01234701 -0.0057105  ..., -0.00631039 -0.01483767\n",
      " -0.01912887] \n",
      "**\n",
      "features 2in feature space\n",
      "[-0.01903302  0.01863171  0.01670848 ..., -0.00770828 -0.01988356\n",
      "  0.01024432] \n",
      "**\n",
      "features 3in feature space\n",
      "[-0.01567028  0.00958411  0.01306567 ...,  0.01830146 -0.01109786\n",
      "  0.01982465] \n",
      "**\n",
      "[0]\n",
      "RBFSampler(gamma=0.5, n_components=1000, random_state=1)\n",
      "features 0in feature space\n",
      "[  3.24458964e-02   2.18395003e-02  -1.28682100e-02   3.88129475e-02\n",
      "   2.61181273e-02   1.75182781e-03  -4.28111750e-02  -2.49320799e-02\n",
      "  -1.62959318e-02   4.18276089e-02   2.37813346e-02  -9.41579541e-03\n",
      "   4.39614655e-02   4.04111412e-02   3.63557537e-02   3.10730322e-02\n",
      "   2.72033255e-02   4.01900509e-02  -4.31333346e-02   3.30746931e-02\n",
      "  -4.38320906e-02   8.85289655e-03   1.68662113e-02   2.91745922e-02\n",
      "   1.71336512e-02   4.20998721e-02  -3.93897403e-02  -4.20675182e-02\n",
      "   4.39678126e-02   3.74931424e-02  -6.69553768e-03   3.53183587e-02\n",
      "  -3.45370122e-02  -1.08523887e-02  -4.45652900e-02  -2.58886819e-02\n",
      "   4.02505910e-02   1.11075413e-02   2.87248603e-02   3.07159502e-02\n",
      "  -3.98380682e-02   9.81528739e-03   3.02512079e-02   4.45223707e-02\n",
      "   3.52082501e-02  -3.18321098e-02  -3.65230352e-02  -7.61140787e-03\n",
      "   3.68194526e-02   3.28436382e-02  -1.85173100e-02   4.26008554e-02\n",
      "   1.18260836e-02  -7.64172435e-04  -2.29993886e-03   4.35026852e-02\n",
      "   4.44940874e-02   2.56676528e-02  -4.34582810e-02   1.65778477e-03\n",
      "  -5.93528374e-03  -2.68267594e-02  -4.43377570e-02   1.75218316e-02\n",
      "   2.35827923e-02  -1.90202473e-02   4.47053027e-02   4.27911152e-02\n",
      "  -3.42268636e-03  -6.33809165e-03  -4.44191110e-02   1.59310149e-02\n",
      "   2.56259524e-02  -4.47112891e-02  -4.40717451e-02  -1.05982846e-02\n",
      "  -4.45943180e-02   4.47179557e-02  -7.63216219e-03  -2.60045562e-02\n",
      "  -9.46775886e-03   3.83566619e-02  -4.43032108e-02   1.07073222e-02\n",
      "   4.18440978e-02  -4.47148756e-02  -3.71838491e-02  -1.13556311e-02\n",
      "   2.64772551e-02   3.02283818e-02  -4.94635039e-03  -4.35705115e-03\n",
      "   1.92065276e-02  -3.82860630e-02  -3.71227784e-02   3.15667066e-02\n",
      "   9.85681145e-03  -3.26019678e-02  -3.35047588e-02  -1.34964148e-02\n",
      "   4.45764232e-02  -4.13284889e-02   2.94515292e-02  -3.90135325e-02\n",
      "  -2.52603175e-02   3.98802887e-02  -2.29700847e-02  -1.46402992e-02\n",
      "  -3.26109121e-02  -2.65853412e-02  -1.96410278e-02  -3.44216428e-02\n",
      "   2.38861666e-02  -4.45662101e-02   4.21375059e-02  -3.33434482e-02\n",
      "   1.67337120e-02  -4.38669204e-02   2.41778947e-02   2.45924238e-02\n",
      "   2.10017234e-02   4.46051610e-02  -4.77905785e-03   4.47213459e-02\n",
      "   3.26613260e-02  -4.46346841e-02   1.11288670e-02   3.21714763e-02\n",
      "  -2.33886014e-02  -4.45959987e-02   1.53363839e-02   3.23357456e-02\n",
      "   1.86624324e-02  -2.87110255e-02  -2.57615238e-03  -4.12985337e-02\n",
      "  -3.08503513e-02   3.27987866e-02  -1.59489339e-02  -3.82099673e-02\n",
      "  -3.54165186e-02  -2.30194262e-02   2.67289071e-02   1.64049913e-02\n",
      "   3.67131830e-02  -3.32048206e-02   4.18960177e-02  -3.30995551e-02\n",
      "   1.11477453e-02  -4.45287788e-02  -4.38678143e-02  -2.09497719e-02\n",
      "   3.07437631e-02  -3.33261531e-02   9.76211179e-03   4.37712472e-02\n",
      "  -6.96455172e-03   1.88948432e-02   3.17279701e-02   3.90210525e-02\n",
      "   1.80453691e-02  -1.27381812e-02   3.90843724e-02  -4.09808533e-04\n",
      "   4.43214132e-02   4.33513907e-02  -1.84749965e-02  -1.66360234e-02\n",
      "  -4.40493003e-02  -3.63028463e-02  -3.13971740e-02   3.15208424e-02\n",
      "  -6.67034295e-03   4.28935858e-02  -2.65281876e-02   4.12820165e-02\n",
      "  -4.43363342e-02  -2.80005788e-02  -3.74763636e-03   1.62899261e-02\n",
      "  -3.55525891e-02  -4.23506496e-02   1.83463605e-02  -9.05318328e-03\n",
      "   4.16681187e-02   4.43544146e-02   1.93172667e-02   6.18459703e-03\n",
      "  -9.48496780e-03  -7.35399020e-04  -3.56480094e-02   3.20764036e-02\n",
      "  -5.59290522e-04  -2.38411630e-02  -4.46960652e-02  -1.77679791e-02\n",
      "  -4.29110536e-02  -1.84090953e-02   8.27865458e-03  -4.45317080e-02\n",
      "   4.46778804e-02  -2.00928101e-02   4.36220271e-02   1.83655018e-02\n",
      "  -4.47117070e-02   4.22843201e-02   3.45129703e-02  -3.69112962e-02\n",
      "   4.03777172e-02  -3.65204839e-02   3.96106468e-02   1.32015187e-03\n",
      "  -2.63457406e-02   2.04644040e-04   1.78259184e-02  -4.05808267e-02\n",
      "   3.12722414e-02  -4.37189423e-02   3.56522227e-02   4.41915566e-02\n",
      "  -1.22581880e-02   4.43373239e-02   9.80097636e-03   4.13205032e-03\n",
      "  -2.01909494e-02   1.26124481e-02   4.33151127e-02  -4.11958125e-03\n",
      "  -1.50436724e-02   2.99915383e-02  -2.04014364e-02   1.99829238e-02\n",
      "   4.11878643e-02   3.67301828e-02   3.82512913e-02   1.56763615e-02\n",
      "  -7.04952918e-03  -3.25330222e-03   2.83705670e-02  -3.94145419e-02\n",
      "   1.39143434e-02  -3.85064048e-02   2.89673760e-02   3.88319211e-02\n",
      "   4.07741630e-03  -4.46292991e-02  -4.28322107e-02   3.65334129e-02\n",
      "  -1.87039829e-02   3.24784909e-02   9.02436129e-03  -4.29547445e-02\n",
      "   6.36321858e-03   7.21711177e-03  -2.91973826e-03  -1.61681149e-02\n",
      "  -3.40437949e-02  -1.31630243e-02  -1.91542682e-02   4.36398071e-02\n",
      "  -2.10778637e-02  -1.32275589e-03   4.18648407e-02   1.45478337e-02\n",
      "   2.57633995e-03   4.79141247e-03   1.63750026e-02   3.30768419e-02\n",
      "   3.40915137e-03   2.29768250e-03  -3.10239888e-03   4.37587284e-02\n",
      "  -4.64269363e-03  -6.66222367e-03   3.79154038e-02  -2.07278419e-02\n",
      "   4.23883551e-02   2.32591798e-02   3.82522075e-02  -3.70506155e-02\n",
      "   4.05827408e-02   2.98313948e-02  -4.45719733e-02  -1.80187257e-02\n",
      "   2.10927133e-02   4.46094848e-02   3.40397856e-02   4.36301022e-02\n",
      "  -2.09495552e-03  -2.59022641e-02  -9.97024362e-03   4.46381959e-02\n",
      "  -3.97892230e-02  -1.58846751e-02   2.59411830e-02   4.39953624e-02\n",
      "   2.27717312e-02  -6.37488336e-03   3.45877536e-02   2.82273531e-02\n",
      "   1.79523886e-02   3.70246166e-03   4.44240335e-02   4.06316672e-02\n",
      "   3.39371608e-02  -3.69143819e-02   3.45713876e-02   2.06670881e-02\n",
      "  -3.95939262e-02  -4.65588863e-04  -1.38655727e-02   2.13011457e-02\n",
      "   1.65696438e-02  -4.35454006e-02  -4.46353218e-02  -4.46030385e-02\n",
      "   4.47141330e-02   3.06965691e-02   1.73325870e-03   1.21410107e-02\n",
      "  -3.85103359e-02  -4.35012799e-02   3.50641159e-02   2.10951857e-02\n",
      "   4.25072070e-02   4.35172364e-02   4.46738099e-02  -4.00825445e-02\n",
      "  -4.01695627e-02   2.26148160e-02  -3.34931722e-02   3.76019696e-02\n",
      "  -3.89590238e-02   4.41775202e-02  -2.88934422e-02   4.45311738e-02\n",
      "   3.03628486e-02   2.57157657e-02   1.35055713e-02   1.67231613e-02\n",
      "   4.02480435e-02   7.16679573e-03  -4.47204184e-02   2.09125723e-02\n",
      "  -2.21981428e-02  -3.71553670e-02  -2.58353826e-02   3.22411588e-03\n",
      "   4.41467707e-02  -3.85681190e-03  -2.07503887e-02  -3.19699218e-02\n",
      "  -3.39852008e-02  -2.46316591e-02   1.30427089e-02   2.05609064e-02\n",
      "  -3.26401817e-02  -3.02547300e-02   4.37291221e-02  -4.10670528e-02\n",
      "  -2.82700551e-02  -3.27978865e-02  -4.47185213e-02  -4.27341254e-02\n",
      "  -4.97149526e-03   3.97843453e-02  -4.43425944e-02   3.80236270e-02\n",
      "  -4.05064488e-02   1.41853432e-03   4.33456990e-02   1.06148320e-02\n",
      "  -6.37590624e-03   7.56998409e-03  -4.45986858e-02  -1.85150431e-02\n",
      "  -1.75093431e-02   4.31713641e-02  -4.36808020e-02   1.99395951e-02\n",
      "   3.86506305e-02   3.47151356e-02  -4.39679186e-02  -2.39292489e-02\n",
      "  -1.52159557e-02  -1.73013012e-02   4.34674175e-02  -3.84308842e-02\n",
      "   6.70602149e-03   4.47202624e-02  -1.75760230e-02   4.27080572e-02\n",
      "  -3.46637891e-02  -1.38993880e-02  -4.21949780e-02   2.67337759e-02\n",
      "   1.24680713e-02  -1.78237143e-02  -4.07136365e-02  -1.63495772e-02\n",
      "   9.47428449e-03  -9.46571334e-03   7.77763525e-03   4.04627191e-02\n",
      "   1.64500964e-02  -1.27634941e-02   4.46873179e-02  -4.06500518e-02\n",
      "   1.10414227e-02  -2.81968517e-02  -1.12335137e-02   3.28346143e-02\n",
      "   3.88958472e-02   3.71977265e-02  -3.43216584e-02  -4.37399872e-02\n",
      "   4.35338766e-02   2.54273833e-03  -2.04382274e-02   3.83715248e-02\n",
      "  -4.35806527e-02  -2.30366548e-02   4.43068755e-02   5.92616675e-03\n",
      "  -3.35290956e-02  -4.03056401e-02   1.61334977e-03   4.16679360e-02\n",
      "  -3.40387888e-02  -1.78631060e-02   3.44446924e-02   3.99840180e-02\n",
      "  -1.89627722e-02  -2.37634850e-02  -1.51086105e-02   1.17416543e-02\n",
      "   3.88051145e-02  -1.52837510e-02  -4.27381980e-02   1.31195567e-03\n",
      "  -4.39471625e-02  -1.02988858e-02  -3.17853381e-02  -4.16295452e-03\n",
      "  -2.56706479e-02   2.44114903e-02  -2.87336487e-02  -4.09724426e-02\n",
      "  -1.57137631e-02   3.19738813e-02   4.46111033e-02   7.68320943e-03\n",
      "  -4.00185748e-02   2.82285631e-02  -1.77426880e-02  -2.99646377e-02\n",
      "  -1.16367614e-02  -4.21674042e-02  -3.43448369e-02   1.03266807e-02\n",
      "   6.75072394e-05   3.40700899e-02  -1.58311590e-02  -4.47156117e-02\n",
      "  -4.46296882e-02   4.47040929e-02   4.44066827e-02  -4.12156517e-02\n",
      "   4.40320694e-02   9.92070208e-03  -4.32369547e-02  -4.28209031e-02\n",
      "   4.37983703e-02   2.30488837e-02   9.98945595e-03  -4.15330188e-02\n",
      "   2.19187110e-02  -4.39765595e-02   1.20674137e-02   4.35897699e-02\n",
      "   1.61074140e-02   4.42734429e-02   4.33715278e-02  -4.19238669e-02\n",
      "  -2.71672246e-02  -6.18805510e-03   4.27104362e-02  -2.16001084e-02\n",
      "  -2.23262791e-02   4.46125730e-02   2.69570694e-02   7.91750277e-03\n",
      "  -1.77805914e-02  -2.58879423e-03   2.47704750e-02  -8.71779993e-03\n",
      "   3.66985577e-02  -1.19499087e-02   4.47152454e-02   7.33040391e-03\n",
      "  -4.46584499e-02   1.26422138e-02  -5.81503549e-03  -1.79295321e-02\n",
      "   3.33253433e-02   1.89820346e-02   4.14292258e-02   4.39682306e-02\n",
      "  -1.50126499e-02   2.90412936e-02   2.44776362e-02  -3.97974994e-02\n",
      "  -2.92964637e-02  -9.05171834e-03   4.46809870e-02  -1.61564430e-03\n",
      "   3.92807279e-02  -4.02637095e-02   4.10907395e-02   2.36882110e-02\n",
      "   2.49561805e-02  -3.99380399e-02  -2.06769633e-02  -3.71172517e-02\n",
      "   4.47003641e-02  -2.03859821e-02   2.37120671e-02   4.12822252e-02\n",
      "   3.52643939e-02  -1.33411485e-02  -4.45445203e-02  -4.47183930e-02\n",
      "  -3.13453362e-02  -3.55912501e-02   2.66193230e-02  -7.52915011e-03\n",
      "   2.50816445e-02  -3.87231556e-02  -4.47205048e-02  -5.71005016e-03\n",
      "  -2.44950875e-03   3.94091378e-02  -1.32654642e-02  -3.28054663e-02\n",
      "  -6.44281531e-03  -1.49242908e-02  -2.02659659e-03   1.81348665e-02\n",
      "   4.46052229e-02   2.23920698e-02  -4.18015631e-02  -1.04998214e-02\n",
      "  -4.46714568e-02   3.21760455e-02   4.42083452e-02  -4.35995610e-02\n",
      "   5.04345565e-03  -4.46972353e-02  -2.27411291e-02   7.03065699e-03\n",
      "   3.45403405e-02   4.43329553e-02   1.77596164e-02  -9.86080823e-03\n",
      "  -3.83745433e-02  -3.26141613e-02   1.99673586e-02  -3.90308921e-02\n",
      "  -1.30660085e-02   4.44776197e-02  -3.39823443e-02   3.93125732e-02\n",
      "   2.11001507e-02  -3.99643807e-02  -1.86967105e-02   5.25244328e-03\n",
      "   4.30246871e-02  -4.10866226e-02   9.03994683e-03   1.45539546e-04\n",
      "   4.32879990e-02   3.14055860e-03   3.50395584e-02   1.80283112e-02\n",
      "   4.55115797e-03  -1.14577371e-02  -4.13645101e-02   1.21539263e-02\n",
      "  -4.44508938e-02  -3.82915484e-02   3.30882865e-02   3.33428534e-02\n",
      "  -7.16054962e-03  -3.33106645e-02   4.45116172e-02   1.66149678e-02\n",
      "   4.36558172e-02  -2.56654812e-02   3.08727138e-02   6.14189234e-03\n",
      "   4.26840833e-02  -4.12869167e-02  -1.68398159e-02   4.41099335e-02\n",
      "   4.46160512e-02  -1.86482634e-02   4.42179038e-02   1.60872351e-02\n",
      "   4.40912921e-02  -3.48400293e-03   4.47147525e-02   4.12240135e-02\n",
      "  -3.85976497e-02  -2.29377513e-02   3.29509720e-02   3.13572891e-02\n",
      "   4.45839151e-02  -9.52738305e-03   3.19948286e-02  -1.89524239e-02\n",
      "   3.42466540e-02   2.96514329e-02  -1.47443136e-02  -3.90988952e-02\n",
      "  -2.71807184e-02  -3.53197264e-02  -3.93139235e-02  -3.37589009e-02\n",
      "   3.20801615e-02  -4.37129706e-02   4.80855769e-03   1.35076507e-03\n",
      "  -2.03354670e-02   4.02315920e-02   4.46196622e-02   8.50603371e-03\n",
      "   6.21062326e-03   4.38896316e-02  -4.43090572e-02  -2.69060546e-02\n",
      "  -4.28252111e-02  -2.40425758e-02   1.30746112e-02   4.45595148e-02\n",
      "  -9.94875410e-03  -1.25615564e-02   4.45582446e-02   2.54249474e-02\n",
      "  -4.15392382e-02  -3.65457893e-02   1.59193548e-02   6.64839195e-03\n",
      "   2.53659890e-02  -3.21768351e-02   3.41055654e-02  -4.46092264e-02\n",
      "  -2.88346945e-02   3.21717753e-02  -2.49500442e-02   4.04233787e-02\n",
      "  -4.41368009e-02  -2.62206395e-02  -3.34581043e-02   1.74690284e-02\n",
      "   4.05022328e-03  -3.29480608e-02  -1.45733309e-02   3.79438974e-02\n",
      "  -1.52179278e-02   4.03013384e-02   4.32149848e-02  -6.39435309e-03\n",
      "   3.59375391e-02   1.01034288e-02  -2.67741034e-02   3.79740342e-02\n",
      "  -4.47034644e-02   3.11610328e-02   8.23366946e-03  -3.00340342e-02\n",
      "  -2.99599699e-02   3.66480186e-02  -2.17940298e-02  -2.40317119e-02\n",
      "  -4.37368813e-02   3.24522791e-02  -5.51313853e-03  -2.73699095e-02\n",
      "  -1.91314597e-02  -4.23790969e-02   1.69271865e-02   2.07414032e-02\n",
      "   4.15270584e-02  -3.19484632e-02  -3.81901069e-02   4.20629721e-02\n",
      "   2.83202905e-02   3.67722514e-02   1.70142737e-02   3.56535691e-02\n",
      "  -4.44865617e-02   2.50026619e-02  -8.05312479e-03   3.30965912e-02\n",
      "  -3.02858892e-02   4.35608133e-02  -3.62274579e-02   4.46413829e-02\n",
      "  -3.85849286e-02   4.42775071e-02  -1.74987100e-02  -4.44236312e-02\n",
      "  -3.97882600e-02   3.18650642e-03  -4.17556923e-02  -3.53230473e-02\n",
      "  -4.46831191e-02   1.48928825e-02   2.47285384e-02   1.26907527e-03\n",
      "  -2.15380869e-02  -2.75882645e-02  -4.09922239e-02   3.61027074e-02\n",
      "   3.27316627e-02  -4.18947466e-02   1.25483273e-02  -3.01619122e-02\n",
      "  -2.91858276e-02  -1.58295579e-02   3.73743069e-02   9.09120383e-03\n",
      "  -3.15649172e-02  -3.60201941e-02   1.03692042e-02  -2.59752074e-02\n",
      "   1.76320092e-02   3.94998348e-02   3.87275074e-02  -4.14662177e-02\n",
      "  -2.76151635e-03  -2.24735275e-02   4.47169396e-02  -4.41441770e-02\n",
      "   1.79945190e-02  -3.66667691e-02  -4.46789668e-02  -2.59534676e-02\n",
      "  -4.34678963e-02   4.46813266e-02   3.19559523e-02  -4.14252951e-02\n",
      "   4.42019014e-02   1.85761163e-02   2.94999955e-02   4.38952385e-02\n",
      "  -4.34748847e-02   4.33618768e-02   3.72056303e-02   4.09761528e-02\n",
      "   3.25880733e-02   1.93895581e-02   1.90336541e-02  -4.38102109e-02\n",
      "  -4.01600368e-02  -3.63559683e-02  -3.88859919e-02  -5.89190696e-03\n",
      "   9.56141552e-03  -2.51837823e-02  -4.13207862e-02  -3.81154516e-02\n",
      "  -1.90198306e-02  -1.00975355e-02  -1.27940379e-02  -1.83387000e-02\n",
      "   3.49232076e-03  -3.65694031e-02   7.58815466e-03   1.53086553e-02\n",
      "   4.40055068e-03   4.43212239e-02   4.44980942e-02   3.09611464e-04\n",
      "   1.17500354e-02  -8.61022154e-03   1.12948197e-03  -4.20877010e-02\n",
      "  -3.84095030e-02  -7.99755327e-03  -4.35615129e-02  -3.69642184e-02\n",
      "  -1.59417102e-02   3.28215650e-03   3.73779234e-02  -2.72134790e-02\n",
      "  -2.16503716e-02  -1.71547498e-02   4.47126244e-02  -4.13976605e-02\n",
      "   3.21051472e-02  -4.40977670e-02   4.43594889e-02  -4.47208981e-02\n",
      "  -3.15531539e-02   1.74613791e-02   4.38317191e-02  -1.03370608e-02\n",
      "   1.46188877e-02   4.47082172e-02   3.41294012e-02  -4.38731244e-02\n",
      "   1.73802689e-02  -3.18788719e-02  -4.21506902e-02   2.53611218e-04\n",
      "   3.64514996e-02  -2.86202609e-02  -4.11862532e-02   3.20461410e-03\n",
      "   2.39519341e-02   4.44665171e-03   4.36773290e-02  -4.42556718e-02\n",
      "   3.50726088e-02   4.12215658e-02   2.25799774e-02  -4.29909650e-02\n",
      "   2.30792302e-02   3.29238749e-02   7.29584965e-03  -4.03138147e-02\n",
      "  -3.34904183e-02   2.49953415e-02  -3.21709442e-02   1.20769825e-02\n",
      "  -1.60734502e-02  -4.38196783e-02  -3.71802891e-03   4.47208134e-02\n",
      "   4.06938486e-03  -2.06610946e-02   3.22755442e-02   2.17174664e-02\n",
      "   3.47949443e-02   4.03294927e-02   3.25447435e-03  -9.70996340e-03\n",
      "  -6.10735151e-03   4.47178275e-02   3.64201139e-02   2.94487148e-02\n",
      "   2.41144997e-02  -4.21072350e-02   1.75378748e-02   1.70616997e-02\n",
      "   3.77579301e-02  -4.19418087e-02  -1.14723352e-02  -4.46012755e-02\n",
      "   4.25461905e-02   3.91310793e-02   1.14005022e-03   4.44235275e-02\n",
      "  -1.59609522e-02  -5.04920779e-03  -1.21356040e-02  -2.36426792e-02\n",
      "   4.30772002e-02  -2.88272923e-02   6.64271556e-03   3.93878873e-02\n",
      "   3.34312902e-02   4.05683769e-02   2.69829946e-02   3.31004448e-02\n",
      "  -4.10238504e-02  -1.17845128e-02   3.40938454e-02   3.68651615e-02\n",
      "   1.79595047e-02  -7.83178735e-03  -3.74112084e-02  -8.43632759e-03\n",
      "   7.55576471e-03  -1.23863984e-02  -3.49235890e-02  -1.04325824e-02\n",
      "   4.47188584e-02   1.76334132e-02  -3.83465653e-02   3.24349925e-02\n",
      "  -4.90715614e-03   4.03139251e-02   2.11469723e-02  -1.24323334e-02\n",
      "   3.71865314e-02  -1.85265884e-02  -3.28281898e-02  -3.00538355e-02\n",
      "  -4.40072458e-02  -9.02242265e-03  -5.38854585e-03   2.07880788e-02\n",
      "  -3.24312039e-02  -4.13793956e-02  -3.94739911e-02   3.82874144e-02\n",
      "  -5.48434673e-03  -2.67488985e-02   9.69815975e-03  -3.10055327e-02\n",
      "  -3.44324844e-02  -3.97924009e-02  -7.92822174e-03  -2.66568731e-03\n",
      "  -8.63886937e-03   3.77863757e-02   3.21943217e-02   1.84575095e-02\n",
      "   2.99711111e-02  -1.81193633e-02   1.00270172e-02  -3.54104578e-02\n",
      "   1.33702749e-02   1.84693242e-02  -1.80460713e-02  -2.16389829e-02\n",
      "   2.65736167e-02  -1.53985094e-02  -1.30804256e-02  -2.95579141e-02\n",
      "  -1.88172648e-02   2.51948885e-02   1.81863313e-02   2.92858931e-03\n",
      "  -1.05931004e-02  -4.18299655e-02  -2.62494905e-02   3.77602300e-02\n",
      "   2.69916595e-02  -3.85750823e-02  -1.07482891e-02   2.20791509e-02\n",
      "  -3.42748443e-02  -4.47176351e-02   4.10483358e-02   4.20587557e-02\n",
      "   2.12998708e-02   4.45000475e-02  -4.84395454e-03   3.44686613e-02\n",
      "  -1.12034172e-02   1.35541571e-02  -4.33063713e-02  -3.65712045e-02\n",
      "   3.74198809e-03  -1.70842744e-02   2.65846212e-02  -4.16132165e-02\n",
      "  -4.46929719e-02   2.32963672e-02  -4.44185466e-02   9.68187083e-03\n",
      "  -3.62288867e-02  -1.59145248e-02   1.03654246e-02  -3.89799135e-02\n",
      "  -4.47121276e-02  -3.95465104e-02   1.89564008e-02  -3.90095964e-02\n",
      "  -3.71677240e-02   2.38235152e-02  -1.32542359e-02   3.32155420e-02\n",
      "   3.47469669e-02  -4.37174667e-02   4.09912243e-02  -4.12078019e-02\n",
      "  -4.29257106e-02   4.12114712e-02  -4.36258468e-02  -2.52436309e-02\n",
      "   2.70552378e-02   4.30510461e-02   1.48441800e-02  -2.05715030e-02\n",
      "  -6.81305080e-03   3.47377760e-02  -3.06065076e-03  -2.25595625e-02\n",
      "  -4.36278275e-02   4.38864890e-03  -6.30021343e-03   1.57266511e-02\n",
      "   1.13870620e-02  -9.55028422e-03  -5.50560388e-03   1.09971095e-02] \n",
      "**\n",
      "features 1in feature space\n",
      "[  8.23041623e-03  -1.99774453e-02  -2.11945522e-02  -1.54487444e-02\n",
      "   3.19930099e-02   1.54550751e-02   4.22845943e-02   3.59351432e-02\n",
      "   3.74122892e-02   4.02859818e-02  -4.44035429e-02  -1.00860190e-02\n",
      "   9.85173846e-03   3.29988697e-02   1.40931229e-02   4.47201390e-02\n",
      "   3.05018768e-03  -8.38017487e-03  -4.44989916e-02   4.17390934e-02\n",
      "   1.06801458e-02   6.66366148e-03  -2.00619763e-03   3.28650858e-02\n",
      "  -1.31974402e-02   3.20366596e-03  -9.34807199e-03  -1.29140043e-02\n",
      "  -4.36627311e-02   3.61617059e-02   1.11774526e-02   3.76042999e-02\n",
      "   2.15182866e-02   3.96499730e-02  -4.25228212e-02  -2.91211562e-02\n",
      "   4.76268792e-03  -3.97663630e-02   1.90233229e-02  -4.31501566e-02\n",
      "   1.34290702e-02   2.97965188e-03  -4.20190556e-02   3.31019116e-02\n",
      "  -5.98816535e-03   3.63150755e-02  -2.85977971e-02  -4.46372084e-02\n",
      "   2.02958586e-02  -2.00773653e-02   2.51104833e-02   4.31263496e-02\n",
      "   1.52824758e-03  -1.11571477e-03  -8.76286492e-03  -4.01695719e-02\n",
      "   1.26455434e-02   1.22970893e-03  -4.04008441e-02  -4.38872005e-02\n",
      "  -1.48791659e-03  -2.76512717e-02   3.44371439e-02   3.34756801e-02\n",
      "  -4.13203620e-02  -3.41151575e-02   2.11259702e-02   3.42840823e-02\n",
      "   2.23213902e-02  -1.69332724e-02   3.96272416e-02   2.41349777e-02\n",
      "  -3.88395270e-02  -2.16955866e-02  -4.44905514e-02  -1.80898167e-02\n",
      "   3.53576193e-02   3.58302166e-02  -4.43606868e-02   4.07388974e-02\n",
      "   4.02579229e-02   4.41461810e-02  -7.84128258e-03  -4.37109643e-02\n",
      "   2.75228672e-02   4.27665157e-02   1.16249665e-02   3.67546278e-02\n",
      "   8.86991757e-03   3.19780098e-02   2.61788617e-02  -3.43080294e-02\n",
      "  -4.45912225e-02  -1.08418660e-02   4.40025412e-02  -1.82784045e-02\n",
      "  -3.46509097e-02   4.06283920e-02  -4.37701607e-02  -2.91356699e-02\n",
      "   4.12521138e-02  -2.08082655e-02  -4.39461472e-02   5.49101086e-03\n",
      "  -4.42235011e-02   2.78165335e-02   4.44219875e-02  -1.06557387e-02\n",
      "   4.10206598e-02   1.28883025e-02   2.66873632e-02   9.45432110e-03\n",
      "   3.14591252e-03   1.12281281e-02  -4.35026009e-02   4.42784406e-02\n",
      "  -4.28679505e-02  -3.88884839e-02   4.42826185e-02  -2.73946444e-02\n",
      "  -1.68709904e-02  -3.67952833e-02  -1.15726535e-02  -4.01153447e-02\n",
      "  -3.58396911e-02   4.11135830e-02   1.69552586e-02   1.26958611e-03\n",
      "  -4.00922040e-02  -2.66322515e-02   4.14688861e-02  -3.22651303e-02\n",
      "   8.50665328e-03  -3.77867882e-02  -4.36700130e-02   3.12445270e-02\n",
      "  -4.38182998e-03  -3.90673510e-02   2.19075124e-02   4.36441567e-02\n",
      "  -3.07356408e-02  -1.24229889e-02   4.34092746e-02   4.32874878e-02\n",
      "   1.33050233e-02  -4.46472987e-02  -4.47084597e-02   3.43959897e-02\n",
      "   2.44553290e-02  -3.98291466e-02  -2.72297328e-02  -1.45933790e-02\n",
      "   2.98931715e-02  -2.15970298e-02  -2.59279808e-02  -1.23972937e-02\n",
      "  -4.46658604e-02   2.66112683e-02  -1.43236878e-02  -3.17283967e-02\n",
      "   4.12707286e-02   4.29845415e-02  -2.24303136e-02   2.29331762e-03\n",
      "   2.02975464e-02  -4.43735120e-02  -3.59936522e-02   1.92802380e-02\n",
      "   2.03743577e-02  -1.61031303e-02  -1.01310604e-02  -2.26277419e-02\n",
      "  -4.44733409e-02  -3.29101398e-02  -1.48466593e-02   4.03002749e-02\n",
      "   4.42056041e-02  -2.07268596e-02  -1.05203831e-02  -2.74849068e-02\n",
      "  -8.18756727e-03  -4.13564971e-02  -3.55976803e-02   2.31830483e-02\n",
      "   3.98273202e-02  -4.46584683e-02   3.50397251e-02  -3.86910749e-02\n",
      "  -2.53741474e-03   4.02536328e-02   9.55915963e-03  -4.45319788e-02\n",
      "  -4.11726775e-03   4.42548699e-02  -2.89101283e-03  -4.41819506e-02\n",
      "  -4.41767961e-02   4.29270667e-02   4.59811073e-04  -3.90146876e-02\n",
      "  -4.47137653e-02  -2.37908994e-02  -4.07807820e-02   1.14165637e-02\n",
      "   4.31089378e-02   3.99282166e-02   1.71639772e-02   3.37733320e-02\n",
      "   4.22105151e-02  -3.84856173e-02  -6.87516358e-03   4.45164936e-02\n",
      "  -4.14139648e-02   2.96905066e-02   3.49325748e-03   2.20204486e-02\n",
      "  -8.97119559e-03   3.73352420e-02  -3.41365890e-03  -3.99940926e-02\n",
      "  -2.69145160e-02   1.65882654e-02   6.64626633e-03  -2.85920981e-02\n",
      "  -3.43572772e-02  -3.51336077e-02   4.47180847e-02  -4.16206968e-02\n",
      "   4.01023316e-02   1.74207296e-02   1.63177589e-02  -2.22536175e-02\n",
      "   4.30964306e-02   3.31256336e-02   4.45092077e-02  -4.93575833e-03\n",
      "   4.03904028e-02   8.71597322e-03   4.36401923e-02  -3.72698825e-02\n",
      "  -3.27960015e-03   3.07073000e-03  -7.80670915e-03  -4.46776974e-02\n",
      "  -3.13366868e-02   1.54316491e-02  -3.89929404e-02   1.60272737e-02\n",
      "   2.36173200e-02   3.34882558e-02  -3.55345101e-02   3.90375243e-02\n",
      "   1.99353153e-02  -3.39663181e-02  -1.59312229e-03   2.21497961e-02\n",
      "   4.37135523e-02   3.42256917e-02   1.60858673e-02   3.98201851e-02\n",
      "  -4.46723053e-02   8.21424814e-03  -2.12884226e-03   3.75470519e-02\n",
      "   4.43165708e-02  -1.89418676e-02   4.17438433e-02   2.66040452e-02\n",
      "   2.07076646e-03   4.16274455e-02  -1.90683833e-02   4.45631865e-02\n",
      "  -4.19427086e-02  -1.26515152e-02   3.96159993e-02   4.18720204e-02\n",
      "   3.09965410e-03   4.36244874e-02   3.66560609e-02  -6.49206798e-03\n",
      "  -2.72644511e-02  -1.18020696e-02  -4.07351739e-02   2.40685261e-02\n",
      "  -4.43376698e-02  -4.21074844e-02   4.36985976e-02  -9.42986214e-03\n",
      "  -4.39994735e-02  -3.06721783e-02   4.23738344e-02   3.08282461e-02\n",
      "   4.40104600e-02  -3.54573680e-02  -1.47551553e-02   4.01369252e-02\n",
      "   1.08195143e-02  -4.42417688e-02   3.62275070e-02  -4.19491156e-02\n",
      "   1.57641617e-02  -2.85401801e-02   4.19273629e-02   1.92027364e-02\n",
      "  -4.33031145e-02  -4.12837601e-02  -3.75211050e-02   4.46900159e-02\n",
      "  -2.95483597e-02  -4.14620419e-02   3.57954717e-02   4.44985615e-02\n",
      "   7.82130428e-03   4.47200836e-02  -4.03005976e-02   1.03385701e-04\n",
      "  -2.84530407e-02  -2.97005688e-02  -4.40059705e-02  -2.56267802e-02\n",
      "  -3.98958156e-02   3.50234463e-02   4.17223361e-02   3.66431782e-02\n",
      "  -2.11330118e-03  -4.27338680e-02   1.89587690e-02   2.33322484e-02\n",
      "  -1.39209071e-02   4.46897464e-02  -4.03189129e-02   4.45373720e-02\n",
      "  -3.92445902e-02   2.73319791e-02   1.05413885e-02  -4.38145469e-02\n",
      "   2.19859200e-02   4.20544248e-02   4.45872334e-02  -2.23478504e-02\n",
      "  -2.08719654e-02  -6.30934241e-03  -7.02582612e-03   2.44687289e-02\n",
      "   2.64793987e-02  -2.80742006e-03   3.29825949e-02   2.18433854e-02\n",
      "   7.74631053e-03   2.80661827e-02  -3.22900102e-02   8.73177014e-03\n",
      "  -2.05888722e-02  -4.24699919e-02   4.47209232e-02   2.05222761e-02\n",
      "   1.35702494e-02   4.46852333e-02  -1.38954691e-03  -7.43450715e-03\n",
      "   5.24775606e-03  -5.15289049e-03  -4.35109186e-02  -4.41032119e-02\n",
      "   3.84576993e-03  -4.33083764e-02  -5.12920892e-03   3.79913139e-02\n",
      "   6.21195266e-03   3.26483572e-02   3.67130794e-02   2.95485362e-02\n",
      "   7.77601879e-03  -2.39492303e-02   4.44741789e-02   3.50604755e-02\n",
      "   2.51876041e-02   3.51489156e-02  -4.27794603e-02   7.17677547e-03\n",
      "   3.97437089e-02   3.45199141e-02  -2.81926292e-02  -3.70658473e-02\n",
      "  -7.67002995e-03   4.45891729e-02  -1.41415530e-02  -1.20985741e-02\n",
      "   1.72658206e-02  -2.08206818e-02  -4.06567677e-02   1.64782094e-02\n",
      "  -2.12327671e-04   3.93761126e-02   1.80570199e-03  -3.03567673e-02\n",
      "   3.56733092e-02  -1.81938514e-02  -3.83198635e-02  -1.87493783e-02\n",
      "  -4.13419403e-02  -2.70671507e-02   3.32360924e-02  -1.17117959e-02\n",
      "   4.46943813e-02  -4.08861978e-02   3.91878393e-02  -3.92875233e-02\n",
      "  -4.40735883e-02   1.39387092e-02   4.41113601e-02   1.14239847e-02\n",
      "  -1.54575333e-02  -1.91965619e-02   3.72645800e-02  -7.06994938e-03\n",
      "  -3.06265613e-03  -3.50549533e-02   2.31761122e-03  -4.99301154e-04\n",
      "  -2.79964196e-02   4.11037377e-02  -2.44648613e-02  -3.47202484e-02\n",
      "   3.00182516e-03   2.22389581e-02  -4.19347459e-02  -1.68343040e-02\n",
      "   3.97894328e-02  -2.88726053e-02   4.03034827e-02   1.62275623e-02\n",
      "   3.57859788e-02   3.21235052e-02   3.53218874e-02  -1.94465460e-02\n",
      "  -3.24508825e-02   7.49109217e-04   4.10765698e-02   4.18093843e-02\n",
      "  -3.40696062e-02   3.19662097e-02  -3.89126780e-02   4.75906922e-03\n",
      "  -6.91104931e-03   3.33729109e-02   2.78925563e-02   6.19374943e-03\n",
      "  -2.17998011e-03   3.20315498e-02  -4.46832089e-02   7.41044434e-03\n",
      "   4.18961215e-02  -1.58972967e-02   4.16155941e-02   4.19027754e-02\n",
      "   1.05627321e-02   1.19399173e-02   2.31033244e-02  -2.66031558e-02\n",
      "  -3.96409771e-02  -4.27776544e-02  -3.03363253e-02  -4.22833229e-02\n",
      "  -3.71860242e-02   2.92908523e-02   4.18211947e-02  -3.34602779e-02\n",
      "  -2.42682183e-02   4.57394749e-03   3.30205294e-02   3.77036021e-02\n",
      "  -3.64042173e-02   3.74964948e-02   4.04644780e-02  -4.27797428e-02\n",
      "  -4.47033134e-02  -3.44193413e-02   1.60111137e-03  -2.63248242e-02\n",
      "  -4.46246987e-02  -4.43908843e-02   4.42855698e-02  -8.59407804e-03\n",
      "  -4.04245737e-02   3.55307096e-02  -2.60633218e-02   2.44173345e-02\n",
      "   4.00684086e-02  -2.25741916e-04   3.48909519e-02   4.40599639e-02\n",
      "  -6.70216894e-03   7.54244503e-03  -4.47176718e-02  -1.03188117e-02\n",
      "   4.06729736e-02   1.71229217e-02  -2.54935722e-03  -4.25797082e-02\n",
      "   2.05579117e-02   1.33136845e-02   4.41684177e-02   1.81432181e-02\n",
      "  -4.23975885e-02   1.66039305e-02  -4.35463188e-02   2.25918728e-02\n",
      "   3.87084157e-02  -3.48299399e-02   2.21795906e-03  -3.40296103e-02\n",
      "   4.09457197e-02  -4.47043039e-02  -4.07354533e-02  -2.52406403e-03\n",
      "  -3.58311791e-02  -3.58468996e-02  -2.68501870e-02   4.39182141e-02\n",
      "   4.44769493e-02  -4.23893391e-02   2.55672139e-02   2.33889028e-02\n",
      "   4.46257939e-02   3.35445061e-02  -2.14683292e-02   7.93543875e-03\n",
      "   4.07654672e-02  -2.74908949e-02   4.45555266e-02  -4.41623682e-02\n",
      "   1.58108239e-02  -2.01516727e-02  -1.88466977e-02   3.54808479e-02\n",
      "  -7.38545238e-03   4.41738953e-02   3.58054181e-02   1.73626451e-02\n",
      "  -4.01910279e-02   3.88958387e-02   1.07871982e-02   2.71594858e-02\n",
      "   4.06478790e-02  -2.90534922e-02   2.28233982e-02  -2.88521628e-02\n",
      "   8.05500805e-03  -4.03471335e-02   2.54518487e-02   3.69218024e-02\n",
      "   2.94093279e-02   7.27239923e-03   2.85979894e-03   1.59523523e-02\n",
      "   2.29499918e-02  -3.91498914e-02   3.34334665e-02  -4.46668981e-02\n",
      "   4.01744191e-02   4.46106973e-02  -8.69295994e-03  -4.45848698e-02\n",
      "  -3.80392562e-02   4.46295520e-02   4.00185159e-02  -3.81415485e-02\n",
      "  -4.26949306e-02   1.59851499e-02   5.08755943e-03   2.31596207e-02\n",
      "  -4.46739747e-02  -4.46622495e-02  -3.24036721e-02  -4.47089473e-02\n",
      "  -3.45095914e-02   3.33699210e-02   4.14294840e-02  -2.42710852e-02\n",
      "  -2.12359185e-02  -2.19219864e-02  -4.10007124e-02  -1.07447232e-02\n",
      "  -3.14171109e-02   2.35727017e-02  -3.98326703e-03  -2.52909191e-02\n",
      "  -3.85945139e-02  -5.34332458e-03  -2.29603004e-02  -4.23529436e-02\n",
      "   4.69348006e-03   2.73857265e-02  -2.96416761e-02  -3.26189034e-02\n",
      "   1.16082262e-02   4.20213833e-02  -4.43550788e-02   4.22784078e-02\n",
      "  -1.18689917e-02   4.14126252e-02   4.12953558e-02  -8.72736500e-03\n",
      "  -1.76105309e-02  -1.15799710e-03   1.84896177e-02   3.42941194e-02\n",
      "   2.30635428e-02  -4.59128468e-05   5.36424595e-03   2.18886875e-02\n",
      "   2.80070293e-02   3.10785679e-02   3.99404030e-02  -3.51007434e-02\n",
      "   3.53282671e-02  -3.20874948e-02  -4.42656407e-02   2.37620799e-02\n",
      "  -3.27920350e-02  -2.06497225e-03  -1.95198094e-02  -2.46945949e-02\n",
      "  -3.48235235e-02   2.24699606e-02  -4.41276482e-02   4.29735037e-02\n",
      "  -2.18426522e-02  -4.31706476e-02  -3.62117558e-02   1.24963897e-02\n",
      "  -2.36923624e-03   2.12715959e-02  -4.45563109e-02  -2.73553123e-02\n",
      "   3.27339838e-02   1.59374448e-02  -3.15356147e-02  -3.46464179e-02\n",
      "   4.21801403e-02   3.92822311e-02  -4.35975203e-02  -4.33453093e-02\n",
      "   4.40684908e-02   1.54787783e-02   3.57059018e-02   4.82304578e-03\n",
      "   4.46985454e-02  -4.32047812e-02  -1.32827458e-02   4.05764418e-02\n",
      "  -4.25247484e-02  -3.14249371e-02   4.22283702e-02   1.76659459e-02\n",
      "   4.24958157e-02   2.28299570e-02  -2.25947008e-02   1.60473334e-02\n",
      "  -4.10308416e-02  -2.32319485e-02   3.44043022e-02  -4.05401720e-02\n",
      "  -7.40822744e-03   3.91765876e-02   3.89073349e-02   2.11547109e-02\n",
      "  -2.65024752e-03  -3.96850156e-03  -2.89091876e-02  -3.28259926e-02\n",
      "   2.46926082e-02  -4.39739982e-02  -1.88125440e-02  -3.20705372e-02\n",
      "   1.29494425e-02  -7.40687152e-03   3.32948843e-02   4.07356881e-02\n",
      "  -3.02792043e-02   1.77557208e-02   4.24010961e-02   4.39192376e-02\n",
      "  -1.30639527e-02  -2.25322559e-02  -6.08397678e-04   1.07180315e-02\n",
      "  -3.62321403e-02   4.26670986e-02   3.78203775e-02  -3.69770940e-02\n",
      "  -3.35259299e-02  -7.39537044e-03  -3.95293338e-02  -1.85841423e-02\n",
      "  -4.37738922e-02  -4.43277357e-02   5.78715241e-03  -2.58939211e-02\n",
      "   1.22055250e-02  -7.80438136e-03   2.21388190e-02  -4.03645584e-02\n",
      "  -2.62600064e-02   6.28759555e-03   3.16866704e-02  -3.69524965e-02\n",
      "  -3.54749541e-02   2.64436705e-02   3.75214256e-02  -9.98200128e-03\n",
      "   1.90526636e-03   1.81767753e-02  -2.60074139e-02   2.10213620e-02\n",
      "   4.37235581e-02  -1.03609163e-02   4.45569404e-02  -2.87883971e-02\n",
      "   3.44158210e-02  -3.92898359e-02   6.05550972e-03   4.28545054e-03\n",
      "   1.84902511e-02  -4.37670916e-02  -4.47131559e-02   2.71117511e-02\n",
      "  -4.33252657e-02  -2.54249893e-02   4.44187577e-02  -3.69223079e-02\n",
      "  -3.76530405e-02   4.15545229e-02  -4.04661257e-02  -1.80330249e-02\n",
      "  -1.94635506e-02   3.69292154e-02  -4.46283878e-02   3.96183941e-02\n",
      "   3.74339529e-02  -2.61897367e-02   4.01799814e-02  -1.77534291e-02\n",
      "   3.12193777e-02  -2.31237330e-03  -4.05932808e-02   4.13139187e-02\n",
      "  -3.97566570e-02   2.20604707e-02   1.16926669e-02  -1.10465408e-02\n",
      "   2.32673237e-02  -3.19084159e-02   3.57040289e-02  -5.16312544e-03\n",
      "  -2.31541514e-02   1.45405233e-02   4.45236535e-02  -4.46058022e-02\n",
      "  -8.81777712e-03  -4.45652065e-02  -3.23511042e-02   2.82980186e-02\n",
      "   3.93106370e-02   4.16642923e-02   3.51800562e-02  -2.18337512e-02\n",
      "   1.90602718e-02  -3.67732968e-02  -2.13387732e-02   4.47209107e-02\n",
      "   2.55147034e-02  -1.92328746e-02   2.05086533e-02   2.64678328e-02\n",
      "   4.26230813e-02  -1.73241003e-02   4.34765545e-03  -3.74487419e-02\n",
      "   4.57986413e-03  -4.45065013e-02   8.47577928e-03   4.46367430e-02\n",
      "   4.41150330e-02  -2.75579109e-02  -4.09951855e-02   6.72412570e-03\n",
      "   5.01558360e-03  -3.01489950e-02  -3.19122370e-02  -3.13251475e-02\n",
      "  -3.18954240e-02   1.42842322e-02  -4.47147032e-02   4.45012724e-02\n",
      "   3.11142758e-02   2.96471925e-05  -3.14044468e-02  -3.48815053e-02\n",
      "  -2.32276503e-02   3.40688468e-02   5.26898903e-03  -3.76689797e-02\n",
      "  -4.46413813e-02   4.46160104e-02  -2.44909288e-02  -1.82289035e-02\n",
      "  -9.24777469e-03  -4.17462357e-02   1.69876316e-02   4.43910560e-02\n",
      "   2.71921368e-02   4.42113302e-02  -4.32039267e-02   1.22744278e-02\n",
      "   8.59059018e-03   3.51477994e-02  -1.75598377e-02  -4.46258018e-02\n",
      "  -4.46847922e-02   4.06316098e-02  -3.67330353e-02   3.93670950e-02\n",
      "   9.43440980e-03  -2.74419978e-02  -4.44552466e-03  -2.06787142e-02\n",
      "  -1.29676418e-02   4.43386348e-02   3.84478462e-02   2.68709123e-02\n",
      "   3.78049898e-02  -4.44701497e-02  -1.43477510e-02   3.45404950e-02\n",
      "  -4.45403887e-03  -2.85821675e-02  -2.23668286e-02  -4.46276912e-02\n",
      "  -3.43385962e-02   2.10936960e-02   1.63590499e-02  -2.47391664e-02\n",
      "  -1.62996509e-02   4.15339183e-02  -2.14440725e-03   4.34450831e-02\n",
      "  -4.31593722e-02   4.38940001e-02  -3.19351895e-02   4.46287563e-02\n",
      "   3.75614305e-02  -2.09569179e-02   6.32993530e-03  -1.08039116e-02\n",
      "   1.91828694e-03  -4.27316899e-02  -3.43736137e-03   4.14167414e-02\n",
      "  -2.27726419e-02   3.93205662e-02   4.38343835e-02   6.01071600e-03\n",
      "  -1.41703350e-02   1.81842680e-02  -3.75043253e-02   1.12847619e-03\n",
      "   4.21563805e-02  -4.45123899e-02   1.15991995e-02  -5.32543626e-04\n",
      "   1.17653995e-02  -9.49266573e-03  -3.43552796e-02   2.24933182e-03\n",
      "   4.14781410e-02   1.36013853e-02   4.39803033e-02   1.75170297e-02\n",
      "  -4.47127783e-02   1.89882477e-02   4.36236392e-02  -4.46617241e-02\n",
      "   3.70090787e-02  -3.88823631e-02  -3.97663559e-05   4.25672228e-02\n",
      "  -6.84076279e-03   3.82507115e-02   4.47208987e-02  -4.21013046e-02\n",
      "  -3.31231724e-02   2.44355495e-02  -4.43935458e-02  -4.21219537e-02\n",
      "  -9.30829201e-03   4.38158432e-02   4.43478529e-02  -7.04143677e-03\n",
      "   9.85142503e-04   3.98170701e-03  -3.76474388e-02  -2.92480212e-02\n",
      "  -3.32230406e-02   1.74867475e-02   3.77409980e-02   1.70811015e-02\n",
      "  -3.48239474e-02  -2.86630535e-02   3.44451408e-02  -1.57322926e-03\n",
      "  -4.11006653e-02  -3.40701425e-02   4.22554632e-02   4.38867224e-02\n",
      "   4.45932666e-02   3.42658368e-02   2.95407147e-02   2.50116623e-02\n",
      "   4.85913473e-03   2.36541832e-02   4.45592411e-02  -4.47206867e-02\n",
      "   1.74668142e-02  -3.08582335e-02   3.05914362e-02  -2.44470503e-02\n",
      "  -2.45506513e-02   4.28416895e-02  -3.58876665e-02   2.76671992e-03\n",
      "   4.46904059e-02  -2.85532879e-02   3.48028181e-02  -4.47022470e-02\n",
      "   1.46076468e-02   4.39665707e-02  -4.33812272e-02  -3.01996953e-02\n",
      "  -2.48653119e-02   3.13233065e-02  -1.38744032e-02  -4.37669583e-02\n",
      "   3.78319882e-02  -2.45543468e-02   3.67455364e-02   3.84438467e-03\n",
      "   1.74121635e-02   4.40422308e-02   4.47206901e-02  -4.31410502e-02\n",
      "   2.11846498e-02   3.95163647e-02   2.00917610e-02   2.66240853e-02\n",
      "  -3.13965145e-02   1.70610569e-02   4.31211439e-02   2.24865598e-02\n",
      "   4.09019111e-02  -4.18719713e-02  -2.64394132e-03  -3.74227306e-02\n",
      "  -4.45046432e-02  -2.48575577e-04  -3.45066767e-02   1.48621771e-02\n",
      "  -1.27261124e-02  -3.22080299e-02   9.58198247e-03   4.42508686e-02\n",
      "  -3.72791257e-02   4.31179008e-02  -3.19044445e-02   4.29643740e-02\n",
      "   2.79743197e-02  -1.90608350e-02  -2.29415746e-02   3.82185616e-02\n",
      "  -2.60098964e-03   4.40235158e-02  -1.71261375e-02   1.91299298e-02\n",
      "   1.64165419e-02   1.97609047e-02   1.66356533e-02   4.42676197e-02\n",
      "  -4.02107277e-02  -4.26673686e-02   2.17552896e-02  -2.72313933e-02\n",
      "  -2.05111385e-02   2.89073094e-02   4.04268471e-02   3.94577275e-02\n",
      "   4.16557294e-02   2.89218565e-02   2.91881685e-02   3.25790848e-02] \n",
      "**\n",
      "features 2in feature space\n",
      "[ -4.36087629e-02   1.51066128e-02   2.91373098e-02   1.12366840e-02\n",
      "  -4.40271808e-02  -3.90874768e-02  -1.99615210e-02   3.00728935e-02\n",
      "   1.42450540e-02  -2.38007981e-02  -4.45896283e-02  -4.13088137e-02\n",
      "  -4.31345229e-02  -1.86103970e-02  -1.23372629e-02  -3.20592132e-02\n",
      "   3.09199484e-02  -2.02756045e-02  -3.45075150e-02   1.64801141e-02\n",
      "   8.40811967e-03  -3.55766063e-02  -3.19430165e-02  -2.32815339e-02\n",
      "  -3.23722987e-02   4.37388710e-02   6.74464332e-03   4.09555711e-02\n",
      "  -4.29935396e-02   4.11364882e-02   2.07758626e-02  -4.41100306e-02\n",
      "  -1.29537741e-02   4.19644355e-02  -4.20754634e-02  -2.10753933e-02\n",
      "   2.62926093e-02   2.32392643e-02  -4.47150733e-02  -1.65938160e-02\n",
      "  -5.53659913e-03   1.43735681e-02  -1.92701471e-02  -1.14902399e-02\n",
      "   1.73456090e-02  -2.89901085e-02  -1.22215576e-02  -3.26235507e-02\n",
      "  -1.03858624e-02   3.60078550e-02   1.26604119e-02  -3.44887917e-02\n",
      "  -3.42844517e-02   1.61270113e-02   3.99388643e-02   4.39748872e-02\n",
      "  -2.65892870e-02  -2.96587892e-02   3.87219452e-02   2.28503421e-02\n",
      "  -4.40234950e-02  -2.54594516e-02  -1.26096801e-02  -2.38784464e-02\n",
      "  -3.33775210e-02   1.39156752e-02   1.52305186e-02  -4.36924765e-02\n",
      "   9.41020102e-03   4.25291238e-02   1.82478181e-02  -3.43054677e-02\n",
      "   3.58774133e-02   3.58208982e-02   4.39548753e-02   4.05073018e-02\n",
      "   4.41855922e-02  -1.89717913e-02  -2.77413743e-02  -4.14194735e-02\n",
      "   4.04776085e-02   4.61014405e-03   1.87110089e-02  -4.16933131e-02\n",
      "  -2.30374921e-03  -1.73221240e-02  -4.41092943e-02   3.47735311e-02\n",
      "  -2.46806842e-02   4.04052158e-02  -2.83985404e-02   4.39730922e-02\n",
      "  -3.89067331e-02  -3.56766498e-02  -5.09079020e-03   4.57310854e-04\n",
      "   3.33822333e-03  -1.66252110e-02  -3.09279454e-02   1.70259696e-02\n",
      "  -7.15019109e-03  -4.46095026e-02  -4.46829916e-02  -2.92399132e-02\n",
      "   3.80374029e-02   1.51906635e-02   2.46194754e-02   9.81571553e-03\n",
      "   1.48189991e-02  -3.67056854e-02   2.91546011e-02   3.41343815e-02\n",
      "  -4.46777430e-02   3.28347831e-02  -4.47102629e-02  -1.25713615e-02\n",
      "   3.11470219e-02   3.57220100e-02  -3.14834774e-02  -4.46835284e-02\n",
      "   1.07468777e-02   7.76293259e-03  -1.22840298e-02   3.04875816e-02\n",
      "   2.33396957e-02  -4.31367384e-02  -3.26989334e-02  -2.39210767e-02\n",
      "   1.04374389e-03   2.89666042e-02   3.71994904e-02   3.88408812e-02\n",
      "   7.33182890e-03  -4.45159364e-02   4.47153084e-02  -4.04299836e-02\n",
      "  -4.31262597e-02  -1.32007704e-02  -3.86020415e-02  -2.37069893e-02\n",
      "   3.64217949e-02  -4.47177843e-02   4.25623024e-03  -3.34602389e-02\n",
      "  -1.13988131e-03  -3.57909498e-02   4.08190472e-02  -3.59201031e-02\n",
      "   2.39339264e-02  -3.59995096e-02   4.34805489e-02  -4.27385125e-02\n",
      "   9.12543575e-03   2.94709492e-02   3.88366066e-02   3.13159679e-02\n",
      "   4.18116126e-02   4.46513822e-02   3.67076541e-02  -1.26085614e-02\n",
      "  -2.87039301e-02   3.31314887e-02  -1.78130856e-02   8.19753830e-03\n",
      "   1.63203989e-02  -1.84148111e-02  -5.68108840e-04  -2.61699242e-02\n",
      "   4.32442141e-02  -3.90392744e-02  -2.49669079e-02  -1.62665750e-02\n",
      "   3.59468591e-05  -4.17214274e-02  -3.92661160e-02  -3.95908669e-02\n",
      "  -3.64785025e-02   1.77460425e-02   1.87898575e-02  -1.39152746e-02\n",
      "  -3.08016507e-02   4.22619950e-02  -3.29597077e-02   7.21515944e-03\n",
      "   4.22748027e-03   4.47136025e-02   3.99010416e-02  -3.42669855e-02\n",
      "   2.33239957e-02  -3.04042664e-02  -4.25252185e-02  -4.36666245e-02\n",
      "  -9.30238446e-03   3.48510684e-02  -4.30569823e-02  -7.02967350e-03\n",
      "  -4.47068092e-02  -2.65988199e-02  -4.46138767e-02   2.68249343e-02\n",
      "  -2.74020207e-02  -2.94466151e-02   2.84143431e-02   4.03005213e-02\n",
      "  -3.32544700e-02  -1.57630837e-04  -3.67699803e-03   4.45757005e-02\n",
      "   2.67062944e-02  -4.45155612e-02  -4.18648230e-02   3.47492014e-02\n",
      "   3.18492417e-02   1.83385251e-02   9.41674082e-03   2.02816883e-02\n",
      "   2.96499670e-02   2.43191301e-02  -2.47462862e-02   5.60673612e-03\n",
      "  -8.17699131e-03   8.17683676e-03  -4.51105062e-03   4.14604061e-02\n",
      "  -4.44245571e-03  -1.54672280e-02   2.12012927e-02   4.23754443e-02\n",
      "  -3.90973958e-02  -4.30782683e-02   4.14947328e-02  -4.47158372e-02\n",
      "   4.46017032e-02   1.59768664e-03   3.53287872e-02   5.48589414e-03\n",
      "  -3.50725996e-02  -1.93382201e-02   1.51995853e-02   3.47074889e-02\n",
      "  -3.72567378e-02   3.92088225e-02   2.96066191e-02  -1.52530071e-02\n",
      "  -3.51123287e-02  -3.86286702e-02  -4.13718462e-02  -3.49040248e-02\n",
      "   1.37578681e-02   4.31360333e-02   4.69127318e-03   1.96769880e-02\n",
      "   8.91603109e-03  -1.59065905e-02   2.47719094e-02  -2.71077265e-02\n",
      "  -2.57726748e-02   5.70013499e-03  -2.91866693e-02   4.05832686e-02\n",
      "  -4.47142849e-02  -1.83000189e-02   1.16295621e-02   1.19916001e-02\n",
      "  -4.28800313e-02   2.71773839e-02  -2.77357972e-02  -1.38804292e-02\n",
      "  -1.95691327e-02  -3.75864845e-02  -3.75178241e-02  -4.46224734e-02\n",
      "   4.16961398e-02   2.96636237e-02  -1.57494520e-02   4.21319223e-02\n",
      "  -2.51046160e-02   3.17930562e-02  -1.84975102e-02   1.96809149e-02\n",
      "  -1.73633478e-02  -4.13129683e-02  -2.27925817e-02   2.61653461e-02\n",
      "  -5.19132518e-03  -2.56633516e-02   3.83479611e-02  -1.83354073e-02\n",
      "  -4.43875168e-02   8.51336538e-03   4.46113271e-02   3.90902072e-02\n",
      "  -2.82958825e-02   7.14596392e-03   4.44660228e-02  -4.47178889e-02\n",
      "   2.13298954e-02   4.42237939e-02  -3.06379695e-02   1.14536044e-02\n",
      "  -4.40336762e-02   3.54037924e-02  -1.45915141e-02  -4.39332868e-02\n",
      "  -4.18762302e-02   1.94698501e-02   3.04868328e-02   4.07124107e-02\n",
      "  -4.08635943e-02  -1.30258593e-02   3.80372777e-02  -2.47090268e-02\n",
      "  -3.61642755e-02  -3.78882911e-02  -2.24335350e-02   2.00390145e-02\n",
      "   4.33897758e-02   4.26922374e-02  -3.59567044e-02  -3.81546993e-02\n",
      "  -3.02986492e-02   1.54540665e-02  -2.47450692e-02  -4.45628182e-02\n",
      "   4.34006915e-02  -4.45148375e-02   3.33519842e-02  -4.39987735e-02\n",
      "   1.54829208e-02  -2.07829228e-02   3.89047931e-02   3.20728998e-02\n",
      "   4.46982293e-02   2.73829305e-02  -2.10958315e-02   4.47188663e-02\n",
      "  -3.13288701e-02   4.15007295e-02   1.63851186e-02  -4.21905391e-02\n",
      "  -6.45791530e-03  -2.59067982e-03   1.25140176e-02  -2.45187163e-02\n",
      "  -4.46687162e-02  -3.48944913e-02  -3.34116741e-02   4.34057122e-02\n",
      "   2.66940026e-03   2.94951583e-02   4.09826423e-02   2.42022549e-02\n",
      "  -1.43989742e-02   4.14753984e-02   3.82519010e-02   4.39817468e-02\n",
      "  -3.08367842e-02  -2.12975861e-02  -6.24529317e-04  -4.46951605e-02\n",
      "  -4.40127766e-02   3.37857752e-02  -3.75926464e-02   4.45632168e-02\n",
      "  -2.76248133e-02   3.87959803e-02  -1.35619314e-02  -2.40366411e-02\n",
      "  -4.47213403e-02   3.10228993e-03   3.99266106e-02   4.31568173e-02\n",
      "  -3.04480840e-02   3.26554417e-02  -3.74941489e-02   9.43205745e-03\n",
      "  -9.34815789e-03   1.16132513e-02  -2.87611304e-03   4.33972519e-02\n",
      "  -4.16851176e-02   2.28046659e-02   3.91638221e-02   4.22914824e-02\n",
      "  -1.94724280e-02   4.43653304e-02   2.70045258e-02   2.95091036e-02\n",
      "  -2.89982173e-03   2.56490796e-02  -3.85339871e-02   4.44866382e-03\n",
      "  -2.96648009e-02   4.15353374e-02   4.01449077e-02   3.32644085e-02\n",
      "   1.74352854e-02   2.62953815e-02  -3.17847478e-02   4.25700420e-02\n",
      "   2.92335286e-02  -3.70680165e-02  -2.89989180e-02   3.48491657e-02\n",
      "  -4.44649306e-02  -4.08940256e-02  -3.67706502e-02   3.44032655e-02\n",
      "   4.03524349e-02  -3.59765785e-02  -3.14228251e-03  -3.47377779e-02\n",
      "   3.32972333e-02   1.64117145e-02  -4.27003838e-02  -1.26605738e-02\n",
      "  -6.92912621e-03  -4.36461446e-02   1.88770222e-02   7.72798215e-04\n",
      "   2.10674030e-02   3.68087347e-02  -3.98680781e-02  -3.95181220e-02\n",
      "  -2.51499249e-02  -2.48283147e-02   4.46798313e-02  -4.47183571e-02\n",
      "  -2.85841540e-02  -3.01198440e-02   4.37405145e-02   2.61986062e-02\n",
      "  -2.44440853e-02  -4.47138795e-02  -4.43508650e-02   3.08966284e-02\n",
      "   2.04235969e-02   4.25907182e-02   2.27384965e-02  -3.56525616e-02\n",
      "   5.90590062e-04  -3.50386937e-02   7.74748360e-03  -3.82915823e-02\n",
      "   3.15353563e-02  -4.31060877e-02  -9.43017822e-03   2.42979596e-02\n",
      "  -1.52379981e-02   1.45050662e-02   2.81269255e-02  -4.18794485e-02\n",
      "  -2.69686272e-02   4.46584457e-02   4.11500581e-02   4.06852629e-02\n",
      "   4.44634195e-02  -3.70524844e-02  -3.34771768e-02  -4.98677823e-03\n",
      "  -1.31700845e-02  -4.43569374e-02   4.39681638e-02  -4.37005550e-02\n",
      "  -3.24979038e-02   1.98173465e-02  -1.44718536e-02   1.07305090e-03\n",
      "  -2.81175847e-02  -3.70139308e-02   7.94398444e-03  -4.04220855e-03\n",
      "  -2.60830362e-02   1.56125829e-02  -4.27537256e-02  -1.98277991e-02\n",
      "   4.14127447e-02  -1.30722599e-02  -4.46052901e-02   4.04505099e-02\n",
      "   4.46012850e-02   1.29931713e-02  -2.92422843e-03  -3.05720076e-02\n",
      "   4.39897974e-02   9.74393494e-03   2.81800245e-02  -3.31190113e-02\n",
      "  -1.95891648e-02  -4.25877160e-02  -1.76813952e-02   8.74228101e-03\n",
      "   4.41849746e-02  -4.33216807e-02  -2.77931480e-02  -3.61758246e-02\n",
      "   4.14298622e-02   2.70722749e-02   2.90549666e-03  -5.60225934e-04\n",
      "   1.42042790e-03  -1.25571846e-02  -4.30785151e-02   2.66414802e-02\n",
      "  -4.40129182e-02  -4.44196715e-02   4.32274536e-02   3.38249750e-02\n",
      "  -2.57643009e-02  -7.01082011e-04  -4.34553456e-02  -3.38533378e-03\n",
      "  -2.97766288e-02  -4.04484803e-02   3.67073885e-02   4.25972427e-02\n",
      "  -2.99198426e-02  -1.78969693e-02   7.39556089e-03  -3.60195783e-02\n",
      "  -4.27184427e-02  -9.65870759e-03   3.21783558e-02   1.17714358e-02\n",
      "  -4.30861055e-02  -4.33291945e-02   3.88931385e-02   3.60862191e-02\n",
      "   3.28735061e-02   4.20472851e-02   3.71578455e-02   9.73267056e-03\n",
      "   4.40821044e-02   1.04061833e-02  -3.47282255e-02  -2.55242843e-02\n",
      "   4.08607021e-02   2.72208544e-02  -2.50365797e-02  -1.52865520e-02\n",
      "  -3.87597084e-02   2.06995106e-03   1.10891410e-02   4.91333457e-03\n",
      "  -6.03718380e-03   4.46541758e-02   1.85805533e-02   6.27242653e-03\n",
      "   3.68399916e-02  -2.11312194e-02  -7.02886665e-03  -1.60218965e-02\n",
      "   3.58695513e-02  -4.40414896e-02  -5.71289858e-04   3.47570611e-02\n",
      "  -3.83503446e-02   2.26694168e-02  -8.50072335e-03   1.71037028e-02\n",
      "  -4.37968702e-02   1.86828516e-03   4.43183626e-02   2.44922194e-02\n",
      "   4.43597313e-02  -1.89439742e-02   1.14788653e-02  -3.78080017e-02\n",
      "   4.03557982e-02   2.70172345e-02  -2.50565324e-02   4.22122231e-02\n",
      "  -3.91532779e-02  -4.42457973e-02  -4.29419563e-02   4.26580588e-02\n",
      "  -4.26352676e-02  -2.11202105e-02   3.99378095e-02   4.47185680e-02\n",
      "   1.35393097e-02   3.64136370e-03  -2.26743820e-02   3.96310720e-02\n",
      "  -3.35990877e-02  -2.27771459e-02   9.07450988e-03  -4.15558053e-02\n",
      "  -1.98298611e-03  -3.75741163e-02   2.16905326e-02  -3.48014028e-02\n",
      "   3.79426729e-02  -2.36926832e-02   4.33027508e-02  -4.47111569e-02\n",
      "   4.44265031e-02   7.67682857e-03  -3.38825552e-02   4.42226482e-02\n",
      "   1.65745101e-03  -2.64793984e-02   2.07272037e-02   1.33662835e-02\n",
      "  -2.32038089e-02  -4.47115351e-02  -3.88152037e-02  -1.40566036e-02\n",
      "   2.11045526e-02   3.94117130e-02  -4.33552481e-02  -2.20973987e-02\n",
      "   2.25219526e-02  -7.70141222e-03   1.00831111e-02  -3.87382002e-02\n",
      "   4.13080031e-02   4.33811974e-02   2.01382684e-02  -2.51311231e-02\n",
      "  -3.69652135e-03   4.34860657e-02   2.37417539e-02  -2.76751588e-02\n",
      "   4.19944353e-02   3.73434356e-02  -1.61802138e-02   7.29535891e-03\n",
      "  -1.53521428e-02   3.03460912e-02  -4.45756833e-02   3.76742760e-02\n",
      "  -3.40033859e-02  -1.17049510e-02  -1.29071966e-02  -3.93272651e-02\n",
      "  -9.34114159e-03   2.46522063e-02   4.43383769e-02  -1.25899655e-02\n",
      "   3.37107021e-02  -2.94935617e-02   4.24409376e-02  -2.58924210e-02\n",
      "   4.15408724e-02  -4.34498112e-02   4.36040755e-02   4.06656068e-02\n",
      "   9.74037455e-05  -2.22295648e-02  -4.31605775e-02  -2.27623734e-02\n",
      "  -2.36183226e-02  -1.33349818e-02  -2.35429021e-02   3.81458294e-02\n",
      "  -2.39152279e-02   1.73823179e-02   3.70931629e-02   4.21065859e-02\n",
      "  -2.77031910e-02   1.15889360e-02   3.43755962e-02  -1.21536540e-03\n",
      "  -2.34464681e-02   2.77090327e-02   8.13878155e-03   4.83689968e-03\n",
      "  -2.94442205e-02  -3.98042305e-02   4.18007809e-02   3.06085021e-02\n",
      "   1.24156678e-03   2.51844115e-02   3.94382851e-02  -3.92146381e-02\n",
      "   4.47183201e-02   2.44554106e-02  -4.32661763e-02   3.53488393e-02\n",
      "   4.47213534e-02  -4.45957345e-02  -4.01908501e-02  -2.67163019e-02\n",
      "  -4.42952533e-02  -2.29384554e-02   4.45536931e-02  -2.70571007e-02\n",
      "  -4.44914648e-02   7.04709207e-03  -1.02877671e-02   3.31553332e-02\n",
      "   2.44750236e-02  -3.76826373e-02   2.39695600e-02   2.52726445e-02\n",
      "   3.35039454e-03   4.20914644e-02   4.07396850e-02  -3.08476771e-02\n",
      "  -2.16808365e-03   3.56458487e-02   1.79336673e-02   1.67916303e-02\n",
      "   3.09198114e-02   4.46989112e-02  -4.28015660e-02   3.88367156e-02\n",
      "   2.36121603e-02  -2.42606470e-02  -3.08288777e-02   1.73086387e-02\n",
      "  -4.41786172e-02  -3.88714178e-02   4.44731134e-02   8.16824658e-03\n",
      "   4.40523445e-02  -4.44054989e-02  -2.54395900e-02  -4.22494248e-02\n",
      "   4.41864703e-02   2.57860889e-02   3.74857421e-03   4.02359558e-02\n",
      "   2.82202423e-02   3.50791350e-02  -3.19531344e-02  -1.92922666e-02\n",
      "  -3.94976693e-02  -2.90015023e-02  -4.21022975e-02   4.13614768e-02\n",
      "   3.79021438e-02  -2.72594068e-02  -3.46833261e-02   4.35660331e-02\n",
      "  -4.46591787e-02   2.10882708e-02  -3.21987685e-02  -3.06115826e-02\n",
      "  -3.15882738e-02   4.16757374e-02  -4.43752763e-02  -4.24567268e-02\n",
      "  -3.71263728e-02  -4.13185208e-02  -2.68075058e-02  -2.73894175e-02\n",
      "   4.26116195e-02   2.68559464e-02  -1.95886672e-02  -4.14881952e-02\n",
      "   3.87724380e-02   3.26987333e-02   3.99193084e-02   4.24771365e-02\n",
      "   4.24374583e-02   2.38794097e-02   4.43467227e-02  -9.07624143e-03\n",
      "  -2.14608155e-02   4.46799744e-02   3.85446535e-02   2.06150205e-02\n",
      "  -3.55767825e-02  -3.72560933e-02  -3.13520845e-02   3.50424735e-02\n",
      "  -3.08798090e-02   4.08600617e-02  -4.36635020e-02  -3.96596365e-02\n",
      "   2.37352077e-02  -4.14379878e-02   4.16798986e-02  -4.25283462e-02\n",
      "  -3.57954530e-02   3.43104939e-02   3.82757367e-02   3.94741635e-02\n",
      "   2.50092479e-02   9.06119617e-03  -4.19995403e-02   4.22425584e-02\n",
      "  -5.40261758e-03  -3.05163186e-02   4.35122917e-02  -2.99988706e-02\n",
      "  -2.91754040e-02   3.73475526e-02   2.78343264e-02   4.43920457e-02\n",
      "   4.45455362e-02  -1.81271904e-02   2.55463712e-02  -1.67356427e-02\n",
      "  -4.09295636e-02  -4.06297449e-02   2.44601481e-02   3.94923892e-02\n",
      "  -3.90014432e-02   5.26084340e-03  -2.63715060e-02  -9.54358041e-04\n",
      "   6.29034067e-03  -4.10710549e-02   4.35599680e-03   4.55028808e-03\n",
      "   2.94083685e-02  -4.39823430e-02   1.22078564e-02   2.42340078e-02\n",
      "   4.42136198e-02  -4.43643125e-02   5.33963235e-05   2.81793185e-02\n",
      "   4.07897655e-02   4.47096381e-02   4.29641266e-02   1.66226570e-02\n",
      "  -3.71602956e-02   3.29806058e-02   5.91950826e-03  -4.15163304e-02\n",
      "  -3.72927955e-02   1.76521120e-02  -1.08607290e-03  -6.51363825e-03\n",
      "   1.59247221e-02   4.00416538e-02   4.46389186e-02  -4.44133403e-02\n",
      "  -4.19131021e-02   4.42458079e-02  -3.31116222e-02  -2.31166273e-02\n",
      "   4.46903317e-02   2.08774858e-02   3.46366104e-02   2.50227737e-02\n",
      "  -3.33084922e-02  -3.97648833e-04   2.20348702e-02  -4.46458096e-02\n",
      "   4.00704447e-02  -7.91303393e-03  -4.16414895e-02  -2.34345794e-02\n",
      "   4.04855135e-02  -3.11489582e-02   4.08974019e-02  -3.18662775e-02\n",
      "   3.58337113e-02   3.68593743e-02   3.34796365e-02  -1.95545084e-02\n",
      "  -4.46224016e-02   4.46861965e-02  -1.72236773e-02   4.08062984e-02\n",
      "  -4.46859760e-02  -2.72119398e-02   4.40937790e-02   3.07719597e-03\n",
      "   2.86277718e-02  -1.89603965e-02   3.08086857e-02   8.98686821e-04\n",
      "   4.73063817e-04  -4.44470111e-02  -4.34051873e-02  -2.74355627e-02\n",
      "  -4.43032614e-02   1.72006466e-02   4.08360359e-02   2.57381973e-02\n",
      "  -4.39013266e-02  -4.36971759e-02   2.62745781e-02  -2.25903361e-02\n",
      "  -1.61645828e-02   4.26393687e-02  -1.83201111e-03   2.59020192e-02\n",
      "  -4.20754171e-02  -9.89696767e-03   3.17641508e-02   4.47183897e-02\n",
      "  -3.28099821e-02   7.30969244e-03   4.26720988e-02  -4.00292364e-02\n",
      "   3.10785825e-02  -1.58195196e-02  -1.37090218e-02   9.62132167e-03\n",
      "  -4.11717980e-02   4.47133383e-02   2.20457575e-02  -1.30061637e-03\n",
      "   2.96961211e-03   4.31031024e-02   1.79173116e-03  -2.81973014e-02\n",
      "  -1.93913551e-02   3.38630704e-02  -4.44948259e-02   4.24555196e-02\n",
      "   2.84917346e-02  -3.02375237e-02   4.12139047e-02   3.98691890e-02\n",
      "  -6.76386150e-03   2.83155243e-02  -4.43898319e-02  -3.16505822e-02\n",
      "  -3.65794926e-02  -3.45946735e-02  -4.46888240e-02  -1.83496989e-02\n",
      "  -1.40296051e-02   1.18947913e-02  -3.77539416e-02  -4.12194934e-02\n",
      "   8.65232992e-03  -4.14553381e-02   2.85738299e-02  -9.35929069e-03\n",
      "   4.22445841e-02  -4.30072349e-02   3.51914999e-02   4.46972073e-02\n",
      "  -8.38439712e-03   1.77631539e-02   1.96612654e-02  -5.72720563e-03\n",
      "   1.53920999e-02   4.05589247e-02   3.19894061e-02  -2.90818598e-02\n",
      "   2.58802378e-02   3.89518077e-02   1.38985776e-02   4.23057820e-02\n",
      "  -3.41027485e-02   3.00420903e-03  -4.05462964e-02   3.98013889e-02\n",
      "   5.74383811e-03   1.91243308e-02   4.35825182e-02  -3.20844071e-03\n",
      "   4.44550179e-02   5.64312148e-04   4.25644473e-02   3.96697439e-02\n",
      "   2.41750625e-02  -1.69934303e-02   2.90024774e-02  -2.64441778e-02\n",
      "  -2.39783116e-02  -1.96621755e-02   4.43971625e-02  -2.76136160e-02\n",
      "  -2.36840453e-02  -3.99978103e-02  -4.39088956e-02  -3.19451696e-02\n",
      "   4.47139279e-02   2.38652303e-02   4.47126811e-02  -4.25108797e-02\n",
      "   4.05533081e-02  -4.47140450e-02   4.43599790e-02  -3.39473073e-02\n",
      "   3.02620079e-02   1.04486694e-02  -4.14483727e-02   1.37095162e-02\n",
      "  -4.38690306e-02  -4.45365998e-02   1.75255869e-02  -4.05342944e-02\n",
      "   2.74632133e-02  -3.54079345e-02  -4.45465185e-02   2.43417028e-02\n",
      "  -4.05400679e-02  -4.33364246e-02  -4.44827541e-02   2.78679163e-02\n",
      "   3.93993168e-02  -3.21256836e-02   9.06750655e-03  -3.22396008e-02\n",
      "   2.23907023e-02  -3.53475414e-02   2.22418678e-02   3.81912437e-02] \n",
      "**\n",
      "features 3in feature space\n",
      "[ -2.95081795e-02  -1.31076174e-02  -4.45936678e-02  -3.64340839e-02\n",
      "  -1.18381170e-03   2.78195177e-02   2.14794042e-02  -1.72369936e-02\n",
      "  -3.85629080e-02  -4.38409689e-02   1.59474912e-02  -4.10408353e-02\n",
      "  -6.21992025e-03  -5.84037202e-03  -3.52549343e-02  -1.81109457e-04\n",
      "   4.36263835e-02  -1.97614640e-02  -4.24175889e-02   4.45492024e-02\n",
      "   4.35382936e-02   4.26960740e-02   1.96029519e-02   3.89658860e-02\n",
      "  -5.20511833e-03  -2.07463659e-02  -4.43363522e-02   1.00148443e-02\n",
      "   4.33891647e-02  -1.69280785e-03   3.46398469e-02  -4.32863399e-02\n",
      "  -3.86625775e-03  -5.23028612e-03  -3.29002600e-02  -2.46009798e-02\n",
      "   4.46092257e-02   4.24194895e-02  -4.34250333e-02  -2.87897726e-02\n",
      "   3.55328550e-02   2.07232318e-02  -2.98835638e-02   1.67226606e-02\n",
      "  -2.67927023e-02   3.84403440e-02  -2.29404451e-02   2.68347407e-02\n",
      "  -2.98410300e-02  -1.55207452e-02  -1.97052709e-02  -4.44360040e-02\n",
      "   4.12702853e-02   1.64544720e-02  -3.37580736e-02  -2.87674149e-02\n",
      "  -4.33401487e-02   3.85272870e-03   3.33578583e-02   4.15324635e-02\n",
      "  -4.30199478e-02  -2.63072401e-02   4.00330692e-02  -3.77884748e-02\n",
      "   9.74725252e-03  -4.99717391e-03   4.40669544e-02  -1.59113697e-02\n",
      "  -2.73479669e-02   3.78778173e-02   7.91757015e-03   4.34630389e-02\n",
      "  -2.10114180e-02  -6.97385376e-03   4.45526670e-02   3.65330808e-02\n",
      "  -3.30696916e-02   9.57411460e-03   3.38110779e-02  -8.50516042e-03\n",
      "  -8.96823172e-03  -2.51533070e-02   4.44073617e-02   3.28452822e-02\n",
      "  -4.33229862e-02   2.80324768e-02  -7.14590879e-03  -1.45178900e-02\n",
      "  -3.80734837e-02  -2.04462687e-02   4.17230328e-02   3.70704879e-02\n",
      "   3.84735217e-02  -6.27388230e-03  -1.31267381e-02  -4.15914607e-02\n",
      "   4.14068310e-02   2.89352984e-02  -4.28566046e-02  -5.55255493e-04\n",
      "   6.92081431e-03  -7.24257077e-03   2.10867789e-02  -9.94739467e-03\n",
      "   8.70098960e-03  -3.81666245e-02   2.39139096e-02   1.54529176e-02\n",
      "  -4.46126756e-02   2.59294308e-02  -2.24288892e-02  -9.01669426e-03\n",
      "   3.48295027e-02   2.43523420e-02   4.43447401e-02   4.09143041e-02\n",
      "  -4.45065587e-02   4.46219185e-02   3.50313027e-03  -1.27073178e-02\n",
      "  -6.26943348e-03   2.15255859e-02  -4.04454021e-03  -1.28519276e-02\n",
      "  -4.16718251e-02   3.66773268e-02  -3.65685862e-02  -1.17956524e-02\n",
      "  -2.29195586e-02  -6.83417436e-03  -2.60626038e-02  -3.87901712e-02\n",
      "  -3.32458286e-03  -1.01362097e-02   1.28459969e-02   2.96773767e-02\n",
      "   3.71231205e-02  -3.65361072e-02   3.48704774e-02   4.33777743e-02\n",
      "   4.00164895e-02  -4.30790215e-02  -2.49572692e-02   4.28466349e-03\n",
      "   4.29774627e-02  -6.07336121e-03  -3.25940460e-02   3.70621228e-02\n",
      "  -4.40338903e-02  -2.36168708e-02   2.57737657e-02  -4.01905551e-02\n",
      "   1.02551071e-02   1.66976120e-02  -2.71930608e-02   2.95108051e-02\n",
      "  -1.13315414e-02  -2.34978875e-02  -2.14455434e-02   2.36582751e-02\n",
      "   3.37148467e-02  -4.31499029e-02   4.13325594e-02   5.52585585e-03\n",
      "  -3.38909282e-02   1.32605259e-02   4.38580089e-02   2.37750993e-02\n",
      "  -1.69560980e-02  -1.12503349e-02  -1.80108497e-02   3.61260964e-02\n",
      "  -4.32652534e-02   4.45460756e-02   4.38843711e-03  -1.08016829e-02\n",
      "   3.70062827e-02   3.04974692e-02  -3.06464412e-02   2.54516875e-02\n",
      "  -1.50545206e-02   4.12516467e-02   1.45211970e-02   7.96585105e-03\n",
      "   3.60764027e-02  -4.46499353e-02   4.47163793e-02   1.36956539e-02\n",
      "  -1.22804591e-02   1.69557385e-02  -3.04043237e-02   3.57261736e-02\n",
      "   4.67981183e-03   1.14777827e-02  -1.62554069e-02   4.09979817e-02\n",
      "  -4.44807574e-02  -3.18871913e-02  -4.33831119e-02   1.80793707e-03\n",
      "   2.95569802e-02  -2.61222172e-02  -2.09572021e-02  -1.90924956e-02\n",
      "   2.33106017e-02   3.19359103e-02  -4.15701617e-02  -4.38683770e-02\n",
      "   2.26953703e-02  -4.40241139e-02   1.22621678e-02   2.57897563e-02\n",
      "  -2.28107204e-02   1.35606641e-02  -5.33795644e-03  -4.13704717e-02\n",
      "  -1.11307826e-02  -3.62667858e-02  -4.47165677e-02   8.18951503e-03\n",
      "   4.00034127e-02  -3.43477012e-02  -1.18887390e-02   1.74313386e-02\n",
      "  -2.17217789e-02  -1.16969193e-02   2.99314933e-02   1.92322481e-03\n",
      "   1.70642390e-02  -4.46325921e-02  -3.96179772e-02   4.46011697e-02\n",
      "   4.46496876e-02   4.39054916e-02   1.99978587e-02   5.55658955e-03\n",
      "   4.27310781e-02   2.41522912e-02  -1.39177717e-02   3.71886794e-02\n",
      "  -4.38620762e-02  -1.65318698e-03  -8.63817192e-03  -5.65417785e-03\n",
      "  -1.57488168e-03  -4.98165838e-03  -4.09447753e-02   3.56775237e-02\n",
      "   4.30984147e-02   4.35065172e-02   2.56204805e-02  -4.24012419e-02\n",
      "  -3.22524862e-02  -1.47801537e-02  -2.08928471e-02  -4.46991484e-02\n",
      "   5.41214944e-03   4.30686766e-02   3.16333353e-02   3.46115484e-02\n",
      "  -1.99231420e-02  -2.65595600e-02  -4.42591328e-02  -4.47031991e-02\n",
      "   4.27180803e-03   4.84088648e-03  -4.46027314e-02  -4.08935177e-02\n",
      "  -1.83547573e-02   3.49036826e-02  -2.61388318e-02  -4.18781258e-02\n",
      "   3.94994299e-03   3.39646591e-02  -1.89003731e-02  -4.13968675e-02\n",
      "  -4.38100119e-02   4.47106315e-02  -4.47190355e-02  -4.47202781e-02\n",
      "  -3.63780896e-02   4.46111055e-02  -8.49552200e-03  -1.56708258e-02\n",
      "  -3.97413934e-02   8.74722494e-03   4.15385579e-02   4.47184679e-02\n",
      "  -1.52947375e-02   2.39140322e-03  -2.60007351e-02   4.34184948e-02\n",
      "   1.45029678e-03  -4.43339156e-02   2.17868648e-02  -3.62744997e-02\n",
      "   3.16756385e-02   6.25416405e-03  -3.93098216e-02  -3.18548684e-02\n",
      "   3.69676238e-02   4.44118071e-02  -3.21772195e-02  -3.90743136e-02\n",
      "   3.68308955e-02   2.72645298e-02  -4.04267692e-02   3.41704003e-02\n",
      "  -3.16711706e-02  -3.50734363e-02  -1.75909758e-02  -4.47186842e-02\n",
      "   4.46003555e-02   4.21938157e-02  -6.73332705e-04  -4.13707893e-02\n",
      "  -1.85203714e-02  -4.22706371e-02  -3.13597931e-02   4.37059363e-02\n",
      "  -2.81153689e-02  -3.17616745e-02  -4.46574516e-02   9.03805926e-03\n",
      "  -5.33729788e-03   4.41299561e-02  -1.48059537e-02   4.14909679e-02\n",
      "   3.94152115e-02   2.50632734e-02   3.13931879e-02   1.40019997e-02\n",
      "   2.24257084e-02   4.41874885e-02   3.65252207e-02  -4.26635237e-02\n",
      "   3.99606901e-02   4.35513921e-02   4.47194943e-02  -1.43325398e-02\n",
      "   4.44489592e-02   3.45605089e-03   4.43303062e-02  -2.08597432e-02\n",
      "  -2.01042648e-02  -6.60818524e-03  -3.36751354e-02   3.47375196e-02\n",
      "   4.30429204e-02   4.45568000e-02   4.45499746e-02   1.25596819e-03\n",
      "  -2.92387935e-02  -5.29604110e-03   3.31853843e-02   4.39738493e-02\n",
      "  -4.25006515e-02  -1.62390978e-02   4.38830115e-02   1.21129152e-02\n",
      "   3.28758322e-02   3.68034104e-03  -3.06120480e-02   3.81305160e-02\n",
      "   2.85055157e-02  -3.29375533e-02  -4.24029997e-02  -4.44667972e-02\n",
      "   2.43612973e-02  -2.93953306e-02   3.03003662e-02   3.28001890e-02\n",
      "  -3.91592003e-02  -1.83815019e-02   3.67179878e-02   1.15699386e-02\n",
      "   6.52914844e-04   2.76027953e-02  -2.43685775e-02  -2.89310649e-02\n",
      "  -4.08083690e-02   2.25388674e-02   3.76825637e-02  -1.57695915e-02\n",
      "  -3.08463073e-03  -8.62431287e-03   3.32451276e-02  -4.01174672e-02\n",
      "  -1.36742353e-02  -4.43231845e-02   2.36808301e-02  -3.18497044e-02\n",
      "  -4.46914226e-02   2.36659768e-02   3.06044722e-02   3.54709841e-02\n",
      "   3.22517540e-02   2.66213901e-02  -4.39335971e-02  -1.95520682e-02\n",
      "  -4.44621355e-02   5.07554117e-03  -1.35185388e-02  -2.15328192e-02\n",
      "  -2.21650861e-02  -4.03180374e-02  -2.15024386e-02  -2.25233033e-03\n",
      "   1.15457333e-03  -4.18050862e-02  -4.41581335e-02  -4.44254102e-02\n",
      "  -4.47023096e-02  -3.87964645e-02   4.09810276e-02  -4.21887998e-02\n",
      "  -4.47203083e-02  -3.30852813e-02  -5.80324353e-04  -3.85112962e-02\n",
      "  -7.89628386e-03  -4.47118123e-02  -1.23491353e-03   1.43912333e-02\n",
      "  -4.46442932e-02   3.88932824e-02   1.21738350e-02   3.03531715e-02\n",
      "   4.26918344e-02   4.29690982e-02   4.46961597e-02   4.37398901e-02\n",
      "   3.95426770e-03   4.32247452e-02  -8.30760727e-03  -3.62958161e-02\n",
      "  -2.92491063e-02   3.49015017e-02  -2.67428210e-02   1.13209719e-02\n",
      "   3.51486601e-02   1.47586693e-02  -4.02826956e-02   3.85976370e-02\n",
      "  -7.19155264e-04  -5.29145363e-03   1.04895214e-02   1.92544239e-02\n",
      "   3.06631589e-02   1.44269452e-02  -2.71095863e-02   4.47130399e-02\n",
      "   3.05709685e-02   2.44077433e-02  -1.66082965e-02  -4.46620552e-02\n",
      "  -4.43308551e-02   4.17495945e-02   2.19535023e-02  -1.28885276e-02\n",
      "   3.18337886e-02   4.29672655e-02   4.38310470e-02  -4.43223559e-02\n",
      "  -4.44783219e-02   4.35714722e-02   6.73963843e-03   1.53713235e-02\n",
      "  -6.30637969e-03   4.31044041e-02   3.26962601e-02  -8.21447820e-03\n",
      "  -8.90955129e-03   4.13371858e-02  -3.71450164e-03  -1.63889067e-02\n",
      "  -3.57881856e-02  -3.22797325e-02  -4.41113963e-02   1.63853901e-03\n",
      "  -2.17346553e-02  -1.21345381e-02   1.84049526e-03   1.18919291e-02\n",
      "   1.33297181e-03   2.37444313e-02  -4.18455617e-02  -4.20899489e-02\n",
      "  -5.99545744e-03   1.08659015e-02  -7.05803018e-03   4.39083672e-02\n",
      "  -3.37877960e-02  -4.47090488e-02   4.46094552e-02   4.38346614e-02\n",
      "   3.77564918e-02  -3.12163995e-02   4.42925792e-02  -3.95030013e-02\n",
      "  -4.13149080e-02  -1.18822204e-02  -1.31694088e-02  -8.53788375e-03\n",
      "   2.86474962e-02  -4.46455194e-02  -2.86648958e-02  -1.60586959e-02\n",
      "   4.32983813e-02  -7.58078485e-03  -4.28404787e-02  -1.35641201e-02\n",
      "  -2.30603080e-02  -2.78457369e-02  -2.12407640e-02  -4.36740968e-02\n",
      "  -1.77029056e-02  -9.80799454e-03   4.11141511e-02  -5.07050944e-03\n",
      "  -8.31451644e-03  -1.57569124e-02   4.24292383e-02   4.35944668e-02\n",
      "  -4.40365300e-02   3.91201211e-05  -3.75444394e-02  -2.62672685e-03\n",
      "   4.21444624e-02  -3.64654041e-02  -3.72277409e-02   1.60109525e-02\n",
      "   1.16480531e-02  -9.67728588e-03   2.83505945e-02  -4.43883661e-02\n",
      "  -2.95803142e-02  -4.34830296e-02   4.23374512e-02   3.49181449e-03\n",
      "   3.56200155e-02   3.88986685e-02  -8.57904459e-03   2.71663765e-03\n",
      "  -4.42182114e-02   4.08033712e-02  -6.79165267e-03  -1.84155056e-02\n",
      "   2.92116303e-02  -4.83271658e-03   3.08041445e-02  -4.47210261e-02\n",
      "  -1.35720181e-03   3.14196601e-02  -4.38045942e-02   2.30051671e-02\n",
      "  -4.44287239e-02   2.67901401e-03  -5.34205287e-03   3.69184930e-02\n",
      "  -9.93363253e-03   1.08058979e-02  -4.45839941e-02  -3.35112101e-02\n",
      "   1.53584436e-02  -1.11522546e-02   3.51651464e-02  -3.87187085e-02\n",
      "   6.82229016e-03   4.14039783e-02   4.35743896e-02   2.89708887e-02\n",
      "   3.86068606e-02  -4.31244348e-02   2.56965574e-02  -1.93001659e-02\n",
      "   4.44685642e-02   3.25264047e-02  -2.70394013e-02  -3.79083962e-02\n",
      "  -4.04410746e-02  -2.23583667e-02  -2.33593194e-02  -3.54916895e-02\n",
      "   7.70070052e-03   1.23543775e-02   4.30436577e-02  -3.92940273e-02\n",
      "  -2.82596983e-02  -6.68590061e-03  -3.40562909e-02   4.30223829e-02\n",
      "   4.28302923e-02   3.01421383e-02  -1.63854803e-02  -1.53924366e-02\n",
      "   2.51111432e-02  -3.15403164e-02   7.95868222e-03  -2.00298214e-03\n",
      "  -3.84826630e-02  -6.58953911e-03  -3.94630482e-02   3.51788284e-02\n",
      "  -2.84386276e-02  -4.07393199e-02  -3.19501709e-02   8.27900834e-03\n",
      "   4.44120856e-02   3.76701305e-02   4.92628316e-03   6.43632375e-03\n",
      "   3.49134554e-02   4.05192479e-02   4.43186870e-02   2.64182205e-02\n",
      "   4.20826362e-02  -1.36630268e-02   7.28266817e-03   1.74590343e-02\n",
      "   1.50203507e-03   2.39130436e-02   1.92078864e-02  -8.37132372e-03\n",
      "   4.44425537e-02   2.93725252e-02   1.27789020e-02   1.19705907e-02\n",
      "   2.67111909e-02   4.20386933e-02   3.25629627e-02   4.25064254e-02\n",
      "   1.48625490e-02  -4.36332325e-02   1.36965859e-02   2.55367789e-02\n",
      "   2.03109975e-02   4.47058881e-02   2.20574197e-02  -1.99657639e-03\n",
      "  -4.45560578e-02  -3.14957612e-02  -8.91228794e-03   1.25160119e-02\n",
      "  -3.12868684e-02   4.40742577e-02   3.16444029e-02  -4.29350679e-02\n",
      "   1.51410534e-02   1.55545345e-02  -4.11817165e-02  -4.46673480e-02\n",
      "   4.18318738e-02  -1.23104127e-02  -3.56444241e-02   3.22747839e-03\n",
      "  -2.60815530e-02   3.61011844e-02  -3.86131835e-02   4.08686739e-02\n",
      "  -4.33521675e-03   3.53245439e-02  -3.34282918e-02   4.46361544e-02\n",
      "  -3.23595856e-02   2.44183114e-02  -4.17483688e-02  -1.79064235e-02\n",
      "   4.03544038e-02   2.85391938e-03  -2.52435061e-02  -4.42144652e-02\n",
      "   1.64272941e-02   2.38179655e-02  -1.68685366e-04   3.03093988e-02\n",
      "  -1.12295132e-02   1.15935903e-03  -2.74329416e-02  -2.15361110e-02\n",
      "   4.47190421e-02  -3.62100655e-02   4.29271684e-02   4.44169437e-02\n",
      "   2.32112902e-03   3.27750303e-02  -4.36058991e-02   1.03349129e-02\n",
      "   1.26053257e-02  -6.12672738e-03  -4.10702695e-02  -1.50797957e-02\n",
      "  -3.56373821e-02   4.13086774e-02   2.62121312e-02  -4.40421057e-02\n",
      "   3.80196110e-02  -4.13023327e-02   3.46135735e-02   3.91515202e-02\n",
      "  -4.36197835e-02  -2.16192209e-02  -3.38660082e-03  -4.12399538e-03\n",
      "  -3.77911224e-02   1.74590615e-02   4.43009940e-02  -2.19680867e-02\n",
      "   4.40755577e-02   9.92228165e-03   4.36747309e-02   4.28824432e-02\n",
      "  -1.21678675e-02  -2.90258054e-02   3.45093629e-02  -4.19395796e-02\n",
      "  -4.21093024e-02  -4.01836533e-02  -4.46223020e-02   4.22067095e-02\n",
      "  -3.85749207e-02   3.81676634e-02  -4.00094868e-02   1.21668342e-02\n",
      "   1.27027697e-02   3.88413797e-02  -2.03068537e-02   1.56345991e-02\n",
      "   1.23683511e-03  -1.99620539e-02  -4.43941895e-02  -4.15895141e-02\n",
      "   3.18929379e-02   4.45082812e-02   4.37030014e-02   4.06035839e-02\n",
      "  -3.10674755e-02   4.47200832e-02   1.51066103e-02   2.72576348e-02\n",
      "   1.19004654e-02   4.30765306e-02  -3.70831460e-02  -2.40195185e-02\n",
      "   3.70248109e-02  -3.88792513e-02  -7.39881805e-03   4.19656963e-02\n",
      "   4.11104833e-02  -1.95769648e-02  -2.55141165e-02  -1.12089750e-02\n",
      "   3.54798000e-02  -1.96096267e-02   2.30613592e-02  -2.62157008e-02\n",
      "   1.98497820e-02   3.96815950e-02   4.17816354e-02   2.31703942e-02\n",
      "  -5.23917868e-03  -1.77392393e-02  -2.77678949e-02  -4.10462366e-02\n",
      "   3.44239560e-02   4.10621957e-02  -1.76264090e-02  -1.14200242e-02\n",
      "  -3.73143567e-02   4.46623747e-02  -2.78399118e-02   2.28191069e-02\n",
      "  -2.09272775e-02   2.19453699e-02  -4.39610294e-02   3.86923087e-02\n",
      "  -1.79675993e-02   2.06809817e-02   3.64834665e-02  -1.15115223e-02\n",
      "  -1.70977023e-02  -7.48759317e-03  -2.67549272e-02   1.23549061e-02\n",
      "   3.80835240e-02  -4.76148668e-03   2.59447910e-02  -1.49008641e-02\n",
      "   1.88342948e-02   4.47101069e-02   4.19940430e-02   4.24743572e-02\n",
      "  -1.42185194e-02  -7.37656653e-03  -4.26609648e-04   4.40662268e-02\n",
      "   3.48063897e-02   3.03750611e-02   8.61294856e-03   3.18991031e-02\n",
      "   4.32561750e-02   3.06140493e-02   3.63597418e-02  -2.50717916e-02\n",
      "  -2.90247951e-02  -3.01320634e-02   2.86014048e-02  -3.06474626e-02\n",
      "   4.25639137e-02   4.37480607e-02  -8.97500000e-03  -1.13237317e-02\n",
      "   4.10988521e-02   3.10937572e-02  -3.49675665e-03   1.77989220e-02\n",
      "  -3.35121438e-02  -4.35166660e-02   2.23193332e-02  -4.16217899e-02\n",
      "   4.01513458e-02  -3.92913190e-02  -3.65385057e-02   2.34176297e-02\n",
      "  -4.44785541e-02   4.73845712e-03   1.96127148e-02   4.20441068e-02\n",
      "  -2.03479733e-02   4.09662719e-02   2.66793631e-02   4.18373271e-02\n",
      "   4.38702410e-02  -1.49590622e-02  -4.32085107e-02  -2.57199562e-02\n",
      "  -4.06474425e-02  -2.49884083e-02  -1.23130093e-02  -2.27631648e-02\n",
      "   4.46567181e-02   3.67002828e-02   3.72716460e-03  -1.82115151e-02\n",
      "  -6.85632386e-03  -3.77425155e-02  -3.93725640e-02  -2.37893241e-02\n",
      "   1.36710527e-02  -2.48975595e-02   1.06457357e-02   5.49651985e-03\n",
      "   2.66066876e-02   4.42994724e-02  -1.32585093e-02   2.52506523e-02\n",
      "   2.48507961e-02   4.45211207e-02  -9.44767232e-03  -3.31730552e-02\n",
      "   3.46733391e-02   1.52410606e-02   1.71148762e-02  -4.24630637e-02\n",
      "  -4.39270006e-02  -3.68826674e-02   2.18155657e-02   2.18981100e-02\n",
      "  -2.53161181e-02  -2.11639150e-02  -4.43443812e-02  -4.40068811e-02\n",
      "   2.51432287e-02  -4.32925080e-02  -1.62913448e-02   1.19443087e-02\n",
      "   3.68877955e-02   4.40610587e-02   4.75137228e-03  -3.97763009e-02\n",
      "   4.46325964e-02   2.70619315e-02   1.73664272e-02  -2.92064033e-02\n",
      "   3.11967251e-02   2.33856481e-02   4.44294294e-02  -2.28224898e-02\n",
      "  -2.46193738e-02  -4.47075595e-02  -2.98547913e-02   2.34448609e-04\n",
      "  -4.42741832e-02   3.94186485e-02   4.46413626e-02  -2.98109425e-02\n",
      "   1.73135510e-02  -1.08257792e-02   1.57692723e-02   3.56921077e-02\n",
      "   4.31316922e-02   3.78397311e-02  -3.32951989e-02  -4.26204953e-02\n",
      "  -4.16851306e-02   2.87791436e-02   2.58366927e-02   2.58123071e-02\n",
      "  -3.52505522e-03  -2.83961762e-02   4.31963710e-02  -4.22922660e-02\n",
      "   6.02218475e-03   4.28101376e-02  -1.50081166e-03   2.70882152e-02\n",
      "  -2.12158416e-02  -3.75082590e-02   3.74114597e-03  -1.12687484e-02\n",
      "   1.34924633e-02   4.23502411e-02   1.84297111e-02  -4.32955578e-02\n",
      "   4.33387470e-03   3.36124103e-02  -3.83634446e-02  -6.13159903e-03\n",
      "  -4.29892879e-02  -9.63758760e-03   4.47006734e-02   3.06131615e-02\n",
      "  -3.72679587e-02  -2.15387952e-02  -7.97212896e-04   4.46960458e-02\n",
      "  -9.78230357e-03  -4.32492101e-02   4.45934152e-02   3.69393571e-02\n",
      "   4.29317130e-02   1.18462876e-02   1.07236013e-02  -2.66913495e-02\n",
      "   2.98949509e-02  -3.59892985e-02  -3.60328799e-02   9.44253480e-03\n",
      "   3.10533694e-02   7.47129914e-03  -1.49206631e-02   2.12818610e-02\n",
      "  -4.43376786e-02  -4.41011850e-02  -1.76754746e-02  -4.41496219e-02\n",
      "   5.50380700e-03  -4.12323482e-02  -2.13188254e-02   4.31107768e-02\n",
      "   3.62872061e-02  -9.26796814e-03   2.46329558e-03  -4.80622394e-03\n",
      "  -4.28829987e-02  -3.04433405e-02   4.01413305e-02   3.39219988e-03\n",
      "   1.10643208e-02   4.33896239e-02  -3.49601317e-02   4.21551789e-02\n",
      "   4.04681684e-02  -3.35533145e-02   4.17554820e-02  -4.26436449e-02\n",
      "   3.65652161e-02  -2.82035405e-02   4.34833158e-02  -4.25325850e-02\n",
      "  -2.29190526e-02  -4.43381295e-02  -3.75572590e-02  -4.14533379e-03\n",
      "  -4.44205537e-02  -4.39842347e-02  -4.46747632e-02  -4.46760739e-02\n",
      "  -6.05501729e-03   3.62266200e-02  -3.98074694e-02   2.32535768e-02\n",
      "  -1.05418659e-02   4.46987984e-02   4.45141150e-02   3.49317334e-02\n",
      "  -1.80945104e-02   3.13977225e-04  -1.38123759e-02  -3.88685372e-02] \n",
      "**\n",
      "[1]\n"
     ]
    }
   ],
   "source": [
    "for n_d in list([100,200,5000,1000]):\n",
    "    rbf_feature = RBFSampler(n_components = n_d, gamma = 0.5, random_state =1)\n",
    "    print(rbf_feature)\n",
    "    \n",
    "    x_features = rbf_feature.fit_transform(x)\n",
    "    test_features = rbf_feature.fit_transform(test_data)\n",
    "    for i in range(0,len(x_features)):\n",
    "        print(\"features \" + \"{:d}\".format(i) +\"in feature space\")\n",
    "        print(str(x_features[i]),\"\\n\"+\"**\")\n",
    "    clf = SGDClassifier()\n",
    "    clf.fit(x_features,y)\n",
    "    predicted_label = clf.predict(test_features)\n",
    "    print(predicted_label)"
   ]
  },
  {
   "cell_type": "code",
   "execution_count": 8,
   "metadata": {
    "collapsed": false
   },
   "outputs": [
    {
     "name": "stdout",
     "output_type": "stream",
     "text": [
      "features 0in feature space\n",
      "[ 0.07023065 -0.15237513  0.13088237 -0.00361685 -0.18764251  0.13088514\n",
      "  0.18599335  0.14463287  0.19221508  0.15609069  0.03040618 -0.04609136\n",
      " -0.18608593  0.19937794  0.17989518  0.19578737 -0.18196885  0.0578546\n",
      " -0.00292251 -0.00775671  0.06723954 -0.17443228  0.19646216  0.11430996\n",
      "  0.01274903 -0.19984678 -0.14583181  0.09522653  0.11054773  0.19863924\n",
      "  0.18095356 -0.19926435 -0.15700155 -0.18157523 -0.08214526  0.19948861\n",
      " -0.17541535 -0.14591511 -0.18983972 -0.00586209 -0.09719435 -0.01872102\n",
      "  0.1828783  -0.13698653 -0.13716798  0.04952615  0.00346256  0.18277557\n",
      " -0.01295326  0.06745731] \n",
      "**\n",
      "features 1in feature space\n",
      "[ 0.13697082  0.1211836   0.05633354 -0.19891872 -0.16097679 -0.16687281\n",
      "  0.09396841 -0.1554872   0.19981507  0.14634757 -0.11964624 -0.17997696\n",
      "  0.13029738  0.17926418 -0.11353122  0.16437155  0.16561606  0.03128471\n",
      "  0.05936308 -0.18974473  0.1222225  -0.16153638 -0.10753318  0.19338764\n",
      "  0.08972926  0.07694304  0.18454958 -0.10988841  0.16424795  0.17794868\n",
      " -0.14971963 -0.19507977  0.07313606  0.14255622 -0.18372773  0.1094178\n",
      " -0.01994932 -0.12172248 -0.15125386 -0.03257224 -0.02762552  0.12068636\n",
      " -0.03736631  0.19129174 -0.14968329 -0.0845351  -0.1996552  -0.19819189\n",
      " -0.19512617  0.16032565] \n",
      "**\n",
      "features 2in feature space\n",
      "[-0.15595332 -0.17164744  0.1979278   0.19389074  0.18283457 -0.19722206\n",
      "  0.10382587  0.16876117 -0.18929088 -0.04899655 -0.18912473 -0.18313582\n",
      "  0.1914975  -0.16276879  0.14268136  0.04148604 -0.05419429  0.06909155\n",
      " -0.08459946 -0.09479973 -0.18763377 -0.16416524 -0.1653781  -0.12101318\n",
      " -0.09235706 -0.16582682 -0.17784041 -0.10680181 -0.02452513  0.13004543\n",
      "  0.19626898  0.1224744  -0.19936758  0.03294288  0.00120509  0.19608559\n",
      "  0.06358209  0.00405281  0.07057102  0.17895631 -0.13123859  0.11979663\n",
      "  0.14335869  0.18418901 -0.04903101  0.06613245  0.18748253 -0.1683223\n",
      " -0.19080568  0.04615592] \n",
      "**\n",
      "features 3in feature space\n",
      "[-0.04343375  0.09329442  0.19199985  0.07230814  0.03280671  0.18091453\n",
      " -0.15818589 -0.15937805 -0.19999665 -0.1989597   0.19752828 -0.05339181\n",
      " -0.14236906 -0.19428869  0.11702273  0.11448664 -0.13612383 -0.14392504\n",
      " -0.0240976  -0.19822281  0.1595975   0.03559409  0.03162581  0.01093364\n",
      " -0.00980239 -0.0317045   0.13449382  0.12084293 -0.19791549  0.02337686\n",
      " -0.04218536  0.09982359  0.16417087  0.03566151 -0.1341686   0.08739569\n",
      " -0.19939787  0.19858438 -0.00649216 -0.19275684 -0.17682953 -0.18613738\n",
      " -0.19623032 -0.12109976 -0.06624351 -0.09992514  0.05520009  0.13139009\n",
      " -0.02948979  0.17259899] \n",
      "**\n"
     ]
    }
   ],
   "source": [
    "x_features = rbf_feature.fit_transform(x)\n",
    "test_features = rbf_feature.fit_transform(test_data)\n",
    "for i in range(0,len(x_features)):\n",
    "    print(\"features \" + \"{:d}\".format(i) +\"in feature space\")\n",
    "    print(str(x_features[i]),\"\\n\"+\"**\")\n",
    "    time.sleep(2)\n",
    "    "
   ]
  },
  {
   "cell_type": "code",
   "execution_count": 9,
   "metadata": {
    "collapsed": false
   },
   "outputs": [
    {
     "name": "stdout",
     "output_type": "stream",
     "text": [
      "the transformed test data in feature space ^^ \n",
      "\n",
      "[[ 0.10245698 -0.06662071  0.06336734  0.14177991 -0.13263657  0.19587354\n",
      "   0.08785588  0.19993732 -0.19515189  0.13200811  0.11441873 -0.19947688\n",
      "   0.17245862 -0.1984546   0.12249458 -0.18275469  0.18610698  0.04863607\n",
      "   0.18946676  0.06460952  0.17453248 -0.15766378 -0.19584021  0.10467338\n",
      "   0.19999989 -0.12060948  0.08380248 -0.19953456 -0.11050502  0.06201764\n",
      "  -0.19945593  0.17940115 -0.1807242   0.00584099 -0.06509857  0.1321647\n",
      "  -0.03904002  0.19175491 -0.13364253 -0.19820956  0.14629717  0.1200924\n",
      "  -0.0512243   0.02477529  0.07462512  0.18809346 -0.1548293   0.19298118\n",
      "  -0.19861882  0.18553311]]\n",
      "\n"
     ]
    }
   ],
   "source": [
    "print(\"the transformed test data in feature space ^^ \\n\")\n",
    "print(str(test_features)+'\\n')\n",
    "time.sleep(2)"
   ]
  },
  {
   "cell_type": "code",
   "execution_count": 10,
   "metadata": {
    "collapsed": false
   },
   "outputs": [
    {
     "name": "stdout",
     "output_type": "stream",
     "text": [
      "\n",
      " The predicted label is ---->[1]\n"
     ]
    }
   ],
   "source": [
    "clf = SGDClassifier()\n",
    "clf.fit(x_features,y)\n",
    "predicted_label = clf.predict(test_features)\n",
    "print(\"\\n The predicted label is ---->\" +str(predicted_label))\n",
    "time.sleep(2)"
   ]
  },
  {
   "cell_type": "code",
   "execution_count": 14,
   "metadata": {
    "collapsed": false
   },
   "outputs": [
    {
     "name": "stdout",
     "output_type": "stream",
     "text": [
      "\n",
      "\n",
      "The KNN Model Peformance Summary as follows:\n",
      "The MSE is             0.0161476523331030\n",
      "The mean error is      0.0680649351366770\n",
      "The maximum error is   0.6138672624020001\n",
      "The minimum error is   0.0000527025658843\n",
      "\n",
      "\n",
      "\n",
      " Wait, SVM  results under kernel: linear\n",
      "\n",
      "\n",
      "\n",
      "The SVM Model Peformance Summary as follows:\n",
      "The MSE is             0.0244341015628781\n",
      "The mean error is      0.1052417579064514\n",
      "The maximum error is   0.6225878559423921\n",
      "The minimum error is   0.0009444251008787\n",
      "\n",
      " Wait, SVM  results under kernel: rbf\n",
      "\n",
      "\n",
      "\n",
      "The SVM Model Peformance Summary as follows:\n",
      "The MSE is             0.0330511447496893\n",
      "The mean error is      0.1443892917728555\n",
      "The maximum error is   0.5781386181941466\n",
      "The minimum error is   0.0001565150657087\n"
     ]
    }
   ],
   "source": [
    "###############################################################\n",
    "## cisc5352.lecture.8.demoKNNSVMIVPrecition.py\n",
    "## This is a sample file for CISC5352: Financial data analytics\n",
    "## Author: Henry Han\n",
    "## Last update: Nov 14, 2016\n",
    "################################################################\n",
    "\n",
    "# Import packages\n",
    "\n",
    "from sklearn.cross_validation import train_test_split\n",
    "from sklearn.neighbors import KNeighborsRegressor\n",
    "from sklearn import svm\n",
    "import numpy as np\n",
    "import csv\n",
    "import time\n",
    "\n",
    "######################################\n",
    "##  Read data from CSV file\n",
    "#######################################\n",
    "\n",
    "filename='Option_Data_2000.csv' # aka 'cisc5352.project.1.option_data.csv' first 2000 features\n",
    "Data    = csv.reader(open(filename, 'r'))\n",
    "\n",
    "# Save the original data into list\n",
    "Data_input    = []\n",
    "Data_response = []\n",
    "\n",
    "# Read the data from csv file\n",
    "# response variable: implied volaility\n",
    "\n",
    "for row in Data:\n",
    "    Data_response.append(row[7])  # implied volaility\n",
    "    row.pop(7)\n",
    "    Data_input.append(row)\n",
    "\n",
    "# Delete the header information in data and response variables\n",
    "Data_response.pop(0)\n",
    "Data_input.pop(0)\n",
    "\n",
    "\n",
    "# Convert the data from string to float: a wordy approach\n",
    "Data_input_convert    = []\n",
    "Data_response_convert = []\n",
    "\n",
    "for each_row in Data_input:\n",
    "    temp = []\n",
    "    for entry in each_row:\n",
    "        temp.append(float(entry))\n",
    "    Data_input_convert.append(temp)\n",
    "\n",
    "for response_variable_entry in Data_response:\n",
    "    Data_response_convert.append(float(response_variable_entry))\n",
    "\n",
    "Data_input    = Data_input_convert\n",
    "Data_response = Data_response_convert\n",
    "\n",
    "\n",
    "\n",
    "# Pick only first N samples\n",
    "N             = 1000    # large N can lead a slow SVM!\n",
    "Data_input    = Data_input[0:N]\n",
    "Data_response = Data_response[0:N]\n",
    "\n",
    "# Split the data set into training data(80%) and testing data(20%)\n",
    "\n",
    "Input_train, Input_test, Response_train, Response_test = \\\n",
    "    train_test_split(Data_input, Data_response, test_size=0.2, random_state=42)\n",
    "\n",
    "\n",
    "## Mean square error: MSE\n",
    "def get_MSE(Error):\n",
    "    mse=np.sum(np.power(Error,2))\n",
    "    mse=mse/len(Error)\n",
    "    return mse\n",
    "\n",
    "\n",
    "# Train the model via KNN regression\n",
    "# k=5 for training\n",
    "kNN = KNeighborsRegressor(n_neighbors=5, weights='distance')\n",
    "kNN.fit(Input_train, Response_train)\n",
    "\n",
    "## performance analysis parameters\n",
    "\n",
    "Error_KNN   = [None] * len(Input_test)\n",
    "predictedIV = Error_KNN\n",
    "\n",
    "##predicted implied votatility\n",
    "predictedIV = kNN.predict(Input_test)\n",
    "Error_KNN   = abs(Response_test - predictedIV)\n",
    "\n",
    "\n",
    "# Model Evaluation\n",
    "\n",
    "print('\\n\\nThe KNN Model Peformance Summary as follows:')\n",
    "print('The MSE is           {:20.16f}'.format(get_MSE(Error_KNN)))\n",
    "print('The mean error is    {:20.16f}'.format(np.mean(Error_KNN)))\n",
    "print('The maximum error is {:20.16f}'.format(max(Error_KNN)))\n",
    "print('The minimum error is {:20.16f}'.format(min(Error_KNN)))\n",
    "\n",
    "\n",
    "print('\\n')\n",
    "\n",
    "# 'poly cab take more time than 'linear' and 'rbf'\n",
    "kernel_list=['linear', 'rbf']\n",
    "\n",
    "# print Input_train\n",
    "\n",
    "for kernel in kernel_list:\n",
    "    print(\"\\n Wait, SVM  results under kernel: \" + str(kernel)+ \"\\n\")\n",
    "    t = svm.SVR(kernel=kernel, cache_size=500)\n",
    "    t.fit(Input_train, Response_train)\n",
    "\n",
    "    ##predicted implied votatility\n",
    "    predictedSVMIV = t.predict(Input_test)\n",
    "\n",
    "\n",
    "    Error_SVM = [None] * len(Input_test)\n",
    "    Error_SVM   = abs(Response_test - predictedSVMIV)\n",
    "\n",
    "\n",
    "# Model Evaluation\n",
    "\n",
    "    print('\\n\\nThe SVM Model Peformance Summary as follows:')\n",
    "    print('The MSE is           {:20.16f}'.format(get_MSE(Error_SVM)))\n",
    "    print('The mean error is    {:20.16f}'.format(np.mean(Error_SVM)))\n",
    "    print('The maximum error is {:20.16f}'.format(max(Error_SVM)))\n",
    "    print('The minimum error is {:20.16f}'.format(min(Error_SVM)))"
   ]
  },
  {
   "cell_type": "code",
   "execution_count": 17,
   "metadata": {
    "collapsed": false
   },
   "outputs": [
    {
     "name": "stdout",
     "output_type": "stream",
     "text": [
      "[ 1.          0.93333333  1.          1.          0.93333333  1.\n",
      "  0.93333333  1.          1.          1.        ]\n"
     ]
    }
   ],
   "source": [
    "from sklearn import datasets\n",
    "from sklearn.cross_validation import cross_val_score\n",
    "iris = datasets.load_iris()\n",
    "data = iris.data\n",
    "label=  iris.target\n",
    "kernel = 'rbf'\n",
    "clf = svm.SVC(kernel = kernel, gamma = 0.5, C = 1)\n",
    "k =10\n",
    "scores = cross_val_score(clf, data,label, cv= k)\n",
    "print(scores)"
   ]
  },
  {
   "cell_type": "code",
   "execution_count": null,
   "metadata": {
    "collapsed": true
   },
   "outputs": [],
   "source": [
    "###############################################################\n",
    "## cisc5352.lecture.8.demoKNNSVMIVPrecition.py\n",
    "## This is a sample file for CISC5352: Financial data analytics\n",
    "## Author: Henry Han\n",
    "## Last update: Nov 14, 2016\n",
    "################################################################\n",
    "\n",
    "# Import packages\n",
    "\n",
    "from sklearn.cross_validation import train_test_split\n",
    "from sklearn.neighbors import KNeighborsRegressor\n",
    "from sklearn import svm\n",
    "import numpy as np\n",
    "import csv\n",
    "import time\n",
    "\n",
    "######################################\n",
    "##  Read data from CSV file\n",
    "#######################################\n",
    "\n",
    "filename='Option_Data_2000.csv' # aka 'cisc5352.project.1.option_data.csv' first 2000 features\n",
    "Data    = csv.reader(open(filename, 'r'))\n",
    "\n",
    "# Save the original data into list\n",
    "Data_input    = []\n",
    "Data_response = []\n",
    "\n",
    "# Read the data from csv file\n",
    "# response variable: implied volaility\n",
    "\n",
    "for row in Data:\n",
    "    Data_response.append(row[7])  # implied volaility\n",
    "    row.pop(7)\n",
    "    Data_input.append(row)\n",
    "\n",
    "# Delete the header information in data and response variables\n",
    "Data_response.pop(0)\n",
    "Data_input.pop(0)\n",
    "\n",
    "\n",
    "# Convert the data from string to float: a wordy approach\n",
    "Data_input_convert    = []\n",
    "Data_response_convert = []\n",
    "\n",
    "for each_row in Data_input:\n",
    "    temp = []\n",
    "    for entry in each_row:\n",
    "        temp.append(float(entry))\n",
    "    Data_input_convert.append(temp)\n",
    "\n",
    "for response_variable_entry in Data_response:\n",
    "    Data_response_convert.append(float(response_variable_entry))\n",
    "\n",
    "Data_input    = Data_input_convert\n",
    "Data_response = Data_response_convert\n",
    "\n",
    "\n",
    "\n",
    "# Pick only first N samples\n",
    "N             = 1000    # large N can lead a slow SVM!\n",
    "Data_input    = Data_input[0:N]\n",
    "Data_response = Data_response[0:N]\n",
    "\n",
    "# Split the data set into training data(80%) and testing data(20%)\n",
    "\n",
    "Input_train, Input_test, Response_train, Response_test = \\\n",
    "    train_test_split(Data_input, Data_response, test_size=0.2, random_state=42)\n",
    "\n",
    "\n",
    "## Mean square error: MSE\n",
    "def get_MSE(Error):\n",
    "    mse=np.sum(np.power(Error,2))\n",
    "    mse=mse/len(Error)\n",
    "    return mse\n",
    "\n",
    "kNN = KNeighborsRegressor(n_neighbors=5, weights='distance')\n",
    "kNN.fit(Input_train, Response_train)\n",
    "\n",
    "## performance analysis parameters\n",
    "\n",
    "Error_KNN   = [None] * len(Input_test)\n",
    "predictedIV = Error_KNN\n",
    "\n",
    "##predicted implied votatility\n",
    "predictedIV = kNN.predict(Input_test)\n",
    "Error_KNN   = abs(Response_test - predictedIV)\n",
    "\n",
    "\n",
    "# Model Evaluation\n",
    "\n",
    "print('\\n\\nThe KNN Model Peformance Summary as follows:')\n",
    "print('The MSE is           {:20.16f}'.format(get_MSE(Error_KNN)))\n",
    "print('The mean error is    {:20.16f}'.format(np.mean(Error_KNN)))\n",
    "print('The maximum error is {:20.16f}'.format(max(Error_KNN)))\n",
    "print('The minimum error is {:20.16f}'.format(min(Error_KNN)))\n",
    "\n",
    "\n",
    "print('\\n')\n",
    "\n",
    "# 'poly cab take more time than 'linear' and 'rbf'\n",
    "kernel_list=['linear', 'rbf']\n",
    "\n",
    "# print Input_train\n",
    "\n",
    "for kernel in kernel_list:\n",
    "    print(\"\\n Wait, SVM  results under kernel: \" + str(kernel)+ \"\\n\")\n",
    "    t = svm.SVR(kernel=kernel, cache_size=500)\n",
    "    t.fit(Input_train, Response_train)\n",
    "\n",
    "    ##predicted implied votatility\n",
    "    predictedSVMIV = t.predict(Input_test)\n",
    "\n",
    "\n",
    "    Error_SVM = [None] * len(Input_test)\n",
    "    Error_SVM   = abs(Response_test - predictedSVMIV)\n",
    "\n",
    "\n",
    "# Model Evaluation\n",
    "\n",
    "    print('\\n\\nThe SVM Model Peformance Summary as follows:')\n",
    "    print('The MSE is           {:20.16f}'.format(get_MSE(Error_SVM)))\n",
    "    print('The mean error is    {:20.16f}'.format(np.mean(Error_SVM)))\n",
    "    print('The maximum error is {:20.16f}'.format(max(Error_SVM)))\n",
    "    print('The minimum error is {:20.16f}'.format(min(Error_SVM)))"
   ]
  },
  {
   "cell_type": "code",
   "execution_count": 19,
   "metadata": {
    "collapsed": false
   },
   "outputs": [
    {
     "data": {
      "text/plain": [
       "GradientBoostingRegressor(alpha=0.9, init=None, learning_rate=0.01, loss='ls',\n",
       "             max_depth=6, max_features=None, max_leaf_nodes=None,\n",
       "             min_samples_leaf=1, min_samples_split=2,\n",
       "             min_weight_fraction_leaf=0.0, n_estimators=1000,\n",
       "             presort='auto', random_state=None, subsample=1.0, verbose=0,\n",
       "             warm_start=False)"
      ]
     },
     "execution_count": 19,
     "metadata": {},
     "output_type": "execute_result"
    }
   ],
   "source": [
    "from sklearn import ensemble\n",
    "# Train the model via KNN regression\n",
    "# k=5 for training\n",
    "params = {'n_estimators':1000,'max_depth':6, 'min_samples_split':2, 'learning_rate':0.01, 'loss':'ls'}\n",
    "gb = ensemble.GradientBoostingRegressor(**params)\n",
    "gb.fit(Input_train, Response_train)"
   ]
  },
  {
   "cell_type": "code",
   "execution_count": 21,
   "metadata": {
    "collapsed": false
   },
   "outputs": [
    {
     "name": "stdout",
     "output_type": "stream",
     "text": [
      "[  9.14468954e-03   3.12921126e-03   2.01261537e-02   7.92557872e-03\n",
      "   1.66646392e-02   9.23873394e-02   4.26936770e-02   2.80732783e-02\n",
      "   5.70874790e-03   2.06936823e-02   8.20164532e-04   3.89585809e-03\n",
      "   3.55621607e-02   7.86061222e-03   1.65740749e-01   6.88540492e-02\n",
      "   2.67584836e-02   1.56717410e-02   2.41317381e-02   2.02936173e-02\n",
      "   2.69337889e-01   5.89571915e-04   9.14051911e-03   2.60018409e-02\n",
      "   5.41867075e-02   8.33482274e-03   6.10113334e-03   1.66792882e-02\n",
      "   1.81163307e-03   1.49881480e-01   1.48442224e-03   9.40474395e-03\n",
      "   1.84082283e-02   1.39724846e-01   1.27395514e-03   4.07596065e-02\n",
      "   6.56517925e-02   2.28337671e-02   2.26306558e-03   9.83418198e-02\n",
      "   4.41144809e-02   2.33934592e-02   1.83168972e-02   2.38040052e-02\n",
      "   4.59350259e-02   8.29316419e-03   2.74940242e-02   2.88962881e-02\n",
      "   3.97116450e-02   7.56579875e-02   8.65061944e-03   3.24744751e-02\n",
      "   6.56700084e-02   8.33344308e-04   2.61699083e-02   1.20499474e-02\n",
      "   3.83881690e-02   3.83999692e-02   8.38245071e-03   2.43105749e-02\n",
      "   3.98715507e-02   2.77845767e-01   2.65089923e-02   5.32930342e-02\n",
      "   5.02510780e-02   2.72340396e-02   1.09584539e-02   5.50564380e-02\n",
      "   9.73425085e-03   9.03559476e-02   1.11666817e-02   4.76636914e-02\n",
      "   1.03126921e-01   2.85363583e-02   5.76559808e-02   1.20735546e-02\n",
      "   3.96849470e-02   2.08429479e-01   7.19016146e-02   2.18195818e-02\n",
      "   2.95624726e-01   1.09068276e-01   8.70810306e-03   6.59466649e-02\n",
      "   8.04820703e-02   1.01256136e-01   8.31082742e-03   2.24068522e-01\n",
      "   2.97118743e-03   1.42329398e-02   2.63924484e-01   7.12445348e-02\n",
      "   1.63253212e-02   9.91985414e-03   3.01499869e-03   5.34085200e-02\n",
      "   6.88782929e-02   4.05615808e-02   1.26939016e-01   1.17078857e-01\n",
      "   9.68370160e-02   1.36939760e-01   3.39819710e-01   2.72941076e-02\n",
      "   2.48988644e-03   8.50480225e-02   4.87903531e-02   1.31328426e-03\n",
      "   3.05504680e-02   1.55786189e-03   1.71467016e-02   1.85000690e-02\n",
      "   4.03561130e-02   7.12259045e-02   7.09171320e-02   1.71073477e-02\n",
      "   5.29815248e-02   1.37477619e-02   1.02503591e-03   8.82731410e-02\n",
      "   8.44618618e-02   4.54966263e-02   1.18318068e-02   6.76423882e-03\n",
      "   6.25407160e-01   3.21230181e-04   1.94254477e-01   5.95981217e-03\n",
      "   5.42510051e-02   2.95997630e-02   3.19498294e-02   8.65726582e-02\n",
      "   3.07547522e-02   2.88272968e-02   1.70339124e-03   2.39993109e-02\n",
      "   1.56410923e-02   1.28734594e-02   7.71259711e-02   2.32836032e-01\n",
      "   6.39106842e-02   3.31733634e-03   1.68619713e-02   1.13828810e-02\n",
      "   5.63793609e-03   1.02149462e-02   1.34011906e-02   2.45932471e-02\n",
      "   1.67326173e-02   3.34344675e-02   2.60544325e-02   5.36971913e-02\n",
      "   6.07276556e-03   4.18158819e-02   1.83589387e-01   2.30842627e-02\n",
      "   1.31441926e-02   3.35596455e-02   1.54402332e-01   1.97254522e-01\n",
      "   3.59402082e-02   1.74501117e-02   1.96493177e-02   1.06100525e-02\n",
      "   1.35435690e-01   3.39422236e-03   4.22420125e-02   3.06004856e-03\n",
      "   1.20509697e-01   1.97844331e-02   1.99910998e-02   1.35777160e-01\n",
      "   3.66688001e-02   3.29616161e-03   3.55278650e-02   7.98072610e-03\n",
      "   3.13605930e-01   1.54938769e-01   2.01694067e-02   1.23692972e-01\n",
      "   4.80852826e-01   3.11102762e-02   1.20973517e-01   1.79793949e-02\n",
      "   6.46012753e-02   2.54701509e-02   5.01339194e-02   6.57195899e-01\n",
      "   9.46765434e-02   2.25504272e-01   1.75834807e-01   1.19694842e-01\n",
      "   5.69237704e-04   9.87283981e-02   2.01377187e-02   4.11988824e-03\n",
      "   1.42182465e-01   7.78905572e-02   8.79937435e-03   1.19835315e-01]\n"
     ]
    }
   ],
   "source": [
    "Error_KNN   = [None] * len(Input_test)\n",
    "predictedIV = Error_KNN\n",
    "\n",
    "##predicted implied votatility\n",
    "predictedIV = gb.predict(Input_test)\n",
    "Error_gb  = abs(Response_test - predictedIV)\n",
    "print(Error_gb)"
   ]
  },
  {
   "cell_type": "code",
   "execution_count": 23,
   "metadata": {
    "collapsed": false
   },
   "outputs": [
    {
     "data": {
      "text/plain": [
       "0.062825786255800264"
      ]
     },
     "execution_count": 23,
     "metadata": {},
     "output_type": "execute_result"
    }
   ],
   "source": [
    "import numpy as np\n",
    "np.mean(Error_gb)"
   ]
  },
  {
   "cell_type": "code",
   "execution_count": 25,
   "metadata": {
    "collapsed": false
   },
   "outputs": [
    {
     "data": {
      "text/plain": [
       "0.10470630987690045"
      ]
     },
     "execution_count": 25,
     "metadata": {},
     "output_type": "execute_result"
    }
   ],
   "source": [
    "params = {'n_estimators':20,'min_samples_split':2}\n",
    "rf = ensemble.GradientBoostingRegressor(**params)\n",
    "rf.fit(Input_train, Response_train)\n",
    "Error_rf   = [None] * len(Input_test)\n",
    "predictedIV = Error_rf\n",
    "\n",
    "##predicted implied votatility\n",
    "predictedIV = rf.predict(Input_test)\n",
    "Error_rf  = abs(Response_test - predictedIV)\n",
    "np.mean(Error_rf)"
   ]
  }
 ],
 "metadata": {
  "anaconda-cloud": {},
  "kernelspec": {
   "display_name": "Python [default]",
   "language": "python",
   "name": "python3"
  },
  "language_info": {
   "codemirror_mode": {
    "name": "ipython",
    "version": 3
   },
   "file_extension": ".py",
   "mimetype": "text/x-python",
   "name": "python",
   "nbconvert_exporter": "python",
   "pygments_lexer": "ipython3",
   "version": "3.5.2"
  }
 },
 "nbformat": 4,
 "nbformat_minor": 0
}
