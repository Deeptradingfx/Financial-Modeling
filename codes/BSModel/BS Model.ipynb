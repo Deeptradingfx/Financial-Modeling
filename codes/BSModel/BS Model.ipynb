{
 "cells": [
  {
   "cell_type": "code",
   "execution_count": 1,
   "metadata": {
    "collapsed": false
   },
   "outputs": [
    {
     "data": {
      "text/plain": [
       "9223372036854775807"
      ]
     },
     "execution_count": 1,
     "metadata": {},
     "output_type": "execute_result"
    }
   ],
   "source": [
    "import sys\n",
    "sys.maxsize"
   ]
  },
  {
   "cell_type": "markdown",
   "metadata": {},
   "source": [
    "## The limit of Python is 2**63 - 1 while the limit of C++ is 2**32. C++ has limitation because it needs complition  "
   ]
  },
  {
   "cell_type": "code",
   "execution_count": 3,
   "metadata": {
    "collapsed": false
   },
   "outputs": [
    {
     "data": {
      "text/plain": [
       "63"
      ]
     },
     "execution_count": 3,
     "metadata": {},
     "output_type": "execute_result"
    }
   ],
   "source": [
    "sys.maxsize.bit_length()"
   ]
  },
  {
   "cell_type": "code",
   "execution_count": 4,
   "metadata": {
    "collapsed": false
   },
   "outputs": [
    {
     "data": {
      "text/plain": [
       "1"
      ]
     },
     "execution_count": 4,
     "metadata": {},
     "output_type": "execute_result"
    }
   ],
   "source": [
    "2**63 - sys.maxsize"
   ]
  },
  {
   "cell_type": "code",
   "execution_count": 6,
   "metadata": {
    "collapsed": true
   },
   "outputs": [],
   "source": [
    "t = sys.maxsize**10"
   ]
  },
  {
   "cell_type": "code",
   "execution_count": 7,
   "metadata": {
    "collapsed": false
   },
   "outputs": [
    {
     "data": {
      "text/plain": [
       "630"
      ]
     },
     "execution_count": 7,
     "metadata": {},
     "output_type": "execute_result"
    }
   ],
   "source": [
    "t.bit_length()"
   ]
  },
  {
   "cell_type": "code",
   "execution_count": 8,
   "metadata": {
    "collapsed": true
   },
   "outputs": [],
   "source": [
    "M49 = 2**74207281 -1"
   ]
  },
  {
   "cell_type": "code",
   "execution_count": 9,
   "metadata": {
    "collapsed": false
   },
   "outputs": [
    {
     "data": {
      "text/plain": [
       "74207281"
      ]
     },
     "execution_count": 9,
     "metadata": {},
     "output_type": "execute_result"
    }
   ],
   "source": [
    "M49.bit_length()"
   ]
  },
  {
   "cell_type": "markdown",
   "metadata": {},
   "source": [
    "## BS Model\n",
    "stock pays no dividents\n",
    "\n",
    "returns are normal distribution\n",
    "\n",
    "no transaction cost\n",
    "European options\n",
    "\n",
    "a partial derivative differential equation\n",
    "sigma is the volatility(standard deviation)\n"
   ]
  },
  {
   "cell_type": "code",
   "execution_count": 11,
   "metadata": {
    "collapsed": true
   },
   "outputs": [],
   "source": [
    "## Option is the right to buy or sell a stock"
   ]
  },
  {
   "cell_type": "markdown",
   "metadata": {},
   "source": [
    "## Hart algorithm\n",
    "cumulative density function and probability density function"
   ]
  },
  {
   "cell_type": "code",
   "execution_count": 13,
   "metadata": {
    "collapsed": true
   },
   "outputs": [],
   "source": [
    "from math import log, sqrt, exp"
   ]
  },
  {
   "cell_type": "code",
   "execution_count": 14,
   "metadata": {
    "collapsed": true
   },
   "outputs": [],
   "source": [
    "from scipy import stats"
   ]
  },
  {
   "cell_type": "code",
   "execution_count": 15,
   "metadata": {
    "collapsed": true
   },
   "outputs": [],
   "source": [
    "def bs_call_value(S,K,T,r,sigma):\n",
    "    d1 = (log(S/K) + (r+0.5*sigma**2)*T)/(sigma*sqrt(T))\n",
    "    d2 = d1 - sigma*sqrt(T)\n",
    "    \n",
    "    N_d1 = stats.norm.cdf(d1,0.0,1.0)\n",
    "    N_d2 = stats.norm.cdf(d2,0.0,1.0)\n",
    "    \n",
    "    call_price = (S*N_d1 - K*exp(-r * T) * N_d2)\n",
    "    \n",
    "    return call_price"
   ]
  },
  {
   "cell_type": "code",
   "execution_count": 17,
   "metadata": {
    "collapsed": false
   },
   "outputs": [
    {
     "data": {
      "text/plain": [
       "1.7288248467919196"
      ]
     },
     "execution_count": 17,
     "metadata": {},
     "output_type": "execute_result"
    }
   ],
   "source": [
    "S = 89.0\n",
    "K = 100.0\n",
    "T = 0.5\n",
    "r = 0.02\n",
    "sigma = 0.2\n",
    "\n",
    "call_price = bs_call_value(S,K,T,r,sigma)\n",
    "call_price"
   ]
  },
  {
   "cell_type": "code",
   "execution_count": 21,
   "metadata": {
    "collapsed": false
   },
   "outputs": [
    {
     "name": "stdout",
     "output_type": "stream",
     "text": [
      "This European call price is: $  1.7288248467919196\n"
     ]
    }
   ],
   "source": [
    "print(\"This European call price is: ${:20.16f}\".format(call_price))"
   ]
  },
  {
   "cell_type": "code",
   "execution_count": 22,
   "metadata": {
    "collapsed": true
   },
   "outputs": [],
   "source": [
    "##20 digits and 16 digits after dot"
   ]
  },
  {
   "cell_type": "code",
   "execution_count": 25,
   "metadata": {
    "collapsed": true
   },
   "outputs": [],
   "source": [
    "S = 102.5\n",
    "K = 88.5\n",
    "r = 0.03\n",
    "T = 0.25\n",
    "sigma = 0.3"
   ]
  },
  {
   "cell_type": "code",
   "execution_count": 27,
   "metadata": {
    "collapsed": true
   },
   "outputs": [],
   "source": [
    "def bs_call_put(S,K,T,r,sigma):\n",
    "    d1 = (log(S/K) + (r+0.5*sigma**2)*T)/(sigma*sqrt(T))\n",
    "    d2 = d1 - sigma*sqrt(T)\n",
    "    \n",
    "    N_d1 = stats.norm.cdf(-d1,0.0,1.0)\n",
    "    N_d2 = stats.norm.cdf(-d2,0.0,1.0)\n",
    "    \n",
    "    put_price = -S*N_d1 + K*exp(-r * T) * N_d2\n",
    "    \n",
    "    return put_price"
   ]
  },
  {
   "cell_type": "code",
   "execution_count": 29,
   "metadata": {
    "collapsed": false
   },
   "outputs": [],
   "source": [
    "put_price = bs_call_put(S,K,T,r,sigma)"
   ]
  },
  {
   "cell_type": "code",
   "execution_count": 31,
   "metadata": {
    "collapsed": false
   },
   "outputs": [
    {
     "name": "stdout",
     "output_type": "stream",
     "text": [
      "This European put price is: $1.119610\n"
     ]
    }
   ],
   "source": [
    "print(\"This European put price is: $%f\"%(put_price))"
   ]
  },
  {
   "cell_type": "markdown",
   "metadata": {},
   "source": [
    "# Monte Carlo Simulation"
   ]
  },
  {
   "cell_type": "code",
   "execution_count": 34,
   "metadata": {
    "collapsed": false
   },
   "outputs": [],
   "source": [
    "#dS = rSdt + &Sdz\n",
    "## dz is normal distribution\n",
    "## The little change in a stock price at time T is a random walk times volatility and current price"
   ]
  },
  {
   "cell_type": "code",
   "execution_count": 36,
   "metadata": {
    "collapsed": true
   },
   "outputs": [],
   "source": [
    "from numpy import *"
   ]
  },
  {
   "cell_type": "code",
   "execution_count": 37,
   "metadata": {
    "collapsed": true
   },
   "outputs": [],
   "source": [
    "random.seed(1000)\n",
    "N = 100000\n",
    "z = random.standard_normal(N)"
   ]
  },
  {
   "cell_type": "code",
   "execution_count": 38,
   "metadata": {
    "collapsed": false
   },
   "outputs": [
    {
     "name": "stdout",
     "output_type": "stream",
     "text": [
      "    -0.80445830\n",
      "     0.32093155\n",
      "    -0.02548288\n",
      "     0.64432383\n",
      "    -0.30079667\n",
      "     0.38947455\n",
      "    -0.10743730\n",
      "    -0.47998308\n",
      "     0.59503550\n",
      "    -0.46466753\n",
      "     0.66728131\n",
      "    -0.80611561\n",
      "    -1.19606983\n",
      "    -0.40596016\n",
      "    -0.18237734\n",
      "     0.10319289\n",
      "    -0.13842199\n",
      "     0.70569237\n",
      "     1.27179528\n",
      "    -0.98674733\n"
     ]
    }
   ],
   "source": [
    "for i in range(0,20):\n",
    "    print(\"{:15.8f}\".format(z[i]))"
   ]
  },
  {
   "cell_type": "code",
   "execution_count": 39,
   "metadata": {
    "collapsed": true
   },
   "outputs": [],
   "source": [
    "def mc_simulation_eu_call(s, K, T, r, no_trial):\n",
    "    # Input:\n",
    "    ##s: initial input\n",
    "    ##K: strike price\n",
    "    ## T: time to maturity time\n",
    "    ## r: riskless interest rate\n",
    "    ## no_trial: simulation steps\n",
    "    \n",
    "    ##Output:\n",
    "    ## european call price\n",
    "    \n",
    "    random.seed(10000)\n",
    "    z = random.standard_normal(no_trial)\n",
    "    ## stock price at Time T\n",
    "    ST = s*exp(r*T+sigma*sqrt(T)*z)\n",
    "    payoff = maximum(ST - K,0)\n",
    "    eu_call_price = exp(-r*T)*sum(payoff)/no_trial\n",
    "    \n",
    "    return eu_call_price"
   ]
  },
  {
   "cell_type": "code",
   "execution_count": 40,
   "metadata": {
    "collapsed": true
   },
   "outputs": [],
   "source": [
    "s = 89.0\n",
    "K = 102.0\n",
    "T = 0.5\n",
    "r = 0.03\n",
    "sigma = 0.3\n",
    "no_trial = 1000000"
   ]
  },
  {
   "cell_type": "code",
   "execution_count": 41,
   "metadata": {
    "collapsed": false
   },
   "outputs": [
    {
     "data": {
      "text/plain": [
       "4.2040649884948111"
      ]
     },
     "execution_count": 41,
     "metadata": {},
     "output_type": "execute_result"
    }
   ],
   "source": [
    "mc_simulation_eu_call(s, K, T, r, no_trial)"
   ]
  },
  {
   "cell_type": "code",
   "execution_count": 1,
   "metadata": {
    "collapsed": true
   },
   "outputs": [],
   "source": [
    "def mc_simulation_eu_put(s, K, T, r, no_trial):\n",
    "    # Input:\n",
    "    ##s: initial input\n",
    "    ##K: strike prive\n",
    "    ## T: time to maturity time\n",
    "    ## r: riskless interest rate\n",
    "    ## no_trial: simulation steps\n",
    "    \n",
    "    ##Output:\n",
    "    ## european call price\n",
    "    \n",
    "    random.seed(10000)\n",
    "    z = random.standard_normal(no_trial)\n",
    "    ## stock price at Time T\n",
    "    ST = s*exp(r*T+sigma*sqrt(T)*z)\n",
    "    payoff = maximum(K - ST,0)\n",
    "    eu_put_price = exp(-r*T)*sum(payoff)/no_trial\n",
    "    \n",
    "    return eu_put_price"
   ]
  }
 ],
 "metadata": {
  "anaconda-cloud": {},
  "kernelspec": {
   "display_name": "Python [Root]",
   "language": "python",
   "name": "Python [Root]"
  },
  "language_info": {
   "codemirror_mode": {
    "name": "ipython",
    "version": 3
   },
   "file_extension": ".py",
   "mimetype": "text/x-python",
   "name": "python",
   "nbconvert_exporter": "python",
   "pygments_lexer": "ipython3",
   "version": "3.5.2"
  }
 },
 "nbformat": 4,
 "nbformat_minor": 0
}
