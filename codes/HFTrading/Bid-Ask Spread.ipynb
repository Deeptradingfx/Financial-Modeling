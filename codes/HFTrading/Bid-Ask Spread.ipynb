{
 "cells": [
  {
   "cell_type": "code",
   "execution_count": 1,
   "metadata": {
    "collapsed": false
   },
   "outputs": [
    {
     "name": "stdout",
     "output_type": "stream",
     "text": [
      " Volume in drive C is OS\n",
      " Volume Serial Number is C803-CD91\n",
      "\n",
      " Directory of C:\\Users\\Miya\\OneDrive\\financial-programming\\files\\financial programming-HOMEWORK\\2HFT\n",
      "\n",
      "12/17/2016  09:00 PM    <DIR>          .\n",
      "12/17/2016  09:00 PM    <DIR>          ..\n",
      "12/17/2016  04:18 PM    <DIR>          .ipynb_checkpoints\n",
      "12/09/2016  10:24 PM           216,053 2HFT.pdf\n",
      "12/17/2016  08:53 PM        31,942,656 JNJ.db\n",
      "12/09/2016  10:24 PM        38,242,798 TAQ_CAT_FEB_2010_trading_.csv\n",
      "12/09/2016  10:24 PM        23,299,333 TAQ_CAT_QUOTE_0104_2010.csv\n",
      "12/09/2016  10:24 PM        17,621,773 TAQ_JNJ_1004_1015_2010_trading_.csv\n",
      "12/17/2016  08:53 PM        24,177,271 TAQ_JNJ_1004_1015_2010_trading_normal_hours.csv\n",
      "12/17/2016  09:00 PM           169,518 Untitled.ipynb\n",
      "               7 File(s)    135,669,402 bytes\n",
      "               3 Dir(s)  81,777,041,408 bytes free\n"
     ]
    }
   ],
   "source": [
    "ls"
   ]
  },
  {
   "cell_type": "code",
   "execution_count": 20,
   "metadata": {
    "collapsed": false
   },
   "outputs": [],
   "source": [
    "%matplotlib inline\n",
    "import matplotlib.pyplot as plt\n",
    "import numpy as np\n",
    "import pickle"
   ]
  },
  {
   "cell_type": "code",
   "execution_count": 1,
   "metadata": {
    "collapsed": false
   },
   "outputs": [],
   "source": [
    "with open('TAQ_CAT_QUOTE_0104_2010.csv') as f:\n",
    "    content = f.read()\n",
    "    data = content.split('\\n')\n",
    "    columns = list(filter(lambda x:x!='',data[0].split(' '))) "
   ]
  },
  {
   "cell_type": "code",
   "execution_count": 2,
   "metadata": {
    "collapsed": false
   },
   "outputs": [
    {
     "data": {
      "text/plain": [
       "['DATE', 'Hour', 'Minute', 'Second', 'BID', 'OFR', 'BIDSIZ', 'OFRSIZ']"
      ]
     },
     "execution_count": 2,
     "metadata": {},
     "output_type": "execute_result"
    }
   ],
   "source": [
    "columns"
   ]
  },
  {
   "cell_type": "code",
   "execution_count": 3,
   "metadata": {
    "collapsed": false
   },
   "outputs": [],
   "source": [
    "import sqlite3 as lite\n",
    "con = lite.connect('quote.db')\n",
    "with con:\n",
    "    cur = con.cursor()\n",
    "    cur.execute('drop table if exists quote')\n",
    "    create_table_query = 'create table quote' + '(date,hour,minute,second,bid,ofr,bidsize,ofrsize)'\n",
    "    cur.execute(create_table_query)"
   ]
  },
  {
   "cell_type": "code",
   "execution_count": 5,
   "metadata": {
    "collapsed": false
   },
   "outputs": [],
   "source": [
    "file_length = len(data)\n",
    "for i in range(1, file_length):\n",
    "    row = list(filter(lambda x:x!='',data[i].split(' ')))\n",
    "    query = '''Insert into '''\n",
    "    cur.execute('''Insert into quote values (?,?,?,?,?,?,?,?)''', row)"
   ]
  },
  {
   "cell_type": "code",
   "execution_count": null,
   "metadata": {
    "collapsed": true
   },
   "outputs": [],
   "source": []
  },
  {
   "cell_type": "markdown",
   "metadata": {},
   "source": [
    "# Normal Transaction Window"
   ]
  },
  {
   "cell_type": "code",
   "execution_count": 12,
   "metadata": {
    "collapsed": false
   },
   "outputs": [],
   "source": [
    "with con:\n",
    "    cur = con.cursor()\n",
    "    cur.execute(\"\"\"select * from quote\"\"\")\n",
    "    all_data = cur.fetchall()"
   ]
  },
  {
   "cell_type": "code",
   "execution_count": 13,
   "metadata": {
    "collapsed": false
   },
   "outputs": [],
   "source": [
    "import pandas as pd\n",
    "normal_df = pd.DataFrame(all_data,columns = columns)\n",
    "normal_df.columns = ['date','hour','minute',\n",
    "                     'second','bid','ofr','bidsize','ofrsize']\n",
    "normal_df['bidsize'] = normal_df['bidsize'].astype(float)\n",
    "normal_df['bid'] = normal_df['bid'].astype(float)\n",
    "normal_df['ofr'] = normal_df['ofr'].astype(float)\n",
    "normal_df['ofrsize'] = normal_df['ofrsize'].astype(float)\n",
    "normal_df['time'] = normal_df['date']+normal_df['hour']+normal_df['minute']+normal_df['second']\n",
    "normal_df['time'] = pd.to_datetime(normal_df['time'],format = '%Y%m%d%H%M%S')"
   ]
  },
  {
   "cell_type": "code",
   "execution_count": 15,
   "metadata": {
    "collapsed": true
   },
   "outputs": [],
   "source": [
    "normal_df['bid_offer_diff'] = normal_df['ofr'] - normal_df['bid']"
   ]
  },
  {
   "cell_type": "code",
   "execution_count": 16,
   "metadata": {
    "collapsed": false
   },
   "outputs": [
    {
     "data": {
      "text/html": [
       "<div>\n",
       "<table border=\"1\" class=\"dataframe\">\n",
       "  <thead>\n",
       "    <tr style=\"text-align: right;\">\n",
       "      <th></th>\n",
       "      <th>date</th>\n",
       "      <th>hour</th>\n",
       "      <th>minute</th>\n",
       "      <th>second</th>\n",
       "      <th>bid</th>\n",
       "      <th>ofr</th>\n",
       "      <th>bidsize</th>\n",
       "      <th>ofrsize</th>\n",
       "      <th>time</th>\n",
       "      <th>bid_offer_diff</th>\n",
       "    </tr>\n",
       "  </thead>\n",
       "  <tbody>\n",
       "    <tr>\n",
       "      <th>0</th>\n",
       "      <td>20100104</td>\n",
       "      <td>4</td>\n",
       "      <td>07</td>\n",
       "      <td>00</td>\n",
       "      <td>56.97</td>\n",
       "      <td>57.89</td>\n",
       "      <td>5.0</td>\n",
       "      <td>5.0</td>\n",
       "      <td>2010-01-04 04:07:00</td>\n",
       "      <td>0.92</td>\n",
       "    </tr>\n",
       "    <tr>\n",
       "      <th>1</th>\n",
       "      <td>20100104</td>\n",
       "      <td>4</td>\n",
       "      <td>07</td>\n",
       "      <td>00</td>\n",
       "      <td>56.97</td>\n",
       "      <td>57.89</td>\n",
       "      <td>5.0</td>\n",
       "      <td>5.0</td>\n",
       "      <td>2010-01-04 04:07:00</td>\n",
       "      <td>0.92</td>\n",
       "    </tr>\n",
       "    <tr>\n",
       "      <th>2</th>\n",
       "      <td>20100104</td>\n",
       "      <td>4</td>\n",
       "      <td>07</td>\n",
       "      <td>01</td>\n",
       "      <td>56.98</td>\n",
       "      <td>57.89</td>\n",
       "      <td>5.0</td>\n",
       "      <td>5.0</td>\n",
       "      <td>2010-01-04 04:07:01</td>\n",
       "      <td>0.91</td>\n",
       "    </tr>\n",
       "    <tr>\n",
       "      <th>3</th>\n",
       "      <td>20100104</td>\n",
       "      <td>4</td>\n",
       "      <td>07</td>\n",
       "      <td>37</td>\n",
       "      <td>56.97</td>\n",
       "      <td>57.88</td>\n",
       "      <td>5.0</td>\n",
       "      <td>5.0</td>\n",
       "      <td>2010-01-04 04:07:37</td>\n",
       "      <td>0.91</td>\n",
       "    </tr>\n",
       "    <tr>\n",
       "      <th>4</th>\n",
       "      <td>20100104</td>\n",
       "      <td>4</td>\n",
       "      <td>07</td>\n",
       "      <td>48</td>\n",
       "      <td>56.97</td>\n",
       "      <td>0.00</td>\n",
       "      <td>5.0</td>\n",
       "      <td>0.0</td>\n",
       "      <td>2010-01-04 04:07:48</td>\n",
       "      <td>-56.97</td>\n",
       "    </tr>\n",
       "  </tbody>\n",
       "</table>\n",
       "</div>"
      ],
      "text/plain": [
       "       date hour minute second    bid    ofr  bidsize  ofrsize  \\\n",
       "0  20100104    4     07     00  56.97  57.89      5.0      5.0   \n",
       "1  20100104    4     07     00  56.97  57.89      5.0      5.0   \n",
       "2  20100104    4     07     01  56.98  57.89      5.0      5.0   \n",
       "3  20100104    4     07     37  56.97  57.88      5.0      5.0   \n",
       "4  20100104    4     07     48  56.97   0.00      5.0      0.0   \n",
       "\n",
       "                 time  bid_offer_diff  \n",
       "0 2010-01-04 04:07:00            0.92  \n",
       "1 2010-01-04 04:07:00            0.92  \n",
       "2 2010-01-04 04:07:01            0.91  \n",
       "3 2010-01-04 04:07:37            0.91  \n",
       "4 2010-01-04 04:07:48          -56.97  "
      ]
     },
     "execution_count": 16,
     "metadata": {},
     "output_type": "execute_result"
    }
   ],
   "source": [
    "normal_df.head()"
   ]
  },
  {
   "cell_type": "code",
   "execution_count": null,
   "metadata": {
    "collapsed": true
   },
   "outputs": [],
   "source": []
  },
  {
   "cell_type": "markdown",
   "metadata": {},
   "source": [
    "# Partition trading time"
   ]
  },
  {
   "cell_type": "code",
   "execution_count": 18,
   "metadata": {
    "collapsed": true
   },
   "outputs": [],
   "source": [
    "intervals = ['5Min','10Min','30Min']"
   ]
  },
  {
   "cell_type": "code",
   "execution_count": 34,
   "metadata": {
    "collapsed": false
   },
   "outputs": [
    {
     "name": "stdout",
     "output_type": "stream",
     "text": [
      "For 5Min trading unit, entropy value is 0.4319003226979326\n",
      "For 10Min trading unit, entropy value is 0.41226993890260594\n",
      "For 30Min trading unit, entropy value is 0.38046996298891983\n"
     ]
    }
   ],
   "source": [
    "for interval in intervals:\n",
    "    grouped = normal_df.groupby(pd.TimeGrouper(key = 'time',freq=interval)).aggregate(np.mean)\n",
    "    grouped.to_csv('TAQ_CAT_QUOTE_0104_2010_'+interval+'trading_unit.csv')\n",
    "    V_offer = grouped['ofrsize']\n",
    "    p = V_offer/np.sum(V_offer)\n",
    "    V_bid = grouped['bidsize']\n",
    "    q = V_bid/np.sum(V_bid)\n",
    "    p.replace({0:1})\n",
    "    H_bid= -1*np.sum(q*np.log2(q))\n",
    "    H_offer= -1*np.sum(p*np.log2(p))\n",
    "    entropy = np.sum(p*np.log2(p/q))\n",
    "    print('For %s trading unit, entropy value is %s'%(interval, entropy))"
   ]
  },
  {
   "cell_type": "code",
   "execution_count": null,
   "metadata": {
    "collapsed": true
   },
   "outputs": [],
   "source": []
  }
 ],
 "metadata": {
  "anaconda-cloud": {},
  "kernelspec": {
   "display_name": "Python [default]",
   "language": "python",
   "name": "python3"
  },
  "language_info": {
   "codemirror_mode": {
    "name": "ipython",
    "version": 3
   },
   "file_extension": ".py",
   "mimetype": "text/x-python",
   "name": "python",
   "nbconvert_exporter": "python",
   "pygments_lexer": "ipython3",
   "version": "3.5.2"
  }
 },
 "nbformat": 4,
 "nbformat_minor": 1
}
