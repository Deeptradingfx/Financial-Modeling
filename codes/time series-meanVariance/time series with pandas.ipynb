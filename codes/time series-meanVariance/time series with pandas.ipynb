{
 "cells": [
  {
   "cell_type": "markdown",
   "metadata": {},
   "source": [
    "All changes w.r.t. t and S is the product of r and f"
   ]
  },
  {
   "cell_type": "markdown",
   "metadata": {},
   "source": [
    "Three BS models in option pricing:\n",
    "* the original BS model\n",
    "* BSM model\n",
    "* generallized BS model\n",
    "\n",
    "multi-threading programming:\n"
   ]
  },
  {
   "cell_type": "markdown",
   "metadata": {},
   "source": [
    "## Pandas Tutorial"
   ]
  },
  {
   "cell_type": "code",
   "execution_count": 5,
   "metadata": {
    "collapsed": true
   },
   "outputs": [],
   "source": [
    "import pandas as pd\n",
    "import math"
   ]
  },
  {
   "cell_type": "code",
   "execution_count": 3,
   "metadata": {
    "collapsed": false
   },
   "outputs": [
    {
     "name": "stdout",
     "output_type": "stream",
     "text": [
      "\n",
      " a series-->alex     1235678\n",
      "bill     2568833\n",
      "tom      3338733\n",
      "david    5903333\n",
      "dtype: int64\n",
      "\n"
     ]
    }
   ],
   "source": [
    "contacts2 = pd.Series([1235678,2568833,3338733,5903333],\n",
    "                     index = ['alex','bill','tom','david'])\n",
    "print(\"\\n a series-->\"+str(contacts2)+'\\n')"
   ]
  },
  {
   "cell_type": "code",
   "execution_count": 6,
   "metadata": {
    "collapsed": false
   },
   "outputs": [
    {
     "name": "stdout",
     "output_type": "stream",
     "text": [
      "0      0.909297\n",
      "1      5.000000\n",
      "2    512.000000\n",
      "3     11.000000\n",
      "4     29.000000\n",
      "dtype: float64\n",
      "0      0.909297\n",
      "1      5.000000\n",
      "3     11.000000\n",
      "4     29.000000\n",
      "2    512.000000\n",
      "dtype: float64\n"
     ]
    },
    {
     "name": "stderr",
     "output_type": "stream",
     "text": [
      "C:\\Users\\Miya\\Anaconda3\\lib\\site-packages\\ipykernel\\__main__.py:9: FutureWarning: sort is deprecated, use sort_values(inplace=True) for INPLACE sorting\n"
     ]
    }
   ],
   "source": [
    "x = range(10)\n",
    "a = pd.Series([math.sin(x[2]),5,math.pow(2,x[9]),11,29])\n",
    "print(a)\n",
    "a.mean()\n",
    "a.std()\n",
    "a.sum()\n",
    "a.quantile(0.95)\n",
    "a.cumsum()\n",
    "a.sort()\n",
    "print(a)"
   ]
  },
  {
   "cell_type": "markdown",
   "metadata": {},
   "source": [
    "## Get the data from Yahoo Finance"
   ]
  },
  {
   "cell_type": "code",
   "execution_count": 7,
   "metadata": {
    "collapsed": false
   },
   "outputs": [
    {
     "name": "stderr",
     "output_type": "stream",
     "text": [
      "C:\\Users\\Miya\\Anaconda3\\lib\\site-packages\\pandas\\io\\data.py:35: FutureWarning: \n",
      "The pandas.io.data module is moved to a separate package (pandas-datareader) and will be removed from pandas in a future version.\n",
      "After installing the pandas-datareader package (https://github.com/pydata/pandas-datareader), you can change the import ``from pandas.io import data, wb`` to ``from pandas_datareader import data, wb``.\n",
      "  FutureWarning)\n"
     ]
    }
   ],
   "source": [
    "import numpy as np\n",
    "import pandas as pd\n",
    "import pandas.io.data as web"
   ]
  },
  {
   "cell_type": "code",
   "execution_count": 15,
   "metadata": {
    "collapsed": false
   },
   "outputs": [],
   "source": [
    "s_date = '6/1/2010'\n",
    "e_date = '6/1/2015'\n",
    "goog = web.DataReader('GOOG',data_source = 'google',start = s_date,end = e_date)"
   ]
  },
  {
   "cell_type": "markdown",
   "metadata": {},
   "source": [
    "### Look at the data"
   ]
  },
  {
   "cell_type": "code",
   "execution_count": 12,
   "metadata": {
    "collapsed": false
   },
   "outputs": [
    {
     "name": "stdout",
     "output_type": "stream",
     "text": [
      "DatetimeIndex(['2010-06-01', '2010-06-02', '2010-06-03', '2010-06-04',\n",
      "               '2010-06-07', '2010-06-08', '2010-06-09', '2010-06-10',\n",
      "               '2010-06-11', '2010-06-14',\n",
      "               ...\n",
      "               '2015-05-18', '2015-05-19', '2015-05-20', '2015-05-21',\n",
      "               '2015-05-22', '2015-05-26', '2015-05-27', '2015-05-28',\n",
      "               '2015-05-29', '2015-06-01'],\n",
      "              dtype='datetime64[ns]', name='Date', length=1259, freq=None)\n"
     ]
    }
   ],
   "source": [
    "g_idx = goog.index\n",
    "print(g_idx)"
   ]
  },
  {
   "cell_type": "code",
   "execution_count": 20,
   "metadata": {
    "collapsed": true
   },
   "outputs": [],
   "source": [
    "g_head = goog.head()\n",
    "g_tail = goog.tail()"
   ]
  },
  {
   "cell_type": "code",
   "execution_count": 21,
   "metadata": {
    "collapsed": false
   },
   "outputs": [
    {
     "data": {
      "text/html": [
       "<div>\n",
       "<table border=\"1\" class=\"dataframe\">\n",
       "  <thead>\n",
       "    <tr style=\"text-align: right;\">\n",
       "      <th></th>\n",
       "      <th>Open</th>\n",
       "      <th>High</th>\n",
       "      <th>Low</th>\n",
       "      <th>Close</th>\n",
       "      <th>Volume</th>\n",
       "    </tr>\n",
       "    <tr>\n",
       "      <th>Date</th>\n",
       "      <th></th>\n",
       "      <th></th>\n",
       "      <th></th>\n",
       "      <th></th>\n",
       "      <th></th>\n",
       "    </tr>\n",
       "  </thead>\n",
       "  <tbody>\n",
       "    <tr>\n",
       "      <th>2010-06-01</th>\n",
       "      <td>239.97</td>\n",
       "      <td>245.28</td>\n",
       "      <td>239.82</td>\n",
       "      <td>240.94</td>\n",
       "      <td>NaN</td>\n",
       "    </tr>\n",
       "    <tr>\n",
       "      <th>2010-06-02</th>\n",
       "      <td>243.10</td>\n",
       "      <td>246.69</td>\n",
       "      <td>240.49</td>\n",
       "      <td>246.44</td>\n",
       "      <td>NaN</td>\n",
       "    </tr>\n",
       "    <tr>\n",
       "      <th>2010-06-03</th>\n",
       "      <td>247.31</td>\n",
       "      <td>253.75</td>\n",
       "      <td>247.10</td>\n",
       "      <td>252.55</td>\n",
       "      <td>NaN</td>\n",
       "    </tr>\n",
       "    <tr>\n",
       "      <th>2010-06-04</th>\n",
       "      <td>249.61</td>\n",
       "      <td>254.37</td>\n",
       "      <td>248.10</td>\n",
       "      <td>249.11</td>\n",
       "      <td>NaN</td>\n",
       "    </tr>\n",
       "    <tr>\n",
       "      <th>2010-06-07</th>\n",
       "      <td>249.28</td>\n",
       "      <td>250.20</td>\n",
       "      <td>241.33</td>\n",
       "      <td>242.52</td>\n",
       "      <td>NaN</td>\n",
       "    </tr>\n",
       "  </tbody>\n",
       "</table>\n",
       "</div>"
      ],
      "text/plain": [
       "              Open    High     Low   Close  Volume\n",
       "Date                                              \n",
       "2010-06-01  239.97  245.28  239.82  240.94     NaN\n",
       "2010-06-02  243.10  246.69  240.49  246.44     NaN\n",
       "2010-06-03  247.31  253.75  247.10  252.55     NaN\n",
       "2010-06-04  249.61  254.37  248.10  249.11     NaN\n",
       "2010-06-07  249.28  250.20  241.33  242.52     NaN"
      ]
     },
     "execution_count": 21,
     "metadata": {},
     "output_type": "execute_result"
    }
   ],
   "source": [
    "g_head"
   ]
  },
  {
   "cell_type": "code",
   "execution_count": 22,
   "metadata": {
    "collapsed": false
   },
   "outputs": [
    {
     "name": "stdout",
     "output_type": "stream",
     "text": [
      "              Open    High\n",
      "Date                      \n",
      "2015-05-26  538.12  539.00\n",
      "2015-05-27  532.80  540.55\n",
      "2015-05-28  538.01  540.61\n",
      "2015-05-29  537.37  538.63\n",
      "2015-06-01  536.79  536.79\n"
     ]
    }
   ],
   "source": [
    "print(g_tail[['Open','High']])"
   ]
  },
  {
   "cell_type": "code",
   "execution_count": 23,
   "metadata": {
    "collapsed": false
   },
   "outputs": [
    {
     "data": {
      "text/plain": [
       "Open      239.97\n",
       "High      245.28\n",
       "Low       239.82\n",
       "Close     240.94\n",
       "Volume       NaN\n",
       "Name: 2010-06-01 00:00:00, dtype: float64"
      ]
     },
     "execution_count": 23,
     "metadata": {},
     "output_type": "execute_result"
    }
   ],
   "source": [
    "goog.loc['20100601']"
   ]
  },
  {
   "cell_type": "code",
   "execution_count": 25,
   "metadata": {
    "collapsed": false
   },
   "outputs": [
    {
     "data": {
      "text/html": [
       "<div>\n",
       "<table border=\"1\" class=\"dataframe\">\n",
       "  <thead>\n",
       "    <tr style=\"text-align: right;\">\n",
       "      <th></th>\n",
       "      <th>Open</th>\n",
       "      <th>High</th>\n",
       "      <th>Low</th>\n",
       "      <th>Close</th>\n",
       "      <th>Volume</th>\n",
       "    </tr>\n",
       "    <tr>\n",
       "      <th>Date</th>\n",
       "      <th></th>\n",
       "      <th></th>\n",
       "      <th></th>\n",
       "      <th></th>\n",
       "      <th></th>\n",
       "    </tr>\n",
       "  </thead>\n",
       "  <tbody>\n",
       "    <tr>\n",
       "      <th>2014-05-21</th>\n",
       "      <td>532.90</td>\n",
       "      <td>539.18</td>\n",
       "      <td>531.91</td>\n",
       "      <td>538.94</td>\n",
       "      <td>1193389.0</td>\n",
       "    </tr>\n",
       "    <tr>\n",
       "      <th>2014-05-22</th>\n",
       "      <td>541.13</td>\n",
       "      <td>547.60</td>\n",
       "      <td>540.78</td>\n",
       "      <td>545.06</td>\n",
       "      <td>1611837.0</td>\n",
       "    </tr>\n",
       "    <tr>\n",
       "      <th>2014-05-23</th>\n",
       "      <td>547.26</td>\n",
       "      <td>553.64</td>\n",
       "      <td>543.70</td>\n",
       "      <td>552.70</td>\n",
       "      <td>1929632.0</td>\n",
       "    </tr>\n",
       "    <tr>\n",
       "      <th>2014-05-27</th>\n",
       "      <td>556.00</td>\n",
       "      <td>566.00</td>\n",
       "      <td>554.35</td>\n",
       "      <td>565.95</td>\n",
       "      <td>2100298.0</td>\n",
       "    </tr>\n",
       "    <tr>\n",
       "      <th>2014-05-28</th>\n",
       "      <td>564.57</td>\n",
       "      <td>567.84</td>\n",
       "      <td>561.00</td>\n",
       "      <td>561.68</td>\n",
       "      <td>1647717.0</td>\n",
       "    </tr>\n",
       "    <tr>\n",
       "      <th>2014-05-29</th>\n",
       "      <td>563.35</td>\n",
       "      <td>564.00</td>\n",
       "      <td>558.71</td>\n",
       "      <td>560.08</td>\n",
       "      <td>1350657.0</td>\n",
       "    </tr>\n",
       "    <tr>\n",
       "      <th>2014-05-30</th>\n",
       "      <td>560.80</td>\n",
       "      <td>561.35</td>\n",
       "      <td>555.91</td>\n",
       "      <td>559.89</td>\n",
       "      <td>1766794.0</td>\n",
       "    </tr>\n",
       "    <tr>\n",
       "      <th>2014-06-02</th>\n",
       "      <td>560.70</td>\n",
       "      <td>560.90</td>\n",
       "      <td>545.73</td>\n",
       "      <td>553.93</td>\n",
       "      <td>1434989.0</td>\n",
       "    </tr>\n",
       "    <tr>\n",
       "      <th>2014-06-03</th>\n",
       "      <td>550.99</td>\n",
       "      <td>552.34</td>\n",
       "      <td>542.55</td>\n",
       "      <td>544.94</td>\n",
       "      <td>1861921.0</td>\n",
       "    </tr>\n",
       "    <tr>\n",
       "      <th>2014-06-04</th>\n",
       "      <td>541.50</td>\n",
       "      <td>548.61</td>\n",
       "      <td>538.75</td>\n",
       "      <td>544.66</td>\n",
       "      <td>1812084.0</td>\n",
       "    </tr>\n",
       "  </tbody>\n",
       "</table>\n",
       "</div>"
      ],
      "text/plain": [
       "              Open    High     Low   Close     Volume\n",
       "Date                                                 \n",
       "2014-05-21  532.90  539.18  531.91  538.94  1193389.0\n",
       "2014-05-22  541.13  547.60  540.78  545.06  1611837.0\n",
       "2014-05-23  547.26  553.64  543.70  552.70  1929632.0\n",
       "2014-05-27  556.00  566.00  554.35  565.95  2100298.0\n",
       "2014-05-28  564.57  567.84  561.00  561.68  1647717.0\n",
       "2014-05-29  563.35  564.00  558.71  560.08  1350657.0\n",
       "2014-05-30  560.80  561.35  555.91  559.89  1766794.0\n",
       "2014-06-02  560.70  560.90  545.73  553.93  1434989.0\n",
       "2014-06-03  550.99  552.34  542.55  544.94  1861921.0\n",
       "2014-06-04  541.50  548.61  538.75  544.66  1812084.0"
      ]
     },
     "execution_count": 25,
     "metadata": {},
     "output_type": "execute_result"
    }
   ],
   "source": [
    "goog[1000:1010]"
   ]
  },
  {
   "cell_type": "markdown",
   "metadata": {},
   "source": [
    "### Save it to the file"
   ]
  },
  {
   "cell_type": "code",
   "execution_count": 26,
   "metadata": {
    "collapsed": true
   },
   "outputs": [],
   "source": [
    "filename = 'goog_stock_data.csv'\n",
    "goog.to_csv(filename,sheet_name = 'sheet1', index = False)"
   ]
  },
  {
   "cell_type": "markdown",
   "metadata": {},
   "source": [
    "### Check if the file exists"
   ]
  },
  {
   "cell_type": "code",
   "execution_count": 28,
   "metadata": {
    "collapsed": false
   },
   "outputs": [
    {
     "name": "stdout",
     "output_type": "stream",
     "text": [
      "\n",
      "goog_stock_data.csvis saved!\n",
      "\n"
     ]
    }
   ],
   "source": [
    "## check if the file exists\n",
    "import os.path\n",
    "if (os.path.isfile(filename) == True):\n",
    "    print(\"\\n\"+filename+\"is saved!\\n\")"
   ]
  },
  {
   "cell_type": "markdown",
   "metadata": {},
   "source": [
    "To know the risk of a stock\n",
    "\n",
    "An important measurement is volatility"
   ]
  },
  {
   "cell_type": "markdown",
   "metadata": {},
   "source": [
    "** We need to calculate the sequence u: log of the ratio of two neighbour close price**"
   ]
  },
  {
   "cell_type": "code",
   "execution_count": 31,
   "metadata": {
    "collapsed": false
   },
   "outputs": [
    {
     "data": {
      "text/plain": [
       "Date\n",
       "2010-06-01    240.94\n",
       "2010-06-02    246.44\n",
       "2010-06-03    252.55\n",
       "2010-06-04    249.11\n",
       "2010-06-07    242.52\n",
       "2010-06-08    242.15\n",
       "2010-06-09    236.77\n",
       "2010-06-10    243.26\n",
       "2010-06-11    244.01\n",
       "2010-06-14    241.35\n",
       "Name: Close, dtype: float64"
      ]
     },
     "execution_count": 31,
     "metadata": {},
     "output_type": "execute_result"
    }
   ],
   "source": [
    "S_i = goog['Close']\n",
    "S_i_minus_1 = goog['Close'].shift(1)\n",
    "S_i[0:10]"
   ]
  },
  {
   "cell_type": "markdown",
   "metadata": {},
   "source": [
    "** Create a u sequence**"
   ]
  },
  {
   "cell_type": "code",
   "execution_count": 32,
   "metadata": {
    "collapsed": true
   },
   "outputs": [],
   "source": [
    "goog['U_sequence'] = np.log(S_i/S_i_minus_1)"
   ]
  },
  {
   "cell_type": "code",
   "execution_count": 33,
   "metadata": {
    "collapsed": true
   },
   "outputs": [],
   "source": [
    "U_sequence = goog['U_sequence']"
   ]
  },
  {
   "cell_type": "markdown",
   "metadata": {},
   "source": [
    "** compute s**"
   ]
  },
  {
   "cell_type": "code",
   "execution_count": 34,
   "metadata": {
    "collapsed": false
   },
   "outputs": [
    {
     "name": "stderr",
     "output_type": "stream",
     "text": [
      "C:\\Users\\Miya\\Anaconda3\\lib\\site-packages\\ipykernel\\__main__.py:1: FutureWarning: pd.rolling_std is deprecated for Series and will be removed in a future version, replace with \n",
      "\tSeries.rolling(window=252,center=False).std()\n",
      "  if __name__ == '__main__':\n"
     ]
    }
   ],
   "source": [
    "s = pd.rolling_std(goog['U_sequence'],window = 252)"
   ]
  },
  {
   "cell_type": "code",
   "execution_count": 35,
   "metadata": {
    "collapsed": true
   },
   "outputs": [],
   "source": [
    "s = goog['U_sequence'].rolling(window = 252)"
   ]
  },
  {
   "cell_type": "code",
   "execution_count": 36,
   "metadata": {
    "collapsed": false
   },
   "outputs": [
    {
     "name": "stderr",
     "output_type": "stream",
     "text": [
      "C:\\Users\\Miya\\Anaconda3\\lib\\site-packages\\ipykernel\\__main__.py:1: FutureWarning: pd.rolling_std is deprecated for Series and will be removed in a future version, replace with \n",
      "\tSeries.rolling(window=252,center=False).std()\n",
      "  if __name__ == '__main__':\n"
     ]
    }
   ],
   "source": [
    "goog['Volatility'] = pd.rolling_std(U_sequence, window = 252)* np.sqrt(252)"
   ]
  },
  {
   "cell_type": "code",
   "execution_count": 41,
   "metadata": {
    "collapsed": false
   },
   "outputs": [],
   "source": [
    " %matplotlib inline"
   ]
  },
  {
   "cell_type": "code",
   "execution_count": 42,
   "metadata": {
    "collapsed": false
   },
   "outputs": [
    {
     "data": {
      "text/plain": [
       "array([<matplotlib.axes._subplots.AxesSubplot object at 0x000000EF33C29F60>,\n",
       "       <matplotlib.axes._subplots.AxesSubplot object at 0x000000EF35424390>], dtype=object)"
      ]
     },
     "execution_count": 42,
     "metadata": {},
     "output_type": "execute_result"
    },
    {
     "data": {
      "image/png": "[encoded data removed]",
      "text/plain": [
       "<matplotlib.figure.Figure at 0xef33c4b278>"
      ]
     },
     "metadata": {},
     "output_type": "display_data"
    }
   ],
   "source": [
    "goog[['Close','Volatility']].plot(subplots = True,color = 'red',figsize=(8,6))"
   ]
  },
  {
   "cell_type": "markdown",
   "metadata": {},
   "source": [
    "## What about Apple?"
   ]
  },
  {
   "cell_type": "code",
   "execution_count": 53,
   "metadata": {
    "collapsed": true
   },
   "outputs": [],
   "source": [
    "s_date = '6/1/2008'\n",
    "e_date = '9/1/2016'\n",
    "apple = web.DataReader('AAPL',data_source = 'google',start = s_date,end = e_date)"
   ]
  },
  {
   "cell_type": "code",
   "execution_count": 54,
   "metadata": {
    "collapsed": false
   },
   "outputs": [
    {
     "name": "stderr",
     "output_type": "stream",
     "text": [
      "C:\\Users\\Miya\\Anaconda3\\lib\\site-packages\\ipykernel\\__main__.py:5: FutureWarning: pd.rolling_std is deprecated for Series and will be removed in a future version, replace with \n",
      "\tSeries.rolling(window=252,center=False).std()\n"
     ]
    }
   ],
   "source": [
    "S_i = apple['Close']\n",
    "S_i_minus_1 = apple['Close'].shift(1)\n",
    "apple['U_sequence'] = np.log(S_i/S_i_minus_1)\n",
    "U_sequence = apple['U_sequence']\n",
    "apple['Volatility'] = pd.rolling_std(U_sequence, window = 252)* np.sqrt(252)"
   ]
  },
  {
   "cell_type": "code",
   "execution_count": 56,
   "metadata": {
    "collapsed": false
   },
   "outputs": [
    {
     "data": {
      "text/plain": [
       "array([<matplotlib.axes._subplots.AxesSubplot object at 0x000000EF355A0400>,\n",
       "       <matplotlib.axes._subplots.AxesSubplot object at 0x000000EF3561F080>], dtype=object)"
      ]
     },
     "execution_count": 56,
     "metadata": {},
     "output_type": "execute_result"
    },
    {
     "data": {
      "image/png": "[encoded data removed]",
      "text/plain": [
       "<matplotlib.figure.Figure at 0xef354b5cf8>"
      ]
     },
     "metadata": {},
     "output_type": "display_data"
    }
   ],
   "source": [
    "apple[['Close','Volatility']].plot(subplots = True,color = 'purple',figsize=(8,6))"
   ]
  }
 ],
 "metadata": {
  "anaconda-cloud": {},
  "kernelspec": {
   "display_name": "Python [Root]",
   "language": "python",
   "name": "Python [Root]"
  },
  "language_info": {
   "codemirror_mode": {
    "name": "ipython",
    "version": 3
   },
   "file_extension": ".py",
   "mimetype": "text/x-python",
   "name": "python",
   "nbconvert_exporter": "python",
   "pygments_lexer": "ipython3",
   "version": "3.5.2"
  }
 },
 "nbformat": 4,
 "nbformat_minor": 0
}
